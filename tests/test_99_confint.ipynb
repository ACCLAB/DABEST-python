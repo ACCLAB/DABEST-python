{
 "cells": [
  {
   "cell_type": "code",
   "execution_count": null,
   "id": "a3d966b3",
   "metadata": {},
   "outputs": [],
   "source": [
    "import numpy as np\n",
    "from scipy.stats import norm\n",
    "from scipy.stats import skewnorm\n",
    "import pandas as pd\n",
    "import pytest\n",
    "\n",
    "import os\n",
    "import sys\n",
    "cur_dir = os.getcwd()\n",
    "pkg_rootdir = os.path.dirname(cur_dir)\n",
    "if pkg_rootdir not in sys.path:\n",
    "    sys.path.append(pkg_rootdir)\n",
    "from dabest._api import load"
   ]
  },
  {
   "cell_type": "markdown",
   "id": "fa5cc9c1",
   "metadata": {},
   "source": [
    "test_paired_mean_diff_ci"
   ]
  },
  {
   "cell_type": "code",
   "execution_count": null,
   "id": "c39d5daa",
   "metadata": {},
   "outputs": [
    {
     "name": "stderr",
     "output_type": "stream",
     "text": [
      "C:\\Users\\zhang\\anaconda3\\lib\\site-packages\\scipy\\stats\\_morestats.py:3337: UserWarning: Exact p-value calculation does not work if there are zeros. Switching to normal approximation.\n",
      "  warnings.warn(\"Exact p-value calculation does not work if there are \"\n"
     ]
    }
   ],
   "source": [
    "# See Altman et al., Statistics with Confidence: \n",
    "# Confidence Intervals and Statistical Guidelines (Second Edition). Wiley, 2000.\n",
    "# Pg 31.\n",
    "# Added in v0.2.5.\n",
    "blood_pressure = {\"before\": [148, 142, 136, 134, 138, 140, 132, 144,\n",
    "                            128, 170, 162, 150, 138, 154, 126, 116],\n",
    "                  \"after\" : [152, 152, 134, 148, 144, 136, 144, 150, \n",
    "                            146, 174, 162, 162, 146, 156, 132, 126],\n",
    "                 \"subject_id\" : np.arange(1, 17)}\n",
    "exercise_bp = pd.DataFrame(blood_pressure)\n",
    "\n",
    "\n",
    "ex_bp = load(data=exercise_bp, idx=(\"before\", \"after\"), \n",
    "             paired=\"baseline\", id_col=\"subject_id\")\n",
    "paired_mean_diff = ex_bp.mean_diff.results\n",
    "\n",
    "assert pytest.approx(3.875) == paired_mean_diff.bca_low[0]\n",
    "assert pytest.approx(9.5) == paired_mean_diff.bca_high[0]"
   ]
  },
  {
   "cell_type": "markdown",
   "id": "de5c07cc",
   "metadata": {},
   "source": [
    "test_unpaired_ci"
   ]
  },
  {
   "cell_type": "code",
   "execution_count": null,
   "id": "11e82b97",
   "metadata": {},
   "outputs": [],
   "source": []
  }
 ],
 "metadata": {
  "kernelspec": {
   "display_name": "Python 3 (ipykernel)",
   "language": "python",
   "name": "python3"
  }
 },
 "nbformat": 4,
 "nbformat_minor": 5
}
