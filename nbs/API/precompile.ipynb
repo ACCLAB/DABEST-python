{
 "cells": [
  {
   "cell_type": "markdown",
   "metadata": {},
   "source": [
    "# precompile\n",
    "\n",
    "> A tool to pre-compile Numba functions for speeding up DABEST bootstrapping\n",
    "\n",
    "- order: 10"
   ]
  },
  {
   "cell_type": "code",
   "execution_count": null,
   "metadata": {},
   "outputs": [],
   "source": [
    "#| default_exp _stats_tools/precompile"
   ]
  },
  {
   "cell_type": "code",
   "execution_count": null,
   "metadata": {},
   "outputs": [],
   "source": [
    "#| hide\n",
    "from __future__ import annotations"
   ]
  },
  {
   "cell_type": "code",
   "execution_count": null,
   "metadata": {},
   "outputs": [],
   "source": [
    "#| hide\n",
    "from nbdev.showdoc import *\n",
    "import nbdev\n",
    "nbdev.nbdev_export()"
   ]
  },
  {
   "cell_type": "code",
   "execution_count": null,
   "metadata": {},
   "outputs": [],
   "source": [
    "#| export\n",
    "import numpy as np\n",
    "from tqdm import tqdm\n",
    "from dabest._stats_tools import effsize\n",
    "from dabest._stats_tools import confint_2group_diff"
   ]
  },
  {
   "cell_type": "code",
   "execution_count": null,
   "metadata": {},
   "outputs": [],
   "source": [
    "#| export\n",
    "\n",
    "_NUMBA_COMPILED = False\n",
    "\n",
    "def precompile_all():\n",
    "    \"\"\"Pre-compile all numba functions with dummy data\"\"\"\n",
    "    global _NUMBA_COMPILED\n",
    "    \n",
    "    if _NUMBA_COMPILED:\n",
    "        return\n",
    "        \n",
    "    print(\"Pre-compiling numba functions for DABEST...\")\n",
    "    \n",
    "    # Create dummy data\n",
    "    dummy_control = np.array([1.0, 2.0, 3.0])\n",
    "    dummy_test = np.array([4.0, 5.0, 6.0])\n",
    "    \n",
    "    funcs = [\n",
    "        # effsize.py functions\n",
    "        (effsize.cohens_d, (dummy_control, dummy_test)),\n",
    "        (effsize._mann_whitney_u, (dummy_control, dummy_test)),\n",
    "        (effsize._cliffs_delta_core, (dummy_control, dummy_test)),\n",
    "        (effsize._compute_standardizers, (dummy_control, dummy_test)),\n",
    "        (effsize.weighted_delta, (np.array([1.0, 2.0]), np.array([0.1, 0.2]))),\n",
    "        \n",
    "        # confint_2group_diff.py functions\n",
    "        (confint_2group_diff.create_jackknife_indexes, (dummy_control,)),\n",
    "        (confint_2group_diff.create_repeated_indexes, (dummy_control,)),\n",
    "        (confint_2group_diff.bootstrap_indices, (True, 3, 3, 10, 12345)),\n",
    "        (confint_2group_diff.delta2_bootstrap_loop, \n",
    "            (dummy_control, dummy_test, dummy_control, dummy_test, 10, 1.0, 12345, False)),\n",
    "        (confint_2group_diff._compute_quantile, (0.5, 0.1, 0.1)),\n",
    "        (confint_2group_diff.calculate_group_var, (1.0, 3, 1.0, 3))\n",
    "    ]\n",
    "    \n",
    "    for func, args in tqdm(funcs, desc=\"Compiling numba functions\"):\n",
    "        func(*args)\n",
    "    \n",
    "    _NUMBA_COMPILED = True\n",
    "    \n",
    "    print(\"Numba compilation complete!\")"
   ]
  }
 ],
 "metadata": {
  "language_info": {
   "name": "python"
  }
 },
 "nbformat": 4,
 "nbformat_minor": 2
}
