{
 "cells": [
  {
   "cell_type": "markdown",
   "id": "f570f144",
   "metadata": {},
   "source": [
    "# misc_tools\n",
    "\n",
    "- order: 9"
   ]
  },
  {
   "cell_type": "code",
   "execution_count": null,
   "id": "7ddd606b",
   "metadata": {},
   "outputs": [],
   "source": [
    "#| default_exp misc_tools"
   ]
  },
  {
   "cell_type": "code",
   "execution_count": null,
   "id": "f82b1fe9",
   "metadata": {},
   "outputs": [],
   "source": [
    "#| hide\n",
    "from __future__ import annotations"
   ]
  },
  {
   "cell_type": "code",
   "execution_count": null,
   "id": "094b4e53",
   "metadata": {},
   "outputs": [],
   "source": [
    "#| hide\n",
    "from nbdev.showdoc import *\n",
    "import nbdev\n",
    "nbdev.nbdev_export()"
   ]
  },
  {
   "cell_type": "code",
   "execution_count": null,
   "id": "6b50da46",
   "metadata": {},
   "outputs": [],
   "source": [
    "#| export\n",
    "def merge_two_dicts(x, y):\n",
    "    \"\"\"\n",
    "    Given two dicts, merge them into a new dict as a shallow copy.\n",
    "    Any overlapping keys in `y` will override the values in `x`.\n",
    "\n",
    "    Taken from https://stackoverflow.com/questions/38987/\n",
    "    how-to-merge-two-python-dictionaries-in-a-single-expression\n",
    "\n",
    "    Parameters:\n",
    "        x, y: dicts\n",
    "\n",
    "    Returns:\n",
    "        A dictionary containing a union of all keys in both original dicts.\n",
    "    \"\"\"\n",
    "    z = x.copy()\n",
    "    z.update(y)\n",
    "    return z\n",
    "\n",
    "\n",
    "\n",
    "def unpack_and_add(l, c):\n",
    "    \"\"\"Convenience function to allow me to add to an existing list\n",
    "    without altering that list.\"\"\"\n",
    "    t = [a for a in l]\n",
    "    t.append(c)\n",
    "    return(t)\n",
    "\n",
    "\n",
    "\n",
    "def print_greeting():\n",
    "    from .__init__ import __version__\n",
    "    import datetime as dt\n",
    "    import numpy as np\n",
    "\n",
    "    line1 = \"DABEST v{}\".format(__version__)\n",
    "    header = \"\".join(np.repeat(\"=\", len(line1)))\n",
    "    spacer = \"\".join(np.repeat(\" \", len(line1)))\n",
    "\n",
    "    now = dt.datetime.now()\n",
    "    if 0 < now.hour < 12:\n",
    "        greeting = \"Good morning!\"\n",
    "    elif 12 < now.hour < 18:\n",
    "        greeting = \"Good afternoon!\"\n",
    "    else:\n",
    "        greeting = \"Good evening!\"\n",
    "\n",
    "    current_time = \"The current time is {}.\".format(now.ctime())\n",
    "\n",
    "    return \"\\n\".join([line1, header, spacer, greeting, current_time])\n",
    "\n",
    "\n",
    "def get_varname(obj):\n",
    "    matching_vars = [k for k,v in globals().items() if v is obj]\n",
    "    if len(matching_vars) > 0:\n",
    "        return matching_vars[0]\n",
    "    else:\n",
    "        return \"\"\n"
   ]
  },
  {
   "cell_type": "code",
   "execution_count": null,
   "id": "4f6841f9",
   "metadata": {},
   "outputs": [],
   "source": []
  }
 ],
 "metadata": {
  "kernelspec": {
   "display_name": "Python 3 (ipykernel)",
   "language": "python",
   "name": "python3"
  }
 },
 "nbformat": 4,
 "nbformat_minor": 5
}
