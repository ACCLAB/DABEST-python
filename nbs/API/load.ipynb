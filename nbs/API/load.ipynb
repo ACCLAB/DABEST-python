{
 "cells": [
  {
   "cell_type": "markdown",
   "metadata": {},
   "source": [
    "# Loading Data\n",
    "\n",
    "> Loading data and relevant groups\n",
    "\n",
    "- order: 1"
   ]
  },
  {
   "cell_type": "code",
   "execution_count": null,
   "metadata": {},
   "outputs": [],
   "source": [
    "#| default_exp _api"
   ]
  },
  {
   "cell_type": "code",
   "execution_count": null,
   "metadata": {},
   "outputs": [],
   "source": [
    "#| hide\n",
    "from __future__ import annotations"
   ]
  },
  {
   "cell_type": "code",
   "execution_count": null,
   "metadata": {},
   "outputs": [],
   "source": [
    "#| hide\n",
    "from nbdev.showdoc import *\n",
    "import nbdev\n",
    "\n",
    "nbdev.nbdev_export()"
   ]
  },
  {
   "cell_type": "code",
   "execution_count": null,
   "metadata": {},
   "outputs": [],
   "source": [
    "#| export\n",
    "def load(\n",
    "    data,\n",
    "    idx=None,\n",
    "    x=None,\n",
    "    y=None,\n",
    "    paired=None,\n",
    "    id_col=None,\n",
    "    ci=95,\n",
    "    resamples=5000,\n",
    "    random_seed=12345,\n",
    "    proportional=False,\n",
    "    delta2=False,\n",
    "    experiment=None,\n",
    "    experiment_label=None,\n",
    "    x1_level=None,\n",
    "    mini_meta=False,\n",
    "):\n",
    "    \"\"\"\n",
    "    Loads data in preparation for estimation statistics.\n",
    "\n",
    "    This is designed to work with pandas DataFrames.\n",
    "\n",
    "    Parameters\n",
    "    ----------\n",
    "    data : pandas DataFrame\n",
    "    idx : tuple\n",
    "        List of column names (if 'x' is not supplied) or of category names\n",
    "        (if 'x' is supplied). This can be expressed as a tuple of tuples,\n",
    "        with each individual tuple producing its own contrast plot\n",
    "    x : string or list, default None\n",
    "        Column name(s) of the independent variable. This can be expressed as\n",
    "        a list of 2 elements if and only if 'delta2' is True; otherwise it\n",
    "        can only be a string.\n",
    "    y : string, default None\n",
    "        Column names for data to be plotted on the x-axis and y-axis.\n",
    "    paired : string, default None\n",
    "        The type of the experiment under which the data are obtained. If 'paired'\n",
    "        is None then the data will not be treated as paired data in the subsequent\n",
    "        calculations. If 'paired' is 'baseline', then in each tuple of x, other\n",
    "        groups will be paired up with the first group (as control). If 'paired' is\n",
    "        'sequential', then in each tuple of x, each group will be paired up with\n",
    "        its previous group (as control).\n",
    "    id_col : default None.\n",
    "        Required if `paired` is True.\n",
    "    ci : integer, default 95\n",
    "        The confidence interval width. The default of 95 produces 95%\n",
    "        confidence intervals.\n",
    "    resamples : integer, default 5000.\n",
    "        The number of resamples taken to generate the bootstraps which are used\n",
    "        to generate the confidence intervals.\n",
    "    random_seed : int, default 12345\n",
    "        This integer is used to seed the random number generator during\n",
    "        bootstrap resampling, ensuring that the confidence intervals\n",
    "        reported are replicable.\n",
    "    proportional : boolean, default False.\n",
    "        An indicator of whether the data is binary or not. When set to True, it\n",
    "        specifies that the data consists of binary data, where the values are\n",
    "        limited to 0 and 1. The code is not suitable for analyzing proportion\n",
    "        data that contains non-numeric values, such as strings like 'yes' and 'no'.\n",
    "        When False or not provided, the algorithm assumes that\n",
    "        the data is continuous and uses a non-proportional representation.\n",
    "    delta2 : boolean, default False\n",
    "        Indicator of delta-delta experiment\n",
    "    experiment : String, default None\n",
    "        The name of the column of the dataframe which contains the label of\n",
    "        experiments\n",
    "    experiment_lab : list, default None\n",
    "        A list of String to specify the order of subplots for delta-delta plots.\n",
    "        This can be expressed as a list of 2 elements if and only if 'delta2'\n",
    "        is True; otherwise it can only be a string.\n",
    "    x1_level : list, default None\n",
    "        A list of String to specify the order of subplots for delta-delta plots.\n",
    "        This can be expressed as a list of 2 elements if and only if 'delta2'\n",
    "        is True; otherwise it can only be a string.\n",
    "    mini_meta : boolean, default False\n",
    "        Indicator of weighted delta calculation.\n",
    "\n",
    "    Returns\n",
    "    -------\n",
    "    A `Dabest` object.\n",
    "    \"\"\"\n",
    "    from dabest import Dabest\n",
    "\n",
    "    return Dabest(\n",
    "        data,\n",
    "        idx,\n",
    "        x,\n",
    "        y,\n",
    "        paired,\n",
    "        id_col,\n",
    "        ci,\n",
    "        resamples,\n",
    "        random_seed,\n",
    "        proportional,\n",
    "        delta2,\n",
    "        experiment,\n",
    "        experiment_label,\n",
    "        x1_level,\n",
    "        mini_meta,\n",
    "    )"
   ]
  },
  {
   "cell_type": "code",
   "execution_count": null,
   "metadata": {},
   "outputs": [],
   "source": [
    "#| export\n",
    "import numpy as np\n",
    "from typing import Union, Optional\n",
    "import pandas as pd\n",
    "\n",
    "\n",
    "def prop_dataset(\n",
    "    group: Union[\n",
    "        list, tuple, np.ndarray, dict\n",
    "    ],  # Accepts lists, tuples, or numpy ndarrays of numeric types.\n",
    "    group_names: Optional[list] = None,\n",
    "):\n",
    "    \"\"\"\n",
    "    Convenient function to generate a dataframe of binary data.\n",
    "    \"\"\"\n",
    "\n",
    "    if isinstance(group, dict):\n",
    "        # If group_names is not provided, use the keys of the dict as group_names\n",
    "        if group_names is None:\n",
    "            group_names = list(group.keys())\n",
    "        elif not set(group_names) == set(group.keys()):\n",
    "            # Check if the group_names provided is the same as the keys of the dict\n",
    "            raise ValueError(\"group_names must be the same as the keys of the dict.\")\n",
    "        \n",
    "        # Check if the values in the dict are numeric\n",
    "        if not all(\n",
    "            [isinstance(group[name], (list, tuple, np.ndarray)) for name in group_names]\n",
    "        ):\n",
    "            raise ValueError(\n",
    "                \"group must be a dict of lists, tuples, or numpy ndarrays of numeric types.\"\n",
    "            )\n",
    "        \n",
    "        # Check if the values in the dict only have two elements under each parent key\n",
    "        if not all([len(group[name]) == 2 for name in group_names]):\n",
    "            raise ValueError(\"Each parent key should have only two elements.\")\n",
    "        group_val = group\n",
    "\n",
    "    else:\n",
    "        if group_names is None:\n",
    "            raise ValueError(\"group_names must be provided if group is not a dict.\")\n",
    "        \n",
    "        # Check if the length of group is two times of the length of group_names\n",
    "        if not len(group) == 2 * len(group_names):\n",
    "            raise ValueError(\n",
    "                \"The length of group must be two times of the length of group_names.\"\n",
    "            )\n",
    "        group_val = {\n",
    "            group_names[i]: [group[i * 2], group[i * 2 + 1]]\n",
    "            for i in range(len(group_names))\n",
    "        }\n",
    "\n",
    "    # Check if the sum of values in group_val under each key are the same\n",
    "    if not all(\n",
    "        [\n",
    "            sum(group_val[name]) == sum(group_val[group_names[0]])\n",
    "            for name in group_val.keys()\n",
    "        ]\n",
    "    ):\n",
    "        raise ValueError(\"The sum of values under each key must be the same.\")\n",
    "\n",
    "    id_col = pd.Series(range(1, sum(group_val[group_names[0]]) + 1))\n",
    "\n",
    "    final_df = pd.DataFrame()\n",
    "\n",
    "    for name in group_val.keys():\n",
    "        col = (\n",
    "            np.repeat(0, group_val[name][0]).tolist()\n",
    "            + np.repeat(1, group_val[name][1]).tolist()\n",
    "        )\n",
    "        df = pd.DataFrame({name: col})\n",
    "        final_df = pd.concat([final_df, df], axis=1)\n",
    "\n",
    "    final_df[\"ID\"] = id_col\n",
    "\n",
    "    return final_df"
   ]
  },
  {
   "cell_type": "markdown",
   "metadata": {},
   "source": [
    "## Example"
   ]
  },
  {
   "cell_type": "code",
   "execution_count": null,
   "metadata": {},
   "outputs": [],
   "source": [
    "import numpy as np\n",
    "import pandas as pd\n",
    "import scipy as sp\n",
    "import dabest"
   ]
  },
  {
   "cell_type": "markdown",
   "metadata": {},
   "source": [
    "Create dummy data for demonstration."
   ]
  },
  {
   "cell_type": "code",
   "execution_count": null,
   "metadata": {},
   "outputs": [],
   "source": [
    "np.random.seed(88888)\n",
    "N = 10\n",
    "c1 = sp.stats.norm.rvs(loc=100, scale=5, size=N)\n",
    "t1 = sp.stats.norm.rvs(loc=115, scale=5, size=N)\n",
    "df = pd.DataFrame({\"Control 1\": c1, \"Test 1\": t1})"
   ]
  },
  {
   "cell_type": "markdown",
   "metadata": {},
   "source": [
    "Load the data."
   ]
  },
  {
   "cell_type": "code",
   "execution_count": null,
   "metadata": {},
   "outputs": [
    {
     "data": {
      "text/plain": [
       "DABEST v2024.03.29\n",
       "==================\n",
       "                  \n",
       "Good afternoon!\n",
       "The current time is Tue Mar 19 15:34:58 2024.\n",
       "\n",
       "Effect size(s) with 95% confidence intervals will be computed for:\n",
       "1. Test 1 minus Control 1\n",
       "\n",
       "5000 resamples will be used to generate the effect size bootstraps."
      ]
     },
     "execution_count": null,
     "metadata": {},
     "output_type": "execute_result"
    }
   ],
   "source": [
    "my_data = dabest.load(df, idx=(\"Control 1\", \"Test 1\"))\n",
    "my_data"
   ]
  },
  {
   "cell_type": "markdown",
   "metadata": {},
   "source": [
    "For proportion plot."
   ]
  },
  {
   "cell_type": "code",
   "execution_count": null,
   "metadata": {},
   "outputs": [],
   "source": [
    "np.random.seed(88888)\n",
    "N = 10\n",
    "c1 = np.random.binomial(1, 0.2, size=N)\n",
    "t1 = np.random.binomial(1, 0.5, size=N)\n",
    "df = pd.DataFrame({\"Control 1\": c1, \"Test 1\": t1})\n",
    "my_data = dabest.load(df, idx=(\"Control 1\", \"Test 1\"), proportional=True)"
   ]
  }
 ],
 "metadata": {
  "kernelspec": {
   "display_name": "python3",
   "language": "python",
   "name": "python3"
  }
 },
 "nbformat": 4,
 "nbformat_minor": 4
}
