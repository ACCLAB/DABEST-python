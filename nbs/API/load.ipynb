{
 "cells": [
  {
   "cell_type": "markdown",
   "metadata": {},
   "source": [
    "# Loading Data\n",
    "\n",
    "> Loading the data and the relevant groups \n",
    "\n",
    "- order: 1"
   ]
  },
  {
   "cell_type": "code",
   "execution_count": null,
   "metadata": {},
   "outputs": [],
   "source": [
    "#| default_exp load"
   ]
  },
  {
   "cell_type": "code",
   "execution_count": null,
   "metadata": {},
   "outputs": [],
   "source": [
    "#| hide\n",
    "from __future__ import annotations"
   ]
  },
  {
   "cell_type": "code",
   "execution_count": null,
   "metadata": {},
   "outputs": [],
   "source": [
    "#| hide\n",
    "from nbdev.showdoc import *\n",
    "import nbdev\n",
    "nbdev.nbdev_export()"
   ]
  },
  {
   "cell_type": "code",
   "execution_count": null,
   "metadata": {},
   "outputs": [],
   "source": [
    "#| export\n",
    "__version__ = \"0.3.1\""
   ]
  },
  {
   "cell_type": "code",
   "execution_count": null,
   "metadata": {},
   "outputs": [],
   "source": [
    "#| export\n",
    "def load(data, idx=None, x=None, y=None, paired=None, id_col=None,\n",
    "        ci=95, resamples=5000, random_seed=12345, proportional=False, \n",
    "        delta2 = False, experiment = None, experiment_label = None,\n",
    "        x1_level = None, mini_meta=False):\n",
    "    '''\n",
    "    Loads data in preparation for estimation statistics.\n",
    "\n",
    "    This is designed to work with pandas DataFrames.\n",
    "\n",
    "    Parameters\n",
    "    ----------\n",
    "    data : pandas DataFrame\n",
    "    idx : tuple\n",
    "        List of column names (if 'x' is not supplied) or of category names\n",
    "        (if 'x' is supplied). This can be expressed as a tuple of tuples,\n",
    "        with each individual tuple producing its own contrast plot\n",
    "    x : string or list, default None\n",
    "        Column name(s) of the independent variable. This can be expressed as\n",
    "        a list of 2 elements if and only if 'delta2' is True; otherwise it \n",
    "        can only be a string.\n",
    "    y : string, default None\n",
    "        Column names for data to be plotted on the x-axis and y-axis.\n",
    "    paired : string, default None\n",
    "        The type of the experiment under which the data are obtained\n",
    "    id_col : default None.\n",
    "        Required if `paired` is True.\n",
    "    ci : integer, default 95\n",
    "        The confidence interval width. The default of 95 produces 95%\n",
    "        confidence intervals.\n",
    "    resamples : integer, default 5000.\n",
    "        The number of resamples taken to generate the bootstraps which are used\n",
    "        to generate the confidence intervals.\n",
    "    random_seed : int, default 12345\n",
    "        This integer is used to seed the random number generator during\n",
    "        bootstrap resampling, ensuring that the confidence intervals\n",
    "        reported are replicable.\n",
    "    proportional : boolean, default False. \n",
    "        TO INCLUDE MORE DESCRIPTION ABOUT DATA FORMAT\n",
    "    delta2 : boolean, default False\n",
    "        Indicator of delta-delta experiment\n",
    "    experiment : String, default None\n",
    "        The name of the column of the dataframe which contains the label of \n",
    "        experiments\n",
    "    experiment_lab : list, default None\n",
    "        A list of String to specify the order of subplots for delta-delta plots.\n",
    "        This can be expressed as a list of 2 elements if and only if 'delta2' \n",
    "        is True; otherwise it can only be a string. \n",
    "    x1_level : list, default None\n",
    "        A list of String to specify the order of subplots for delta-delta plots.\n",
    "        This can be expressed as a list of 2 elements if and only if 'delta2' \n",
    "        is True; otherwise it can only be a string. \n",
    "    mini_meta : boolean, default False\n",
    "        Indicator of weighted delta calculation.\n",
    "\n",
    "    Returns\n",
    "    -------\n",
    "    A `Dabest` object.\n",
    "\n",
    "    Example\n",
    "    --------\n",
    "    Load libraries.\n",
    "\n",
    "    >>> import numpy as np\n",
    "    >>> import pandas as pd\n",
    "    >>> import dabest\n",
    "\n",
    "    Create dummy data for demonstration.\n",
    "\n",
    "    >>> np.random.seed(88888)\n",
    "    >>> N = 10\n",
    "    >>> c1 = sp.stats.norm.rvs(loc=100, scale=5, size=N)\n",
    "    >>> t1 = sp.stats.norm.rvs(loc=115, scale=5, size=N)\n",
    "    >>> df = pd.DataFrame({'Control 1' : c1, 'Test 1': t1})\n",
    "\n",
    "    Load the data.\n",
    "\n",
    "    >>> my_data = dabest.load(df, idx=(\"Control 1\", \"Test 1\"))\n",
    "\n",
    "    '''\n",
    "    from ._classes import Dabest\n",
    "\n",
    "    return Dabest(data, idx, x, y, paired, id_col, ci, resamples, random_seed, proportional, delta2, experiment, experiment_label, x1_level, mini_meta)\n",
    "\n"
   ]
  },
  {
   "cell_type": "code",
   "execution_count": null,
   "metadata": {},
   "outputs": [],
   "source": []
  }
 ],
 "metadata": {
  "kernelspec": {
   "display_name": "Python 3 (ipykernel)",
   "language": "python",
   "name": "python3"
  }
 },
 "nbformat": 4,
 "nbformat_minor": 4
}
