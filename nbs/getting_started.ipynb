{
 "cells": [
  {
   "cell_type": "markdown",
   "metadata": {},
   "source": [
    "# Getting Started\n",
    "\n",
    "> This is a [nbdev](https://github.com/fastai/nbdev) version package for dabest. [DABEST](https://github.com/ACCLAB/DABEST-python) is a package for Data Analysis using Bootstrap-Coupled ESTimation. "
   ]
  },
  {
   "cell_type": "markdown",
   "metadata": {},
   "source": [
    "## Install"
   ]
  },
  {
   "cell_type": "markdown",
   "metadata": {},
   "source": [
    "\n",
    "\n",
    "```shell\n",
    "pip install dabest\n",
    "```\n",
    "\n"
   ]
  },
  {
   "cell_type": "markdown",
   "metadata": {},
   "source": [
    "## How to use"
   ]
  },
  {
   "cell_type": "markdown",
   "metadata": {},
   "source": [
    "```python3\n",
    "import pandas as pd\n",
    "import dabest\n",
    "\n",
    "# Load the iris dataset. Requires internet access.\n",
    "iris = pd.read_csv(\"https://github.com/mwaskom/seaborn-data/raw/master/iris.csv\")\n",
    "\n",
    "# Load the above data into `dabest`.\n",
    "iris_dabest = dabest.load(data=iris, x=\"species\", y=\"petal_width\",\n",
    "                          idx=(\"setosa\", \"versicolor\", \"virginica\"))\n",
    "\n",
    "# Produce a Cumming estimation plot.\n",
    "iris_dabest.mean_diff.plot();\n",
    "```\n",
    "Please refer to the official [tutorial](https://zhangrou-99.github.io/dabest_nbdev/tutorials/index.html) for more useful code snippets.\n"
   ]
  },
  {
   "cell_type": "code",
   "execution_count": null,
   "metadata": {},
   "outputs": [],
   "source": []
  }
 ],
 "metadata": {
  "kernelspec": {
   "display_name": "python3",
   "language": "python",
   "name": "python3"
  }
 },
 "nbformat": 4,
 "nbformat_minor": 4
}
