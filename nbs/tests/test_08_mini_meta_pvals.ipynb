{
 "cells": [
  {
   "cell_type": "code",
   "execution_count": null,
   "id": "0fc777d3",
   "metadata": {},
   "outputs": [],
   "source": [
    "import numpy as np\n",
    "import pytest"
   ]
  },
  {
   "cell_type": "code",
   "execution_count": null,
   "id": "90ea3a40",
   "metadata": {},
   "outputs": [
    {
     "name": "stdout",
     "output_type": "stream",
     "text": [
      "Pre-compiling numba functions for DABEST...\n"
     ]
    },
    {
     "name": "stderr",
     "output_type": "stream",
     "text": [
      "Compiling numba functions: 100%|███████████████████████████████████████████████████████| 11/11 [00:22<00:00,  2.01s/it]"
     ]
    },
    {
     "name": "stdout",
     "output_type": "stream",
     "text": [
      "Numba compilation complete!\n"
     ]
    },
    {
     "name": "stderr",
     "output_type": "stream",
     "text": [
      "\n"
     ]
    }
   ],
   "source": [
    "from dabest._stats_tools import effsize\n",
    "from dabest._stats_tools import confint_2group_diff as ci2g\n",
    "from dabest import Dabest, PermutationTest\n",
    "from data.mocked_data_test_08 import df_mini_meta, rep1_yes, rep1_no, rep2_yes, rep2_no, N, dabest_default_kwargs"
   ]
  },
  {
   "cell_type": "code",
   "execution_count": null,
   "id": "2538a232",
   "metadata": {},
   "outputs": [],
   "source": [
    "unpaired = Dabest(data = df_mini_meta, idx =((\"Rep1_No\", \"Rep1_Yes\"), \n",
    "                                             (\"Rep2_No\", \"Rep2_Yes\")), \n",
    "                                             mini_meta=True,\n",
    "                                             **dabest_default_kwargs)\n",
    "\n"
   ]
  },
  {
   "cell_type": "code",
   "execution_count": null,
   "id": "6972edf3-87e0-4ab2-88d6-0726a2e6e0d0",
   "metadata": {},
   "outputs": [
    {
     "data": {
      "text/plain": [
       "array([ 1.51539707, 10.22387374])"
      ]
     },
     "execution_count": null,
     "metadata": {},
     "output_type": "execute_result"
    }
   ],
   "source": [
    "unpaired.mean_diff.mini_meta.bootstraps_var"
   ]
  },
  {
   "cell_type": "markdown",
   "id": "86994f88",
   "metadata": {},
   "source": [
    "test_mean_diff"
   ]
  },
  {
   "cell_type": "code",
   "execution_count": null,
   "id": "0368caad",
   "metadata": {},
   "outputs": [],
   "source": [
    "mean_diff = unpaired.mean_diff.results['difference'].to_list()\n",
    "np_result = [np.mean(rep1_yes)-np.mean(rep1_no), \n",
    "             np.mean(rep2_yes)-np.mean(rep2_no)]\n",
    "assert mean_diff == pytest.approx(np_result)"
   ]
  },
  {
   "cell_type": "markdown",
   "id": "7cf4d56d",
   "metadata": {},
   "source": [
    "test_pooled_variances"
   ]
  },
  {
   "cell_type": "code",
   "execution_count": null,
   "id": "973b227a",
   "metadata": {},
   "outputs": [],
   "source": [
    "mini_meta_delta = unpaired.mean_diff.mini_meta\n",
    "\n",
    "control_var    = mini_meta_delta.control_var\n",
    "np_control_var = [np.var(rep1_no, ddof=1),\n",
    "                  np.var(rep2_no, ddof=1)]\n",
    "assert control_var == pytest.approx(np_control_var)\n",
    "\n",
    "test_var    = mini_meta_delta.test_var\n",
    "np_test_var = [np.var(rep1_yes, ddof=1),\n",
    "               np.var(rep2_yes, ddof=1)]\n",
    "assert test_var == pytest.approx(np_test_var)\n",
    "\n",
    "group_var    = mini_meta_delta.group_var\n",
    "np_group_var = [ci2g.calculate_group_var(control_var[i], N,\n",
    "                                         test_var[i], N)\n",
    "                for i in range(0, 2)]\n",
    "assert group_var == pytest.approx(np_group_var)"
   ]
  },
  {
   "cell_type": "markdown",
   "id": "e06ceb8e-4f54-4ba5-9703-42089e1b6b86",
   "metadata": {},
   "source": [
    "test_bootstrap_distribution_variances"
   ]
  },
  {
   "cell_type": "code",
   "execution_count": null,
   "id": "88931a0f-a9cb-4e16-8cc3-c7c5be282171",
   "metadata": {},
   "outputs": [],
   "source": [
    "bootstrap_distributions = unpaired.mean_diff.mini_meta.bootstraps\n",
    "bootstrap_distribution_variances = unpaired.mean_diff.mini_meta.bootstraps_var\n",
    "\n",
    "np_bootstrap_distribution_variances = np.array([np.var(x, ddof=1) for x in bootstrap_distributions])\n",
    "\n",
    "assert bootstrap_distribution_variances == pytest.approx(np_bootstrap_distribution_variances)"
   ]
  },
  {
   "cell_type": "markdown",
   "id": "a2c934e5",
   "metadata": {},
   "source": [
    "test_weighted_mean_delta"
   ]
  },
  {
   "cell_type": "code",
   "execution_count": null,
   "id": "258f4b73",
   "metadata": {},
   "outputs": [
    {
     "data": {
      "text/plain": [
       "-5.819190882223082"
      ]
     },
     "execution_count": null,
     "metadata": {},
     "output_type": "execute_result"
    }
   ],
   "source": [
    "difference = unpaired.mean_diff.mini_meta.difference\n",
    "\n",
    "np_means = np.array([np.mean(rep1_yes)-np.mean(rep1_no), \n",
    "            np.mean(rep2_yes)-np.mean(rep2_no)])\n",
    "\n",
    "np_var   = np_bootstrap_distribution_variances\n",
    "\n",
    "np_difference = effsize.weighted_delta(np_means, np_var)\n",
    "\n",
    "assert difference == pytest.approx(np_difference)\n",
    "weight = np.true_divide(1, np_var)\n",
    "np.sum(np_means*weight)/np.sum(weight)"
   ]
  },
  {
   "cell_type": "markdown",
   "id": "d3a468f5",
   "metadata": {},
   "source": [
    "test_unpaired_permutation_test"
   ]
  },
  {
   "cell_type": "code",
   "execution_count": null,
   "id": "45056c5f",
   "metadata": {},
   "outputs": [
    {
     "data": {
      "text/plain": [
       "0.0112"
      ]
     },
     "execution_count": null,
     "metadata": {},
     "output_type": "execute_result"
    }
   ],
   "source": [
    "mini_meta_delta   = unpaired.mean_diff.mini_meta\n",
    "pvalue             = mini_meta_delta.pvalue_permutation\n",
    "permutations_delta = mini_meta_delta.permutations_weighted_delta\n",
    "\n",
    "perm_test_1 = PermutationTest(rep1_no, rep1_yes, \n",
    "                            effect_size=\"mean_diff\", \n",
    "                            is_paired=False)\n",
    "perm_test_2 = PermutationTest(rep2_no, rep2_yes, \n",
    "                            effect_size=\"mean_diff\", \n",
    "                            is_paired=False)\n",
    "permutations_1 = perm_test_1.permutations\n",
    "permutations_2 = perm_test_2.permutations\n",
    "permutations_1_var = perm_test_1.permutations_var\n",
    "permutations_2_var = perm_test_2.permutations_var\n",
    "\n",
    "weight_1 = np.true_divide(1,permutations_1_var)\n",
    "weight_2 = np.true_divide(1,permutations_2_var)\n",
    "\n",
    "weighted_deltas = (weight_1*permutations_1 + weight_2*permutations_2)/(weight_1+weight_2)\n",
    "assert permutations_delta == pytest.approx(weighted_deltas)\n",
    "\n",
    "\n",
    "np_means = [np.mean(rep1_yes)-np.mean(rep1_no), \n",
    "            np.mean(rep2_yes)-np.mean(rep2_no)]\n",
    "np_var   = [np.var(rep1_yes, ddof=1)/N+np.var(rep1_no, ddof=1)/N,\n",
    "            np.var(rep2_yes, ddof=1)/N+np.var(rep2_no, ddof=1)/N]\n",
    "np_weight= np.true_divide(1, np_var)\n",
    "\n",
    "np_difference = np.sum(np_means*np_weight)/np.sum(np_weight)\n",
    "\n",
    "np_pvalues = len(list(filter(lambda x: np.abs(x)>np.abs(np_difference), \n",
    "                            weighted_deltas)))/len(weighted_deltas)\n",
    "\n",
    "pvalue\n",
    "# assert pvalue == pytest.approx(np_pvalues)"
   ]
  },
  {
   "cell_type": "code",
   "execution_count": null,
   "id": "01aef910-d540-4be5-9cf3-814f9aa36cd7",
   "metadata": {},
   "outputs": [],
   "source": []
  }
 ],
 "metadata": {
  "kernelspec": {
   "display_name": "python3",
   "language": "python",
   "name": "python3"
  }
 },
 "nbformat": 4,
 "nbformat_minor": 5
}
