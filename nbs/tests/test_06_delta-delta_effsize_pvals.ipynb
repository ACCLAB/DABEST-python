{
 "cells": [
  {
   "cell_type": "code",
   "execution_count": null,
   "id": "4cfc6826",
   "metadata": {},
   "outputs": [],
   "source": [
    "import pytest\n",
    "import numpy as np\n",
    "from math import gamma"
   ]
  },
  {
   "cell_type": "code",
   "execution_count": null,
   "id": "381bae02",
   "metadata": {},
   "outputs": [],
   "source": [
    "from dabest import Dabest, PermutationTest\n",
    "from data.mocked_data_test_06 import df_test, df_test_control, df_test_treatment1, dabest_default_kwargs"
   ]
  },
  {
   "cell_type": "code",
   "execution_count": null,
   "id": "77080b66",
   "metadata": {},
   "outputs": [],
   "source": [
    "# example of unpaired delta-delta calculation\n",
    "unpaired = Dabest(data = df_test, x = [\"Time\", \"Drug\"], y = \"Heart Rate\", \n",
    "                  delta2 = True, experiment = \"Experiment\",\n",
    "                  experiment_label=None, x1_level=None, paired=None, id_col=None,\n",
    "                  **dabest_default_kwargs)\n",
    "\n",
    "\n",
    "# example of paired delta-delta calculation\n",
    "paired = Dabest(data = df_test, x = [\"Time\", \"Drug\"], y = \"Heart Rate\", \n",
    "                  delta2 = True, experiment = \"Experiment\", paired=\"sequential\", id_col=\"ID\",\n",
    "                  experiment_label=None, x1_level=None,\n",
    "                  **dabest_default_kwargs)\n",
    "\n",
    "\n",
    "# example of paired data with specified experiment/x1 level\n",
    "paired_specified_level = Dabest(data = df_test, x = [\"Time\", \"Drug\"], y = \"Heart Rate\", \n",
    "                  delta2 = True, experiment = \"Experiment\", paired=\"sequential\", id_col=\"ID\",\n",
    "                  experiment_label=[\"Control\", \"Treatment1\"], x1_level=[\"T2\", \"T1\"],\n",
    "                  **dabest_default_kwargs)"
   ]
  },
  {
   "cell_type": "markdown",
   "id": "a7ee54b4",
   "metadata": {},
   "source": [
    "test_mean_diff_delta_unpaired"
   ]
  },
  {
   "cell_type": "code",
   "execution_count": null,
   "id": "c496dd6f",
   "metadata": {},
   "outputs": [],
   "source": [
    "mean_diff_results = unpaired.mean_diff.results\n",
    "all_mean_diff = mean_diff_results['difference'].to_list()\n",
    "diff1 = np.mean(df_test_treatment1[\"T2\"])-np.mean(df_test_treatment1[\"T1\"])\n",
    "diff2 = np.mean(df_test_control[\"T2\"])-np.mean(df_test_control[\"T1\"])\n",
    "np_result = [diff1, diff2]\n",
    "assert all_mean_diff == pytest.approx(np_result)"
   ]
  },
  {
   "cell_type": "markdown",
   "id": "fb9d5333",
   "metadata": {},
   "source": [
    "test_mean_diff_delta_paired"
   ]
  },
  {
   "cell_type": "code",
   "execution_count": null,
   "id": "aff642eb",
   "metadata": {},
   "outputs": [],
   "source": [
    "mean_diff_results = paired.mean_diff.results\n",
    "all_mean_diff = mean_diff_results['difference'].to_list()\n",
    "diff1 = np.mean(df_test_treatment1[\"T2\"]-df_test_treatment1[\"T1\"])\n",
    "diff2 = np.mean(df_test_control[\"T2\"]-df_test_control[\"T1\"])\n",
    "np_result = [diff1, diff2]\n",
    "assert all_mean_diff == pytest.approx(np_result)"
   ]
  },
  {
   "cell_type": "markdown",
   "id": "b2e7102f",
   "metadata": {},
   "source": [
    "test_mean_diff_delta_paired_specified_level"
   ]
  },
  {
   "cell_type": "code",
   "execution_count": null,
   "id": "d64e6a3e",
   "metadata": {},
   "outputs": [],
   "source": [
    "mean_diff_results = paired_specified_level.mean_diff.results\n",
    "all_mean_diff = mean_diff_results['difference'].to_list()\n",
    "diff1 = np.mean(df_test_control[\"T1\"]-df_test_control[\"T2\"])\n",
    "diff2 = np.mean(df_test_treatment1[\"T1\"]-df_test_treatment1[\"T2\"])\n",
    "np_result = [diff1, diff2]\n",
    "assert all_mean_diff == pytest.approx(np_result)"
   ]
  },
  {
   "cell_type": "markdown",
   "id": "9b846033",
   "metadata": {},
   "source": [
    "test_median_diff_unpaired"
   ]
  },
  {
   "cell_type": "code",
   "execution_count": null,
   "id": "1b7878eb",
   "metadata": {},
   "outputs": [],
   "source": [
    "all_median_diff = unpaired.median_diff.results\n",
    "median_diff = all_median_diff['difference'].to_list()\n",
    "diff1 = np.median(df_test_treatment1[\"T2\"])-np.median(df_test_treatment1[\"T1\"])\n",
    "diff2 = np.median(df_test_control[\"T2\"])-np.median(df_test_control[\"T1\"])\n",
    "np_result = [diff1, diff2]\n",
    "assert median_diff == pytest.approx(np_result)"
   ]
  },
  {
   "cell_type": "markdown",
   "id": "2fb4a865",
   "metadata": {},
   "source": [
    "test_median_diff_paired"
   ]
  },
  {
   "cell_type": "code",
   "execution_count": null,
   "id": "37c52bfc",
   "metadata": {},
   "outputs": [],
   "source": [
    "all_median_diff = paired.median_diff.results\n",
    "median_diff = all_median_diff['difference'].to_list()\n",
    "diff1 = np.median(df_test_treatment1[\"T2\"]-df_test_treatment1[\"T1\"])\n",
    "diff2 = np.median(df_test_control[\"T2\"]-df_test_control[\"T1\"])\n",
    "np_result = [diff1, diff2]\n",
    "assert median_diff == pytest.approx(np_result)"
   ]
  },
  {
   "cell_type": "markdown",
   "id": "b79f3e7f",
   "metadata": {},
   "source": [
    "test_median_diff_paired_specified_level"
   ]
  },
  {
   "cell_type": "code",
   "execution_count": null,
   "id": "66abcc7f",
   "metadata": {},
   "outputs": [],
   "source": [
    "all_median_diff = paired_specified_level.median_diff.results\n",
    "median_diff = all_median_diff['difference'].to_list()\n",
    "diff1 = np.median(df_test_control[\"T1\"]-df_test_control[\"T2\"])\n",
    "diff2 = np.median(df_test_treatment1[\"T1\"]-df_test_treatment1[\"T2\"])\n",
    "np_result = [diff1, diff2]\n",
    "assert median_diff == pytest.approx(np_result)"
   ]
  },
  {
   "cell_type": "markdown",
   "id": "5e83804b",
   "metadata": {},
   "source": [
    "test_cohens_d_unpaired"
   ]
  },
  {
   "cell_type": "code",
   "execution_count": null,
   "id": "e202acf4",
   "metadata": {},
   "outputs": [],
   "source": [
    "all_cohens_d = unpaired.cohens_d.results\n",
    "cohens_d = all_cohens_d['difference'].to_list()\n",
    "diff1 = np.mean(df_test_treatment1[\"T2\"])-np.mean(df_test_treatment1[\"T1\"])\n",
    "diff1 = diff1/np.sqrt((np.var(df_test_treatment1[\"T2\"], ddof=1)+np.var(df_test_treatment1[\"T1\"], ddof=1))/2) \n",
    "diff2 = np.mean(df_test_control[\"T2\"])-np.mean(df_test_control[\"T1\"])\n",
    "diff2 = diff2/np.sqrt((np.var(df_test_control[\"T2\"], ddof=1)+np.var(df_test_control[\"T1\"], ddof=1))/2) \n",
    "np_result = [diff1, diff2]\t        \n",
    "assert cohens_d == pytest.approx(np_result)"
   ]
  },
  {
   "cell_type": "markdown",
   "id": "ddeca599",
   "metadata": {},
   "source": [
    "test_cohens_d_paired"
   ]
  },
  {
   "cell_type": "code",
   "execution_count": null,
   "id": "71f570b4",
   "metadata": {},
   "outputs": [],
   "source": [
    "all_cohens_d = paired.cohens_d.results\n",
    "cohens_d = all_cohens_d['difference'].to_list()\n",
    "diff1 = np.mean(df_test_treatment1[\"T2\"]-df_test_treatment1[\"T1\"])\n",
    "diff1 = diff1/np.sqrt((np.var(df_test_treatment1[\"T2\"], ddof=1)+np.var(df_test_treatment1[\"T1\"], ddof=1))/2) \n",
    "diff2 = np.mean(df_test_control[\"T2\"]-df_test_control[\"T1\"])\n",
    "diff2 = diff2/np.sqrt((np.var(df_test_control[\"T2\"], ddof=1)+np.var(df_test_control[\"T1\"], ddof=1))/2) \n",
    "np_result = [diff1, diff2]\t        \n",
    "assert cohens_d == pytest.approx(np_result)"
   ]
  },
  {
   "cell_type": "markdown",
   "id": "1e4daeef",
   "metadata": {},
   "source": [
    "test_cohens_d_paired_specified_level"
   ]
  },
  {
   "cell_type": "code",
   "execution_count": null,
   "id": "d32dd490",
   "metadata": {},
   "outputs": [],
   "source": [
    "all_cohens_d = paired_specified_level.cohens_d.results\n",
    "cohens_d = all_cohens_d['difference'].to_list()\n",
    "diff1 = np.mean(df_test_control[\"T1\"])-np.mean(df_test_control[\"T2\"])\n",
    "diff1 = diff1/np.sqrt((np.var(df_test_control[\"T2\"], ddof=1)+np.var(df_test_control[\"T1\"], ddof=1))/2)\n",
    "diff2 = np.mean(df_test_treatment1[\"T1\"])-np.mean(df_test_treatment1[\"T2\"])\n",
    "diff2 = diff2/np.sqrt((np.var(df_test_treatment1[\"T2\"], ddof=1)+np.var(df_test_treatment1[\"T1\"], ddof=1))/2)  \n",
    "np_result = [diff1, diff2]     \n",
    "assert cohens_d == pytest.approx(np_result)"
   ]
  },
  {
   "cell_type": "markdown",
   "id": "5b1f2d2a",
   "metadata": {},
   "source": [
    "test_hedges_g_unpaired"
   ]
  },
  {
   "cell_type": "code",
   "execution_count": null,
   "id": "b6b944ab",
   "metadata": {},
   "outputs": [],
   "source": [
    "hedges_g = unpaired.hedges_g.results['difference'].to_list()\n",
    "a = 8*2-2\n",
    "fac = gamma(a/2)/(np.sqrt(a/2)*gamma((a-1)/2))\n",
    "diff1 = (np.mean(df_test_treatment1[\"T2\"])-np.mean(df_test_treatment1[\"T1\"]))*fac\n",
    "diff1 = diff1/np.sqrt((np.var(df_test_treatment1[\"T2\"], ddof=1)+np.var(df_test_treatment1[\"T1\"], ddof=1))/2) \n",
    "diff2 = (np.mean(df_test_control[\"T2\"])-np.mean(df_test_control[\"T1\"]))*fac\n",
    "diff2 = diff2/np.sqrt((np.var(df_test_control[\"T2\"], ddof=1)+np.var(df_test_control[\"T1\"], ddof=1))/2) \n",
    "np_result=[diff1, diff2]\n",
    "assert hedges_g == pytest.approx(np_result)"
   ]
  },
  {
   "cell_type": "markdown",
   "id": "e25ad33a",
   "metadata": {},
   "source": [
    "test_hedges_g_paired"
   ]
  },
  {
   "cell_type": "code",
   "execution_count": null,
   "id": "7b2a18ea",
   "metadata": {},
   "outputs": [],
   "source": [
    "hedges_g = paired.hedges_g.results['difference'].to_list()\n",
    "a = 8*2-2\n",
    "fac = gamma(a/2)/(np.sqrt(a/2)*gamma((a-1)/2))\n",
    "diff1 = (np.mean(df_test_treatment1[\"T2\"]-df_test_treatment1[\"T1\"]))*fac\n",
    "diff1 = diff1/np.sqrt((np.var(df_test_treatment1[\"T2\"], ddof=1)+np.var(df_test_treatment1[\"T1\"], ddof=1))/2) \n",
    "diff2 = (np.mean(df_test_control[\"T2\"]-df_test_control[\"T1\"]))*fac\n",
    "diff2 = diff2/np.sqrt((np.var(df_test_control[\"T2\"], ddof=1)+np.var(df_test_control[\"T1\"], ddof=1))/2) \n",
    "np_result=[diff1, diff2]\n",
    "assert hedges_g == pytest.approx(np_result)"
   ]
  },
  {
   "cell_type": "markdown",
   "id": "2928958a",
   "metadata": {},
   "source": [
    "test_hedges_g_paired_specified_level"
   ]
  },
  {
   "cell_type": "code",
   "execution_count": null,
   "id": "86167882",
   "metadata": {},
   "outputs": [],
   "source": [
    "hedges_g = paired_specified_level.hedges_g.results['difference'].to_list()\n",
    "a = 8*2-2\n",
    "fac = gamma(a/2)/(np.sqrt(a/2)*gamma((a-1)/2))\n",
    "diff1 = (np.mean(df_test_control[\"T1\"]-df_test_control[\"T2\"]))*fac\n",
    "diff1 = diff1/np.sqrt((np.var(df_test_control[\"T2\"], ddof=1)+np.var(df_test_control[\"T1\"], ddof=1))/2) \n",
    "diff2 = (np.mean(df_test_treatment1[\"T1\"]-df_test_treatment1[\"T2\"]))*fac\n",
    "diff2 = diff2/np.sqrt((np.var(df_test_treatment1[\"T2\"], ddof=1)+np.var(df_test_treatment1[\"T1\"], ddof=1))/2) \n",
    "np_result=[diff1, diff2]\n",
    "assert hedges_g == pytest.approx(np_result)"
   ]
  },
  {
   "cell_type": "markdown",
   "id": "42d1366d",
   "metadata": {},
   "source": [
    "test_unpaired_delta_delta"
   ]
  },
  {
   "cell_type": "code",
   "execution_count": null,
   "id": "da1dac3d",
   "metadata": {},
   "outputs": [],
   "source": [
    "delta_delta = unpaired.mean_diff.delta_delta.difference\n",
    "\n",
    "diff1 = np.mean(df_test_treatment1[\"T2\"])-np.mean(df_test_treatment1[\"T1\"])\n",
    "diff2 = np.mean(df_test_control[\"T2\"])-np.mean(df_test_control[\"T1\"])\n",
    "np_result = diff2-diff1\n",
    "\n",
    "assert delta_delta == pytest.approx(np_result)"
   ]
  },
  {
   "cell_type": "markdown",
   "id": "64edc5b7",
   "metadata": {},
   "source": [
    "test_paired_delta_delta"
   ]
  },
  {
   "cell_type": "code",
   "execution_count": null,
   "id": "7677ed29",
   "metadata": {},
   "outputs": [],
   "source": [
    "delta_delta = paired.mean_diff.delta_delta.difference\n",
    "\n",
    "diff1 = np.mean(df_test_treatment1[\"T2\"] - df_test_treatment1[\"T1\"])\n",
    "diff2 = np.mean(df_test_control[\"T2\"] - df_test_control[\"T1\"])\n",
    "np_result = diff2-diff1\n",
    "\n",
    "assert delta_delta == pytest.approx(np_result)"
   ]
  },
  {
   "cell_type": "markdown",
   "id": "33ee19f2",
   "metadata": {},
   "source": [
    "test_paired_specified_level_delta_delta"
   ]
  },
  {
   "cell_type": "code",
   "execution_count": null,
   "id": "5a413527",
   "metadata": {},
   "outputs": [],
   "source": [
    "delta_delta = paired_specified_level.mean_diff.delta_delta.difference\n",
    "\n",
    "diff1 = np.mean(df_test_control[\"T1\"] - df_test_control[\"T2\"])\n",
    "diff2 = np.mean(df_test_treatment1[\"T1\"] - df_test_treatment1[\"T2\"])\n",
    "np_result = diff2-diff1\n",
    "\n",
    "assert delta_delta == pytest.approx(np_result)"
   ]
  },
  {
   "cell_type": "markdown",
   "id": "94a0571f",
   "metadata": {},
   "source": [
    "test_unpaired_permutation_test"
   ]
  },
  {
   "cell_type": "code",
   "execution_count": null,
   "id": "4f039f9a",
   "metadata": {},
   "outputs": [],
   "source": [
    "delta_delta              = unpaired.mean_diff.delta_delta\n",
    "pvalue                   = delta_delta.pvalue_permutation\n",
    "permutations_delta_delta = delta_delta.permutations_delta_delta\n",
    "\n",
    "perm_test_1 = PermutationTest(df_test_treatment1[\"T1\"], \n",
    "                              df_test_treatment1[\"T2\"], \n",
    "                              effect_size=\"mean_diff\", \n",
    "                              is_paired=False)\n",
    "perm_test_2 = PermutationTest(df_test_control[\"T1\"], \n",
    "                              df_test_control[\"T2\"], \n",
    "                              effect_size=\"mean_diff\", \n",
    "                              is_paired=False)\n",
    "permutations_1 = perm_test_1.permutations\n",
    "permutations_2 = perm_test_2.permutations\n",
    "\n",
    "delta_deltas = permutations_2-permutations_1\n",
    "assert permutations_delta_delta == pytest.approx(delta_deltas)\n",
    "\n",
    "diff1 = np.mean(df_test_treatment1[\"T2\"])-np.mean(df_test_treatment1[\"T1\"])\n",
    "diff2 = np.mean(df_test_control[\"T2\"])-np.mean(df_test_control[\"T1\"])\n",
    "np_diff = diff2-diff1\n",
    "\n",
    "np_pvalues = len(list(filter(lambda x: np.abs(x)>np.abs(np_diff), \n",
    "                            delta_deltas)))/len(delta_deltas)\n",
    "\n",
    "assert pvalue == pytest.approx(np_pvalues)"
   ]
  },
  {
   "cell_type": "markdown",
   "id": "39082d96",
   "metadata": {},
   "source": [
    "test_paired_permutation_test"
   ]
  },
  {
   "cell_type": "code",
   "execution_count": null,
   "id": "39f3a041",
   "metadata": {},
   "outputs": [],
   "source": [
    "delta_delta              = paired.mean_diff.delta_delta\n",
    "pvalue                   = delta_delta.pvalue_permutation\n",
    "permutations_delta_delta = delta_delta.permutations_delta_delta\n",
    "\n",
    "perm_test_1 = PermutationTest(df_test_treatment1[\"T1\"], \n",
    "                              df_test_treatment1[\"T2\"], \n",
    "                              effect_size=\"mean_diff\", \n",
    "                              is_paired=\"sequential\")\n",
    "perm_test_2 = PermutationTest(df_test_control[\"T1\"], \n",
    "                              df_test_control[\"T2\"], \n",
    "                              effect_size=\"mean_diff\", \n",
    "                              is_paired=\"sequential\")\n",
    "permutations_1 = perm_test_1.permutations\n",
    "permutations_2 = perm_test_2.permutations\n",
    "\n",
    "delta_deltas = permutations_2-permutations_1\n",
    "assert permutations_delta_delta == pytest.approx(delta_deltas)\n",
    "\n",
    "diff1 = np.mean(df_test_treatment1[\"T2\"]-df_test_treatment1[\"T1\"])\n",
    "diff2 = np.mean(df_test_control[\"T2\"]-df_test_control[\"T1\"])\n",
    "np_diff = diff2-diff1\n",
    "\n",
    "np_pvalues = len(list(filter(lambda x: np.abs(x)>np.abs(np_diff), \n",
    "                            delta_deltas)))/len(delta_deltas)\n",
    "\n",
    "assert pvalue == pytest.approx(np_pvalues)"
   ]
  },
  {
   "cell_type": "markdown",
   "id": "b033f55a",
   "metadata": {},
   "source": [
    "test_paired_specified_level_permutation_test"
   ]
  },
  {
   "cell_type": "code",
   "execution_count": null,
   "id": "f6310737",
   "metadata": {},
   "outputs": [],
   "source": [
    "delta_delta              = paired_specified_level.mean_diff.delta_delta\n",
    "pvalue                   = delta_delta.pvalue_permutation\n",
    "permutations_delta_delta = delta_delta.permutations_delta_delta\n",
    "\n",
    "perm_test_1 = PermutationTest(df_test_control[\"T2\"], \n",
    "                              df_test_control[\"T1\"], \n",
    "                              effect_size=\"mean_diff\", \n",
    "                              is_paired=\"sequential\")\n",
    "perm_test_2 = PermutationTest(df_test_treatment1[\"T2\"], \n",
    "                              df_test_treatment1[\"T1\"], \n",
    "                              effect_size=\"mean_diff\", \n",
    "                              is_paired=\"sequential\")\n",
    "permutations_1 = perm_test_1.permutations\n",
    "permutations_2 = perm_test_2.permutations\n",
    "\n",
    "delta_deltas = permutations_2-permutations_1\n",
    "assert permutations_delta_delta == pytest.approx(delta_deltas)\n",
    "\n",
    "diff1 = np.mean(df_test_control[\"T1\"]-df_test_control[\"T2\"])\n",
    "diff2 = np.mean(df_test_treatment1[\"T1\"]-df_test_treatment1[\"T2\"])\n",
    "np_diff = diff2-diff1\n",
    "\n",
    "np_pvalues = len(list(filter(lambda x: np.abs(x)>np.abs(np_diff), \n",
    "                            delta_deltas)))/len(delta_deltas)\n",
    "\n",
    "assert pvalue == pytest.approx(np_pvalues)"
   ]
  }
 ],
 "metadata": {
  "kernelspec": {
   "display_name": "python3",
   "language": "python",
   "name": "python3"
  }
 },
 "nbformat": 4,
 "nbformat_minor": 5
}
