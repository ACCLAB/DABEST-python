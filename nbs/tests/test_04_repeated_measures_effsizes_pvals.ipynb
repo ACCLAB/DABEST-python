{
 "cells": [
  {
   "cell_type": "code",
   "execution_count": null,
   "id": "e7a36df7",
   "metadata": {},
   "outputs": [],
   "source": [
    "import pytest\n",
    "import lqrt\n",
    "import numpy as np\n",
    "import scipy as sp\n",
    "import pandas as pd"
   ]
  },
  {
   "cell_type": "code",
   "execution_count": null,
   "id": "d7094f95",
   "metadata": {},
   "outputs": [],
   "source": [
    "from dabest import Dabest\n",
    "from data.mocked_data_test_01 import dabest_default_kwargs\n",
    "from data.mocked_data_test_04 import df"
   ]
  },
  {
   "cell_type": "code",
   "execution_count": null,
   "id": "d83b66c0",
   "metadata": {},
   "outputs": [],
   "source": [
    "# example of sequential repeated measures\n",
    "sequential = Dabest(df, id_col = \"ID\",\n",
    "                         idx=(\"First\", \"Second\", \"Third\", \"Fourth\", \"Fifth\"),\n",
    "                         paired = \"sequential\",\n",
    "                         **dabest_default_kwargs)\n",
    "\n",
    "# example of baseline repeated measures\n",
    "baseline = Dabest(df, id_col = \"ID\",\n",
    "                       idx=(\"First\", \"Second\", \"Third\", \"Fourth\", \"Fifth\"),\n",
    "                       paired = \"baseline\",\n",
    "                       **dabest_default_kwargs)"
   ]
  },
  {
   "cell_type": "markdown",
   "id": "476b71b7",
   "metadata": {},
   "source": [
    "test_mean_diff_sequential"
   ]
  },
  {
   "cell_type": "code",
   "execution_count": null,
   "id": "c771e929",
   "metadata": {},
   "outputs": [],
   "source": [
    "mean_diff = sequential.mean_diff.results['difference'].to_list()\n",
    "np_result = [np.mean(df.iloc[:,i+1]-df.iloc[:,i]) for i in range(1,5)]\n",
    "assert mean_diff == pytest.approx(np_result)"
   ]
  },
  {
   "cell_type": "markdown",
   "id": "4140c277",
   "metadata": {},
   "source": [
    "test_median_diff_sequential"
   ]
  },
  {
   "cell_type": "code",
   "execution_count": null,
   "id": "65cf8502",
   "metadata": {},
   "outputs": [],
   "source": [
    "median_diff = sequential.median_diff.results['difference'].to_list()\n",
    "np_result = [np.median(df.iloc[:,i+1]-df.iloc[:,i]) for i in range(1,5)]\n",
    "assert median_diff == pytest.approx(np_result)"
   ]
  },
  {
   "cell_type": "markdown",
   "id": "97a15450",
   "metadata": {},
   "source": [
    "test_mean_diff_baseline"
   ]
  },
  {
   "cell_type": "code",
   "execution_count": null,
   "id": "0325ff0b",
   "metadata": {},
   "outputs": [],
   "source": [
    "mean_diff = baseline.mean_diff.results['difference'].to_list()\n",
    "np_result = [np.mean(df.iloc[:,i]-df.iloc[:,1]) for i in range(2,6)]\n",
    "assert mean_diff == pytest.approx(np_result)"
   ]
  },
  {
   "cell_type": "markdown",
   "id": "483c03ec",
   "metadata": {},
   "source": [
    "test_median_diff_baseline"
   ]
  },
  {
   "cell_type": "code",
   "execution_count": null,
   "id": "c568cd42",
   "metadata": {},
   "outputs": [],
   "source": [
    "median_diff = baseline.median_diff.results['difference'].to_list()\n",
    "np_result = [np.median(df.iloc[:,i]-df.iloc[:,1]) for i in range(2,6)]\n",
    "assert median_diff == pytest.approx(np_result)"
   ]
  },
  {
   "cell_type": "markdown",
   "id": "3095a98c",
   "metadata": {},
   "source": [
    "test_cohens_d_sequential"
   ]
  },
  {
   "cell_type": "code",
   "execution_count": null,
   "id": "2485a2df",
   "metadata": {},
   "outputs": [],
   "source": [
    "cohens_d = sequential.cohens_d.results['difference'].to_list()\n",
    "np_result = [np.mean(df.iloc[:,i+1]-df.iloc[:,i])\n",
    "                /np.sqrt((np.var(df.iloc[:,i+1], ddof=1)+np.var(df.iloc[:,i], ddof=1))/2) \n",
    "            for i in range(1,5)]\n",
    "assert cohens_d == pytest.approx(np_result)"
   ]
  },
  {
   "cell_type": "markdown",
   "id": "ba3546ce",
   "metadata": {},
   "source": [
    "test_hedges_g_sequential"
   ]
  },
  {
   "cell_type": "code",
   "execution_count": null,
   "id": "29b0cc7c",
   "metadata": {},
   "outputs": [],
   "source": [
    "from math import gamma\n",
    "hedges_g = sequential.hedges_g.results['difference'].to_list()\n",
    "a = 47*2-2\n",
    "fac = gamma(a/2)/(np.sqrt(a/2)*gamma((a-1)/2))\n",
    "np_result = [np.mean(df.iloc[:,i+1]-df.iloc[:,i])*fac\n",
    "                /np.sqrt((np.var(df.iloc[:,i+1], ddof=1)+np.var(df.iloc[:,i], ddof=1))/2) \n",
    "            for i in range(1,5)] \n",
    "assert hedges_g == pytest.approx(np_result)"
   ]
  },
  {
   "cell_type": "markdown",
   "id": "c4a96519",
   "metadata": {},
   "source": [
    "test_cohens_d_baseline"
   ]
  },
  {
   "cell_type": "code",
   "execution_count": null,
   "id": "93d9b97f",
   "metadata": {},
   "outputs": [],
   "source": [
    "cohens_d = baseline.cohens_d.results['difference'].to_list()\n",
    "np_result = [np.mean(df.iloc[:,i]-df.iloc[:,1])\n",
    "                /np.sqrt((np.var(df.iloc[:,i], ddof=1)+np.var(df.iloc[:,1], ddof=1))/2) \n",
    "            for i in range(2,6)]\n",
    "assert cohens_d == pytest.approx(np_result)"
   ]
  },
  {
   "cell_type": "markdown",
   "id": "c2c71cac",
   "metadata": {},
   "source": [
    "test_hedges_g_baseline"
   ]
  },
  {
   "cell_type": "code",
   "execution_count": null,
   "id": "2b60e360",
   "metadata": {},
   "outputs": [],
   "source": [
    "from math import gamma\n",
    "hedges_g = baseline.hedges_g.results['difference'].to_list()\n",
    "a = 47*2-2\n",
    "fac = gamma(a/2)/(np.sqrt(a/2)*gamma((a-1)/2))\n",
    "np_result = [np.mean(df.iloc[:,i]-df.iloc[:,1])*fac\n",
    "                /np.sqrt((np.var(df.iloc[:,i], ddof=1)+np.var(df.iloc[:,1], ddof=1))/2) \n",
    "            for i in range(2,6)]\n",
    "assert hedges_g == pytest.approx(np_result)"
   ]
  },
  {
   "cell_type": "markdown",
   "id": "eb5d853c",
   "metadata": {},
   "source": [
    "test_paired_stats_sequential"
   ]
  },
  {
   "cell_type": "code",
   "execution_count": null,
   "id": "9452641e",
   "metadata": {},
   "outputs": [],
   "source": [
    "np_result = sequential.mean_diff.results\n",
    "    \n",
    "p1 = [sp.stats.ttest_rel(df.iloc[:,i], df.iloc[:,i+1], nan_policy='omit').pvalue\n",
    "            for i in range(1,5)] \n",
    "assert np_result[\"pvalue_paired_students_t\"].to_list() == pytest.approx(p1)\n",
    "\n",
    "p2 = [sp.stats.wilcoxon(df.iloc[:,i], df.iloc[:,i+1]).pvalue\n",
    "            for i in range(1,5)] \n",
    "assert np_result[\"pvalue_wilcoxon\"].to_list() == pytest.approx(p2)"
   ]
  },
  {
   "cell_type": "markdown",
   "id": "ca3cf91e",
   "metadata": {},
   "source": [
    "test_paired_stats_baseline"
   ]
  },
  {
   "cell_type": "code",
   "execution_count": null,
   "id": "412aa272",
   "metadata": {},
   "outputs": [],
   "source": [
    "np_result = baseline.mean_diff.results\n",
    "    \n",
    "p1 = [sp.stats.ttest_rel(df.iloc[:,1], df.iloc[:,i], nan_policy='omit').pvalue\n",
    "            for i in range(2,6)] \n",
    "assert np_result[\"pvalue_paired_students_t\"].to_list() == pytest.approx(p1)\n",
    "\n",
    "p2 = [sp.stats.wilcoxon(df.iloc[:,1], df.iloc[:,i]).pvalue\n",
    "            for i in range(2,6)] \n",
    "assert np_result[\"pvalue_wilcoxon\"].to_list() == pytest.approx(p2)"
   ]
  },
  {
   "cell_type": "markdown",
   "id": "b7ba349a",
   "metadata": {},
   "source": [
    "test_lqrt_paired_sequential"
   ]
  },
  {
   "cell_type": "code",
   "execution_count": null,
   "id": "9e20ecd3",
   "metadata": {},
   "outputs": [],
   "source": [
    "lqrt_result = sequential.mean_diff.lqrt[\"pvalue_paired_lqrt\"].to_list()\n",
    "                             \n",
    "p1 = [lqrt.lqrtest_rel(df.iloc[:,i], df.iloc[:,i+1], random_state=12345).pvalue\n",
    "            for i in range(1,5)] \n",
    "\n",
    "assert lqrt_result == pytest.approx(p1)"
   ]
  },
  {
   "cell_type": "markdown",
   "id": "f43ac68d",
   "metadata": {},
   "source": [
    "test_lqrt_paired_baseline"
   ]
  },
  {
   "cell_type": "code",
   "execution_count": null,
   "id": "5aee61a0",
   "metadata": {},
   "outputs": [],
   "source": [
    "lqrt_result = baseline.mean_diff.lqrt[\"pvalue_paired_lqrt\"].to_list()\n",
    "                             \n",
    "p1 = [lqrt.lqrtest_rel(df.iloc[:,1], df.iloc[:,i], random_state=12345).pvalue\n",
    "            for i in range(2,6)] \n",
    "\n",
    "assert lqrt_result == pytest.approx(p1)"
   ]
  }
 ],
 "metadata": {
  "kernelspec": {
   "display_name": "python3",
   "language": "python",
   "name": "python3"
  }
 },
 "nbformat": 4,
 "nbformat_minor": 5
}
