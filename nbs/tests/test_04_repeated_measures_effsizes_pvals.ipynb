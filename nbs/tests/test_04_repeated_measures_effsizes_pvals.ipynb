{
 "cells": [
  {
   "cell_type": "code",
   "execution_count": null,
   "id": "e7a36df7",
   "metadata": {},
   "outputs": [],
   "source": [
    "import pytest\n",
    "import lqrt\n",
    "import numpy as np\n",
    "import scipy as sp\n",
    "import pandas as pd"
   ]
  },
  {
   "cell_type": "code",
   "execution_count": null,
   "id": "d7094f95",
   "metadata": {},
   "outputs": [],
   "source": [
    "from dabest._stats_tools import effsize\n",
    "from dabest._classes import TwoGroupsEffectSize, PermutationTest, Dabest, EffectSizeDataFrame"
   ]
  },
  {
   "cell_type": "code",
   "execution_count": null,
   "id": "d83b66c0",
   "metadata": {},
   "outputs": [],
   "source": [
    "# Data for tests\n",
    "# See Der, G., &amp; Everitt, B. S. (2009). A handbook\n",
    "# of statistical analyses using SAS, from Display 11.1\n",
    "group = [1, 1, 1, 1, 1, 1, 1, 1, 1, 1, 1, 1, 1, 1, 1, 1, 1, 1, 1, 1, 1, 1, 1, 1, 1,\n",
    "         2, 2, 2, 2, 2, 2, 2, 2, 2, 2, 2, 2, 2, 2, 2, 2, 2, 2, 2, 2, 2, 2]\n",
    "first = [20, 14, 7, 6, 9, 9, 7, 18, 6, 10, 5, 11, 10, 17, 16, 7, 5, 16, 2, 7, 9, 2, 7, 19,\n",
    "         7, 9, 6, 13, 9, 6, 11, 7, 8, 3, 4, 11, 1, 6, 0, 18, 15, 10,  6,  9,  4,  4, 10]\n",
    "second = [15, 12, 5, 10, 7, 9, 3, 17, 9, 15, 9, 11, 2, 12, 15, 10, 0, 7, 1, 11, 16,\n",
    "        5, 3, 13, 5, 12, 7, 18, 10, 7, 11, 10, 18, 3, 10, 10, 3, 7, 3, 18, 15, 14, 6, 9, 3, 13, 11]\n",
    "third = [14, 12, 5, 9, 9, 9, 7, 16, 9, 12, 7, 8, 9, 14, 12, 4, 5, 7, 1, 7, 14, 6, 5, 14, 8, 16, 10,\n",
    "         14, 12, 8, 12, 11, 19, 3, 11, 10, 2, 7, 3, 19, 15, 16, 7, 13, 4, 13, 13]\n",
    "fourth = [13, 10, 6, 8, 5, 11, 6, 14, 9, 12, 3, 8, 3, 10, 7, 7, 0, 6, 2, 5, 10, 7, 5, 12, 8, 17, 15,\n",
    "          21, 14, 9, 14, 12, 19, 7, 17, 15, 4, 9, 4, 22, 18, 17, 9, 16, 7, 16, 17]\n",
    "fifth = [13, 10, 5, 7, 4, 8, 5, 12, 9, 11, 5, 9, 5, 9, 9, 5, 0, 4, 2, 8, 6, 6, 5, 10, 6, 18, 16, 21,\n",
    "         15, 12, 16, 14, 22, 8, 18, 16, 5, 10, 6, 22, 19, 19, 10, 20, 9, 19, 21] \n",
    "\n",
    "df = pd.DataFrame({'Group' : group,\n",
    "                   'First' : first,\n",
    "                   'Second': second,\n",
    "                   'Third' : third,\n",
    "                   'Fourth': fourth,\n",
    "                   'Fifth' : fifth,\n",
    "                   'ID': np.arange(0, 47)\n",
    "                    })\n",
    "\n",
    "# kwargs for Dabest class init.\n",
    "dabest_default_kwargs = dict(x=None, y=None, ci=95, \n",
    "                            resamples=5000, random_seed=12345, proportional=False,\n",
    "                            delta2 = False, experiment=None, \n",
    "                            experiment_label=None, x1_level=None, mini_meta=False)\n",
    "\n",
    "# example of sequential repeated measures\n",
    "sequential = Dabest(df, id_col = \"ID\",\n",
    "                         idx=(\"First\", \"Second\", \"Third\", \"Fourth\", \"Fifth\"),\n",
    "                         paired = \"sequential\",\n",
    "                         **dabest_default_kwargs)\n",
    "\n",
    "# example of baseline repeated measures\n",
    "baseline = Dabest(df, id_col = \"ID\",\n",
    "                       idx=(\"First\", \"Second\", \"Third\", \"Fourth\", \"Fifth\"),\n",
    "                       paired = \"baseline\",\n",
    "                       **dabest_default_kwargs)\n"
   ]
  },
  {
   "cell_type": "markdown",
   "id": "476b71b7",
   "metadata": {},
   "source": [
    "test_mean_diff_sequential"
   ]
  },
  {
   "cell_type": "code",
   "execution_count": null,
   "id": "c771e929",
   "metadata": {},
   "outputs": [],
   "source": [
    "mean_diff = sequential.mean_diff.results['difference'].to_list()\n",
    "np_result = [np.mean(df.iloc[:,i+1]-df.iloc[:,i]) for i in range(1,5)]\n",
    "assert mean_diff == pytest.approx(np_result)"
   ]
  },
  {
   "cell_type": "markdown",
   "id": "4140c277",
   "metadata": {},
   "source": [
    "test_median_diff_sequential"
   ]
  },
  {
   "cell_type": "code",
   "execution_count": null,
   "id": "65cf8502",
   "metadata": {},
   "outputs": [],
   "source": [
    "median_diff = sequential.median_diff.results['difference'].to_list()\n",
    "np_result = [np.median(df.iloc[:,i+1]-df.iloc[:,i]) for i in range(1,5)]\n",
    "assert median_diff == pytest.approx(np_result)"
   ]
  },
  {
   "cell_type": "markdown",
   "id": "97a15450",
   "metadata": {},
   "source": [
    "test_mean_diff_baseline"
   ]
  },
  {
   "cell_type": "code",
   "execution_count": null,
   "id": "0325ff0b",
   "metadata": {},
   "outputs": [],
   "source": [
    "mean_diff = baseline.mean_diff.results['difference'].to_list()\n",
    "np_result = [np.mean(df.iloc[:,i]-df.iloc[:,1]) for i in range(2,6)]\n",
    "assert mean_diff == pytest.approx(np_result)"
   ]
  },
  {
   "cell_type": "markdown",
   "id": "483c03ec",
   "metadata": {},
   "source": [
    "test_median_diff_baseline"
   ]
  },
  {
   "cell_type": "code",
   "execution_count": null,
   "id": "c568cd42",
   "metadata": {},
   "outputs": [],
   "source": [
    "median_diff = baseline.median_diff.results['difference'].to_list()\n",
    "np_result = [np.median(df.iloc[:,i]-df.iloc[:,1]) for i in range(2,6)]\n",
    "assert median_diff == pytest.approx(np_result)"
   ]
  },
  {
   "cell_type": "markdown",
   "id": "3095a98c",
   "metadata": {},
   "source": [
    "test_cohens_d_sequential"
   ]
  },
  {
   "cell_type": "code",
   "execution_count": null,
   "id": "2485a2df",
   "metadata": {},
   "outputs": [],
   "source": [
    "cohens_d = sequential.cohens_d.results['difference'].to_list()\n",
    "np_result = [np.mean(df.iloc[:,i+1]-df.iloc[:,i])\n",
    "                /np.sqrt((np.var(df.iloc[:,i+1], ddof=1)+np.var(df.iloc[:,i], ddof=1))/2) \n",
    "            for i in range(1,5)]\n",
    "assert cohens_d == pytest.approx(np_result)"
   ]
  },
  {
   "cell_type": "markdown",
   "id": "ba3546ce",
   "metadata": {},
   "source": [
    "test_hedges_g_sequential"
   ]
  },
  {
   "cell_type": "code",
   "execution_count": null,
   "id": "29b0cc7c",
   "metadata": {},
   "outputs": [],
   "source": [
    "from math import gamma\n",
    "hedges_g = sequential.hedges_g.results['difference'].to_list()\n",
    "a = 47*2-2\n",
    "fac = gamma(a/2)/(np.sqrt(a/2)*gamma((a-1)/2))\n",
    "np_result = [np.mean(df.iloc[:,i+1]-df.iloc[:,i])*fac\n",
    "                /np.sqrt((np.var(df.iloc[:,i+1], ddof=1)+np.var(df.iloc[:,i], ddof=1))/2) \n",
    "            for i in range(1,5)] \n",
    "assert hedges_g == pytest.approx(np_result)"
   ]
  },
  {
   "cell_type": "markdown",
   "id": "c4a96519",
   "metadata": {},
   "source": [
    "test_cohens_d_baseline"
   ]
  },
  {
   "cell_type": "code",
   "execution_count": null,
   "id": "93d9b97f",
   "metadata": {},
   "outputs": [],
   "source": [
    "cohens_d = baseline.cohens_d.results['difference'].to_list()\n",
    "np_result = [np.mean(df.iloc[:,i]-df.iloc[:,1])\n",
    "                /np.sqrt((np.var(df.iloc[:,i], ddof=1)+np.var(df.iloc[:,1], ddof=1))/2) \n",
    "            for i in range(2,6)]\n",
    "assert cohens_d == pytest.approx(np_result)"
   ]
  },
  {
   "cell_type": "markdown",
   "id": "c2c71cac",
   "metadata": {},
   "source": [
    "test_hedges_g_baseline"
   ]
  },
  {
   "cell_type": "code",
   "execution_count": null,
   "id": "2b60e360",
   "metadata": {},
   "outputs": [],
   "source": [
    "from math import gamma\n",
    "hedges_g = baseline.hedges_g.results['difference'].to_list()\n",
    "a = 47*2-2\n",
    "fac = gamma(a/2)/(np.sqrt(a/2)*gamma((a-1)/2))\n",
    "np_result = [np.mean(df.iloc[:,i]-df.iloc[:,1])*fac\n",
    "                /np.sqrt((np.var(df.iloc[:,i], ddof=1)+np.var(df.iloc[:,1], ddof=1))/2) \n",
    "            for i in range(2,6)]\n",
    "assert hedges_g == pytest.approx(np_result)"
   ]
  },
  {
   "cell_type": "markdown",
   "id": "eb5d853c",
   "metadata": {},
   "source": [
    "test_paired_stats_sequential"
   ]
  },
  {
   "cell_type": "code",
   "execution_count": null,
   "id": "9452641e",
   "metadata": {},
   "outputs": [],
   "source": [
    "np_result = sequential.mean_diff.results\n",
    "    \n",
    "p1 = [sp.stats.ttest_rel(df.iloc[:,i], df.iloc[:,i+1], nan_policy='omit').pvalue\n",
    "            for i in range(1,5)] \n",
    "assert np_result[\"pvalue_paired_students_t\"].to_list() == pytest.approx(p1)\n",
    "\n",
    "p2 = [sp.stats.wilcoxon(df.iloc[:,i], df.iloc[:,i+1]).pvalue\n",
    "            for i in range(1,5)] \n",
    "assert np_result[\"pvalue_wilcoxon\"].to_list() == pytest.approx(p2)"
   ]
  },
  {
   "cell_type": "markdown",
   "id": "ca3cf91e",
   "metadata": {},
   "source": [
    "test_paired_stats_baseline"
   ]
  },
  {
   "cell_type": "code",
   "execution_count": null,
   "id": "412aa272",
   "metadata": {},
   "outputs": [],
   "source": [
    "np_result = baseline.mean_diff.results\n",
    "    \n",
    "p1 = [sp.stats.ttest_rel(df.iloc[:,1], df.iloc[:,i], nan_policy='omit').pvalue\n",
    "            for i in range(2,6)] \n",
    "assert np_result[\"pvalue_paired_students_t\"].to_list() == pytest.approx(p1)\n",
    "\n",
    "p2 = [sp.stats.wilcoxon(df.iloc[:,1], df.iloc[:,i]).pvalue\n",
    "            for i in range(2,6)] \n",
    "assert np_result[\"pvalue_wilcoxon\"].to_list() == pytest.approx(p2)"
   ]
  },
  {
   "cell_type": "markdown",
   "id": "b7ba349a",
   "metadata": {},
   "source": [
    "test_lqrt_paired_sequential"
   ]
  },
  {
   "cell_type": "code",
   "execution_count": null,
   "id": "9e20ecd3",
   "metadata": {},
   "outputs": [],
   "source": [
    "lqrt_result = sequential.mean_diff.lqrt[\"pvalue_paired_lqrt\"].to_list()\n",
    "                             \n",
    "p1 = [lqrt.lqrtest_rel(df.iloc[:,i], df.iloc[:,i+1], random_state=12345).pvalue\n",
    "            for i in range(1,5)] \n",
    "\n",
    "assert lqrt_result == pytest.approx(p1)"
   ]
  },
  {
   "cell_type": "markdown",
   "id": "f43ac68d",
   "metadata": {},
   "source": [
    "test_lqrt_paired_baseline"
   ]
  },
  {
   "cell_type": "code",
   "execution_count": null,
   "id": "5aee61a0",
   "metadata": {},
   "outputs": [],
   "source": [
    "lqrt_result = baseline.mean_diff.lqrt[\"pvalue_paired_lqrt\"].to_list()\n",
    "                             \n",
    "p1 = [lqrt.lqrtest_rel(df.iloc[:,1], df.iloc[:,i], random_state=12345).pvalue\n",
    "            for i in range(2,6)] \n",
    "\n",
    "assert lqrt_result == pytest.approx(p1)"
   ]
  }
 ],
 "metadata": {
  "kernelspec": {
   "display_name": "python3",
   "language": "python",
   "name": "python3"
  }
 },
 "nbformat": 4,
 "nbformat_minor": 5
}
