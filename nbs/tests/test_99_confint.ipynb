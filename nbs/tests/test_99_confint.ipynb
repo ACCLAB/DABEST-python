{
 "cells": [
  {
   "cell_type": "code",
   "execution_count": null,
   "id": "a3d966b3",
   "metadata": {},
   "outputs": [],
   "source": [
    "import numpy as np\n",
    "from scipy.stats import norm\n",
    "from scipy.stats import skewnorm\n",
    "import pandas as pd\n",
    "import pytest"
   ]
  },
  {
   "cell_type": "code",
   "execution_count": null,
   "id": "9920ab6c",
   "metadata": {},
   "outputs": [],
   "source": [
    "from dabest._api import load"
   ]
  },
  {
   "cell_type": "markdown",
   "id": "fa5cc9c1",
   "metadata": {},
   "source": [
    "test_paired_mean_diff_ci"
   ]
  },
  {
   "cell_type": "code",
   "execution_count": null,
   "id": "c39d5daa",
   "metadata": {},
   "outputs": [
    {
     "name": "stderr",
     "output_type": "stream",
     "text": [
      "C:\\Users\\zhang\\anaconda3\\lib\\site-packages\\scipy\\stats\\_morestats.py:3337: UserWarning: Exact p-value calculation does not work if there are zeros. Switching to normal approximation.\n",
      "  warnings.warn(\"Exact p-value calculation does not work if there are \"\n"
     ]
    }
   ],
   "source": [
    "# See Altman et al., Statistics with Confidence: \n",
    "# Confidence Intervals and Statistical Guidelines (Second Edition). Wiley, 2000.\n",
    "# Pg 31.\n",
    "# Added in v0.2.5.\n",
    "blood_pressure = {\"before\": [148, 142, 136, 134, 138, 140, 132, 144,\n",
    "                            128, 170, 162, 150, 138, 154, 126, 116],\n",
    "                  \"after\" : [152, 152, 134, 148, 144, 136, 144, 150, \n",
    "                            146, 174, 162, 162, 146, 156, 132, 126],\n",
    "                 \"subject_id\" : np.arange(1, 17)}\n",
    "exercise_bp = pd.DataFrame(blood_pressure)\n",
    "\n",
    "\n",
    "ex_bp = load(data=exercise_bp, idx=(\"before\", \"after\"), \n",
    "             paired=\"baseline\", id_col=\"subject_id\")\n",
    "paired_mean_diff = ex_bp.mean_diff.results\n",
    "\n",
    "assert pytest.approx(3.875) == paired_mean_diff.bca_low[0]\n",
    "assert pytest.approx(9.5) == paired_mean_diff.bca_high[0]"
   ]
  },
  {
   "cell_type": "markdown",
   "id": "de5c07cc",
   "metadata": {},
   "source": [
    "test_unpaired_ci"
   ]
  },
  {
   "cell_type": "code",
   "execution_count": null,
   "id": "11e82b97",
   "metadata": {},
   "outputs": [
    {
     "name": "stderr",
     "output_type": "stream",
     "text": [
      "c:\\users\\zhang\\desktop\\vnbdev-dabest\\dabest-python\\dabest\\_classes.py:1663: UserWarning: The lower limit of the interval was in the bottom 10 values. The result should be considered unstable.\n",
      "  warnings.warn(err_temp.substitute(lim_type=\"lower\",\n"
     ]
    },
    {
     "ename": "ModuleNotFoundError",
     "evalue": "No module named 'dabest.effsize'",
     "output_type": "error",
     "traceback": [
      "\u001b[1;31m---------------------------------------------------------------------------\u001b[0m",
      "\u001b[1;31mAttributeError\u001b[0m                            Traceback (most recent call last)",
      "File \u001b[1;32mc:\\users\\zhang\\desktop\\vnbdev-dabest\\dabest-python\\dabest\\_classes.py:2621\u001b[0m, in \u001b[0;36mEffectSizeDataFrame.results\u001b[1;34m(self)\u001b[0m\n\u001b[0;32m   2620\u001b[0m \u001b[38;5;28;01mtry\u001b[39;00m:\n\u001b[1;32m-> 2621\u001b[0m     \u001b[38;5;28;01mreturn\u001b[39;00m \u001b[38;5;28;43mself\u001b[39;49m\u001b[38;5;241;43m.\u001b[39;49m\u001b[43m__results\u001b[49m\n\u001b[0;32m   2622\u001b[0m \u001b[38;5;28;01mexcept\u001b[39;00m \u001b[38;5;167;01mAttributeError\u001b[39;00m:\n",
      "\u001b[1;31mAttributeError\u001b[0m: 'EffectSizeDataFrame' object has no attribute '_EffectSizeDataFrame__results'",
      "\nDuring handling of the above exception, another exception occurred:\n",
      "\u001b[1;31mModuleNotFoundError\u001b[0m                       Traceback (most recent call last)",
      "Cell \u001b[1;32mIn[5], line 79\u001b[0m\n\u001b[0;32m     76\u001b[0m load_kwargs \u001b[38;5;241m=\u001b[39m \u001b[38;5;28mdict\u001b[39m(ci\u001b[38;5;241m=\u001b[39mci, random_seed\u001b[38;5;241m=\u001b[39mrnd_sd)\n\u001b[0;32m     78\u001b[0m std_diff_data \u001b[38;5;241m=\u001b[39m load(data\u001b[38;5;241m=\u001b[39mstd_diff_df, idx\u001b[38;5;241m=\u001b[39m(\u001b[38;5;124m\"\u001b[39m\u001b[38;5;124mControl\u001b[39m\u001b[38;5;124m\"\u001b[39m, \u001b[38;5;124m\"\u001b[39m\u001b[38;5;124mTest\u001b[39m\u001b[38;5;124m\"\u001b[39m), \u001b[38;5;241m*\u001b[39m\u001b[38;5;241m*\u001b[39mload_kwargs)\n\u001b[1;32m---> 79\u001b[0m cd \u001b[38;5;241m=\u001b[39m \u001b[43mstd_diff_data\u001b[49m\u001b[38;5;241;43m.\u001b[39;49m\u001b[43mcohens_d\u001b[49m\u001b[38;5;241;43m.\u001b[39;49m\u001b[43mresults\u001b[49m\n\u001b[0;32m     80\u001b[0m \u001b[38;5;66;03m# print(\"cohen's d\")  # for debug.\u001b[39;00m\n\u001b[0;32m     81\u001b[0m cd_low, cd_high \u001b[38;5;241m=\u001b[39m \u001b[38;5;28mfloat\u001b[39m(cd\u001b[38;5;241m.\u001b[39mbca_low), \u001b[38;5;28mfloat\u001b[39m(cd\u001b[38;5;241m.\u001b[39mbca_high)\n",
      "File \u001b[1;32mc:\\users\\zhang\\desktop\\vnbdev-dabest\\dabest-python\\dabest\\_classes.py:2623\u001b[0m, in \u001b[0;36mEffectSizeDataFrame.results\u001b[1;34m(self)\u001b[0m\n\u001b[0;32m   2621\u001b[0m     \u001b[38;5;28;01mreturn\u001b[39;00m \u001b[38;5;28mself\u001b[39m\u001b[38;5;241m.\u001b[39m__results\n\u001b[0;32m   2622\u001b[0m \u001b[38;5;28;01mexcept\u001b[39;00m \u001b[38;5;167;01mAttributeError\u001b[39;00m:\n\u001b[1;32m-> 2623\u001b[0m     \u001b[38;5;28;43mself\u001b[39;49m\u001b[38;5;241;43m.\u001b[39;49m\u001b[43m__pre_calc\u001b[49m\u001b[43m(\u001b[49m\u001b[43m)\u001b[49m\n\u001b[0;32m   2624\u001b[0m     \u001b[38;5;28;01mreturn\u001b[39;00m \u001b[38;5;28mself\u001b[39m\u001b[38;5;241m.\u001b[39m__results\n",
      "File \u001b[1;32mc:\\users\\zhang\\desktop\\vnbdev-dabest\\dabest-python\\dabest\\_classes.py:2233\u001b[0m, in \u001b[0;36mEffectSizeDataFrame.__pre_calc\u001b[1;34m(self)\u001b[0m\n\u001b[0;32m   2230\u001b[0m     control \u001b[38;5;241m=\u001b[39m dat[dat[xvar] \u001b[38;5;241m==\u001b[39m cname][yvar]\u001b[38;5;241m.\u001b[39mcopy()\n\u001b[0;32m   2231\u001b[0m test \u001b[38;5;241m=\u001b[39m dat[dat[xvar] \u001b[38;5;241m==\u001b[39m tname][yvar]\u001b[38;5;241m.\u001b[39mcopy()\n\u001b[1;32m-> 2233\u001b[0m result \u001b[38;5;241m=\u001b[39m \u001b[43mTwoGroupsEffectSize\u001b[49m\u001b[43m(\u001b[49m\u001b[43mcontrol\u001b[49m\u001b[43m,\u001b[49m\u001b[43m \u001b[49m\u001b[43mtest\u001b[49m\u001b[43m,\u001b[49m\n\u001b[0;32m   2234\u001b[0m \u001b[43m                             \u001b[49m\u001b[38;5;28;43mself\u001b[39;49m\u001b[38;5;241;43m.\u001b[39;49m\u001b[43m__effect_size\u001b[49m\u001b[43m,\u001b[49m\n\u001b[0;32m   2235\u001b[0m \u001b[43m                             \u001b[49m\u001b[38;5;28;43mself\u001b[39;49m\u001b[38;5;241;43m.\u001b[39;49m\u001b[43m__proportional\u001b[49m\u001b[43m,\u001b[49m\n\u001b[0;32m   2236\u001b[0m \u001b[43m                             \u001b[49m\u001b[38;5;28;43mself\u001b[39;49m\u001b[38;5;241;43m.\u001b[39;49m\u001b[43m__is_paired\u001b[49m\u001b[43m,\u001b[49m\n\u001b[0;32m   2237\u001b[0m \u001b[43m                             \u001b[49m\u001b[38;5;28;43mself\u001b[39;49m\u001b[38;5;241;43m.\u001b[39;49m\u001b[43m__ci\u001b[49m\u001b[43m,\u001b[49m\n\u001b[0;32m   2238\u001b[0m \u001b[43m                             \u001b[49m\u001b[38;5;28;43mself\u001b[39;49m\u001b[38;5;241;43m.\u001b[39;49m\u001b[43m__resamples\u001b[49m\u001b[43m,\u001b[49m\n\u001b[0;32m   2239\u001b[0m \u001b[43m                             \u001b[49m\u001b[38;5;28;43mself\u001b[39;49m\u001b[38;5;241;43m.\u001b[39;49m\u001b[43m__permutation_count\u001b[49m\u001b[43m,\u001b[49m\n\u001b[0;32m   2240\u001b[0m \u001b[43m                             \u001b[49m\u001b[38;5;28;43mself\u001b[39;49m\u001b[38;5;241;43m.\u001b[39;49m\u001b[43m__random_seed\u001b[49m\u001b[43m)\u001b[49m\n\u001b[0;32m   2241\u001b[0m r_dict \u001b[38;5;241m=\u001b[39m result\u001b[38;5;241m.\u001b[39mto_dict()\n\u001b[0;32m   2242\u001b[0m r_dict[\u001b[38;5;124m\"\u001b[39m\u001b[38;5;124mcontrol\u001b[39m\u001b[38;5;124m\"\u001b[39m]   \u001b[38;5;241m=\u001b[39m cname\n",
      "File \u001b[1;32mc:\\users\\zhang\\desktop\\vnbdev-dabest\\dabest-python\\dabest\\_classes.py:1698\u001b[0m, in \u001b[0;36mTwoGroupsEffectSize.__init__\u001b[1;34m(self, control, test, effect_size, proportional, is_paired, ci, resamples, permutation_count, random_seed)\u001b[0m\n\u001b[0;32m   1694\u001b[0m \u001b[38;5;28mself\u001b[39m\u001b[38;5;241m.\u001b[39m__pct_high \u001b[38;5;241m=\u001b[39m sorted_bootstraps[pct_idx_high]\n\u001b[0;32m   1696\u001b[0m \u001b[38;5;66;03m# Perform statistical tests.\u001b[39;00m\n\u001b[1;32m-> 1698\u001b[0m \u001b[38;5;28mself\u001b[39m\u001b[38;5;241m.\u001b[39m__PermutationTest_result \u001b[38;5;241m=\u001b[39m \u001b[43mPermutationTest\u001b[49m\u001b[43m(\u001b[49m\u001b[43mcontrol\u001b[49m\u001b[43m,\u001b[49m\u001b[43m \u001b[49m\u001b[43mtest\u001b[49m\u001b[43m,\u001b[49m\u001b[43m \u001b[49m\n\u001b[0;32m   1699\u001b[0m \u001b[43m                                                \u001b[49m\u001b[43meffect_size\u001b[49m\u001b[43m,\u001b[49m\u001b[43m \u001b[49m\n\u001b[0;32m   1700\u001b[0m \u001b[43m                                                \u001b[49m\u001b[43mis_paired\u001b[49m\u001b[43m,\u001b[49m\n\u001b[0;32m   1701\u001b[0m \u001b[43m                                                \u001b[49m\u001b[43mpermutation_count\u001b[49m\u001b[43m)\u001b[49m\n\u001b[0;32m   1703\u001b[0m \u001b[38;5;28;01mif\u001b[39;00m is_paired \u001b[38;5;129;01mand\u001b[39;00m proportional \u001b[38;5;129;01mis\u001b[39;00m \u001b[38;5;28;01mFalse\u001b[39;00m:\n\u001b[0;32m   1704\u001b[0m     \u001b[38;5;66;03m# Wilcoxon, a non-parametric version of the paired T-test.\u001b[39;00m\n\u001b[0;32m   1705\u001b[0m     wilcoxon \u001b[38;5;241m=\u001b[39m spstats\u001b[38;5;241m.\u001b[39mwilcoxon(control, test)\n",
      "File \u001b[1;32mc:\\users\\zhang\\desktop\\vnbdev-dabest\\dabest-python\\dabest\\_classes.py:2820\u001b[0m, in \u001b[0;36mPermutationTest.__init__\u001b[1;34m(self, control, test, effect_size, is_paired, permutation_count, random_seed, **kwargs)\u001b[0m\n\u001b[0;32m   2818\u001b[0m \u001b[38;5;28;01mimport\u001b[39;00m \u001b[38;5;21;01mnumpy\u001b[39;00m \u001b[38;5;28;01mas\u001b[39;00m \u001b[38;5;21;01mnp\u001b[39;00m\n\u001b[0;32m   2819\u001b[0m \u001b[38;5;28;01mfrom\u001b[39;00m \u001b[38;5;21;01mnumpy\u001b[39;00m\u001b[38;5;21;01m.\u001b[39;00m\u001b[38;5;21;01mrandom\u001b[39;00m \u001b[38;5;28;01mimport\u001b[39;00m PCG64, RandomState\n\u001b[1;32m-> 2820\u001b[0m \u001b[38;5;28;01mfrom\u001b[39;00m \u001b[38;5;21;01m.\u001b[39;00m\u001b[38;5;21;01meffsize\u001b[39;00m \u001b[38;5;28;01mimport\u001b[39;00m two_group_difference\n\u001b[0;32m   2821\u001b[0m \u001b[38;5;28;01mfrom\u001b[39;00m \u001b[38;5;21;01m.\u001b[39;00m\u001b[38;5;21;01mconfint_2group_diff\u001b[39;00m \u001b[38;5;28;01mimport\u001b[39;00m calculate_group_var\n\u001b[0;32m   2824\u001b[0m \u001b[38;5;28mself\u001b[39m\u001b[38;5;241m.\u001b[39m__permutation_count \u001b[38;5;241m=\u001b[39m permutation_count\n",
      "\u001b[1;31mModuleNotFoundError\u001b[0m: No module named 'dabest.effsize'"
     ]
    }
   ],
   "source": [
    "# Dropped to 30 reps to save time. v0.2.5.\n",
    "reps=30\n",
    "ci=95\n",
    "POPULATION_N = 10000\n",
    "SAMPLE_N = 10\n",
    "\n",
    "# Create data for hedges g and cohens d.\n",
    "CONTROL_MEAN = np.random.randint(1, 1000)\n",
    "POP_SD       = np.random.randint(1, 15)\n",
    "POP_D        = np.round(np.random.uniform(-2, 2, 1)[0], 2)\n",
    "\n",
    "TRUE_STD_DIFFERENCE = CONTROL_MEAN + (POP_D * POP_SD)\n",
    "norm_sample_kwargs = dict(scale=POP_SD, size=SAMPLE_N)\n",
    "c1 = norm.rvs(loc=CONTROL_MEAN, **norm_sample_kwargs)\n",
    "t1 = norm.rvs(loc=CONTROL_MEAN+TRUE_STD_DIFFERENCE, **norm_sample_kwargs)\n",
    "\n",
    "std_diff_df = pd.DataFrame({'Control' : c1, 'Test': t1})\n",
    "\n",
    "\n",
    "\n",
    "# Create mean_diff data\n",
    "CONTROL_MEAN = np.random.randint(1, 1000)\n",
    "POP_SD       = np.random.randint(1, 15)\n",
    "TRUE_DIFFERENCE = np.random.randint(-POP_SD*5, POP_SD*5)\n",
    "\n",
    "c1 = norm.rvs(loc=CONTROL_MEAN, **norm_sample_kwargs)\n",
    "t1 = norm.rvs(loc=CONTROL_MEAN+TRUE_DIFFERENCE, **norm_sample_kwargs)\n",
    "\n",
    "mean_df = pd.DataFrame({'Control' : c1, 'Test': t1})\n",
    "\n",
    "\n",
    "\n",
    "# Create median_diff data\n",
    "MEDIAN_DIFFERENCE = np.random.randint(-5, 5)\n",
    "A = np.random.randint(-7, 7)\n",
    "\n",
    "skew_kwargs = dict(a=A, scale=5, size=POPULATION_N)\n",
    "skewpop1 = skewnorm.rvs(**skew_kwargs, loc=100)\n",
    "skewpop2 = skewnorm.rvs(**skew_kwargs, loc=100+MEDIAN_DIFFERENCE)\n",
    "\n",
    "sample_kwargs = dict(replace=False, size=SAMPLE_N)\n",
    "skewsample1 = np.random.choice(skewpop1, **sample_kwargs)\n",
    "skewsample2 = np.random.choice(skewpop2, **sample_kwargs)\n",
    "\n",
    "median_df = pd.DataFrame({'Control' : skewsample1, 'Test': skewsample2})\n",
    "\n",
    "\n",
    "\n",
    "# Create two populations with a 50% overlap.\n",
    "CD_DIFFERENCE = np.random.randint(1, 10)\n",
    "SD = np.abs(CD_DIFFERENCE)\n",
    "\n",
    "pop_kwargs = dict(scale=SD, size=POPULATION_N)\n",
    "pop1 = norm.rvs(loc=100, **pop_kwargs)\n",
    "pop2 = norm.rvs(loc=100+CD_DIFFERENCE, **pop_kwargs)\n",
    "\n",
    "sample_kwargs = dict(replace=False, size=SAMPLE_N)\n",
    "sample1 = np.random.choice(pop1, **sample_kwargs)\n",
    "sample2 = np.random.choice(pop2, **sample_kwargs)\n",
    "\n",
    "cd_df = pd.DataFrame({'Control' : sample1, 'Test': sample2})\n",
    "\n",
    "\n",
    "\n",
    "# Create several CIs and see if the true population difference lies within.\n",
    "error_count_cohens_d     = 0\n",
    "error_count_hedges_g     = 0\n",
    "error_count_mean_diff    = 0\n",
    "error_count_median_diff  = 0\n",
    "error_count_cliffs_delta = 0\n",
    "\n",
    "for i in range(0, reps):\n",
    "    # print(i) # for debug.\n",
    "    # pick a random seed\n",
    "    rnd_sd = np.random.randint(0, 999999)\n",
    "    load_kwargs = dict(ci=ci, random_seed=rnd_sd)\n",
    "\n",
    "    std_diff_data = load(data=std_diff_df, idx=(\"Control\", \"Test\"), **load_kwargs)\n",
    "    cd = std_diff_data.cohens_d.results\n",
    "    # print(\"cohen's d\")  # for debug.\n",
    "    cd_low, cd_high = float(cd.bca_low), float(cd.bca_high)\n",
    "    if cd_low < POP_D < cd_high is False:\n",
    "        error_count_cohens_d += 1\n",
    "\n",
    "    hg = std_diff_data.hedges_g.results\n",
    "    # print(\"hedges' g\") # for debug.\n",
    "    hg_low, hg_high = float(hg.bca_low), float(hg.bca_high)\n",
    "    if hg_low < POP_D < hg_high is False:\n",
    "        error_count_hedges_g += 1\n",
    "\n",
    "\n",
    "    mean_diff_data = load(data=mean_df, idx=(\"Control\", \"Test\"), **load_kwargs)\n",
    "    mean_d = mean_diff_data.mean_diff.results\n",
    "    # print(\"mean diff\") # for debug.\n",
    "    mean_d_low, mean_d_high = float(mean_d.bca_low), float(mean_d.bca_high)\n",
    "    if mean_d_low < TRUE_DIFFERENCE < mean_d_high is False:\n",
    "        error_count_mean_diff += 1\n",
    "\n",
    "\n",
    "    median_diff_data = load(data=median_df, idx=(\"Control\", \"Test\"),\n",
    "                         **load_kwargs)\n",
    "    median_d = median_diff_data.median_diff.results\n",
    "    # print(\"median diff\") # for debug.\n",
    "    median_d_low, median_d_high = float(median_d.bca_low), float(median_d.bca_high)\n",
    "    if median_d_low < MEDIAN_DIFFERENCE < median_d_high is False:\n",
    "        error_count_median_diff += 1\n",
    "\n",
    "\n",
    "    cd_data = load(data=cd_df, idx=(\"Control\", \"Test\"), **load_kwargs)\n",
    "    cliffs = cd_data.cliffs_delta.results\n",
    "    # print(\"cliff's delta\") # for debug.\n",
    "    low, high = float(cliffs.bca_low), float(cliffs.bca_high)\n",
    "    if low < 0.5 < high is False:\n",
    "        error_count_cliffs_delta += 1\n",
    "\n",
    "\n",
    "max_errors = int(np.ceil(reps * (100 - ci) / 100))\n",
    "\n",
    "assert error_count_cohens_d     <= max_errors\n",
    "assert error_count_hedges_g     <= max_errors\n",
    "assert error_count_mean_diff    <= max_errors\n",
    "assert error_count_median_diff  <= max_errors\n",
    "assert error_count_cliffs_delta <= max_errors\n"
   ]
  },
  {
   "cell_type": "code",
   "execution_count": null,
   "id": "9da1b76d",
   "metadata": {},
   "outputs": [],
   "source": []
  }
 ],
 "metadata": {
  "kernelspec": {
   "display_name": "python3",
   "language": "python",
   "name": "python3"
  }
 },
 "nbformat": 4,
 "nbformat_minor": 5
}
