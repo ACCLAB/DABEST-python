{
 "cells": [
  {
   "cell_type": "code",
   "execution_count": null,
   "id": "a25d3bb6",
   "metadata": {},
   "outputs": [],
   "source": [
    "import numpy as np\n",
    "from numpy.random import PCG64, RandomState\n",
    "import scipy as sp\n",
    "import pytest\n",
    "import pandas as pd"
   ]
  },
  {
   "cell_type": "code",
   "execution_count": null,
   "id": "359558a0",
   "metadata": {},
   "outputs": [],
   "source": [
    "from dabest._api import load"
   ]
  },
  {
   "cell_type": "markdown",
   "id": "f538f98b",
   "metadata": {},
   "source": [
    "### test_unrelated_columns\n",
    "\n",
    "    Test to see if 'unrelated' columns jam up the analysis.\n",
    "    See Github Issue 43.\n",
    "    https://github.com/ACCLAB/DABEST-python/issues/44.\n",
    "    \n",
    "    Added in v0.2.5.\n"
   ]
  },
  {
   "cell_type": "code",
   "execution_count": null,
   "id": "417bd33a",
   "metadata": {},
   "outputs": [],
   "source": [
    "N=60\n",
    "random_seed=12345\n",
    "\n",
    "# rng = RandomState(MT19937(random_seed))\n",
    "rng = RandomState(PCG64(12345))\n",
    "# rng = np.random.default_rng(seed=random_seed)\n",
    "\n",
    "df = pd.DataFrame(\n",
    "    {'groups': rng.choice(['Group 1', 'Group 2', 'Group 3'], size=(N,)),\n",
    "     'color' : rng.choice(['green', 'red', 'purple'], size=(N,)),\n",
    "     'value':  rng.random(size=(N,))})\n",
    "\n",
    "df['unrelated'] = np.nan\n",
    "\n",
    "test = load(data=df, x='groups', y='value', \n",
    "            idx=['Group 1', 'Group 2'])\n",
    "\n",
    "md = test.mean_diff.results\n",
    "\n",
    "assert md.difference[0] == pytest.approx(-0.0322, abs=1e-4)\n",
    "assert md.bca_low[0]    == pytest.approx(-0.2279, abs=1e-4)\n",
    "assert md.bca_high[0]   == pytest.approx(0.1613, abs=1e-4)"
   ]
  },
  {
   "cell_type": "code",
   "execution_count": null,
   "id": "afc96b46",
   "metadata": {},
   "outputs": [],
   "source": []
  }
 ],
 "metadata": {
  "kernelspec": {
   "display_name": "python3",
   "language": "python",
   "name": "python3"
  }
 },
 "nbformat": 4,
 "nbformat_minor": 5
}
