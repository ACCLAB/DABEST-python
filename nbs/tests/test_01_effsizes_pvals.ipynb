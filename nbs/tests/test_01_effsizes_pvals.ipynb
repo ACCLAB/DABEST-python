{
 "cells": [
  {
   "cell_type": "code",
   "execution_count": null,
   "id": "6e2c4075",
   "metadata": {},
   "outputs": [],
   "source": [
    "import pytest\n",
    "import lqrt\n",
    "import numpy as np\n",
    "from numpy import median as npmedian\n",
    "from numpy import mean as npmean\n",
    "import scipy as sp\n",
    "import pandas as pd"
   ]
  },
  {
   "cell_type": "code",
   "execution_count": null,
   "id": "2f9abde6",
   "metadata": {},
   "outputs": [],
   "source": [
    "from dabest._stats_tools import effsize\n",
    "from dabest._classes import TwoGroupsEffectSize, PermutationTest, Dabest"
   ]
  },
  {
   "cell_type": "code",
   "execution_count": null,
   "id": "30de06ac",
   "metadata": {},
   "outputs": [],
   "source": [
    "# Data for tests.\n",
    "# See Cumming, G. Understanding the New Statistics:\n",
    "# Effect Sizes, Confidence Intervals, and Meta-Analysis. Routledge, 2012,\n",
    "# from Cumming 2012 Table 11.1 Pg 287.\n",
    "wb = {\"control\": [34, 54, 33, 44, 45, 53, 37, 26, 38, 58],\n",
    "      \"expt\":    [66, 38, 35, 55, 48, 39, 65, 32, 57, 41]}\n",
    "wellbeing = pd.DataFrame(wb)\n",
    "\n",
    "\n",
    "\n",
    "# from Cumming 2012 Table 11.2 Page 291\n",
    "paired_wb = {\"pre\":   [43, 28, 54, 36, 31, 48, 50, 69, 29, 40],\n",
    "             \"post\":  [51, 33, 58, 42, 39, 45, 54, 68, 35, 44],\n",
    "             \"ID\":    np.arange(10)}\n",
    "paired_wellbeing = pd.DataFrame(paired_wb)\n",
    "\n",
    "\n",
    "\n",
    "# Data for testing Cohen's calculation.\n",
    "# Only work with binary data.\n",
    "# See Venables, W. N. and Ripley, B. D. (2002) Modern Applied Statistics with S. Fourth edition. Springer.\n",
    "# Make two groups of `smoke` by choosing `low` as a standard, and the data is trimed from the back.\n",
    "sk = {  \"low\":  [0, 0, 1, 1, 1, 0, 0, 0, 1, 1, 0, 0, 0, 0, 1, 1, 0, 1, 0, 1, 0, 0, 0, 0, 0, 0, 1, 0, 1, 0, 0, 1, \n",
    "                 1, 0, 0, 1, 1, 1, 1, 1, 1, 0, 0, 0, 1, 1, 0, 0, 0, 1, 0, 0, 1, 1, 0, 0, 1, 0, 0],\n",
    "        \"high\": [1, 0, 1, 0, 0, 0, 0, 0, 0, 1, 1, 1, 0, 0, 1, 1, 0, 1, 0, 0, 0, 0, 1, 1, 0, 1, 1, 1, 0, 1, 1, 0, \n",
    "                 0, 0, 1, 1, 0, 0, 1, 0, 1, 1, 1, 0, 0, 1, 1, 1, 1, 0, 0, 0, 1, 1, 1, 0, 1, 0, 1]}\n",
    "smoke = pd.DataFrame(sk)\n",
    "\n",
    "\n",
    "\n",
    "# Data from Hogarty and Kromrey (1999)\n",
    "# Kromrey, Jeffrey D., and Kristine Y. Hogarty. 1998.\n",
    "# \"Analysis Options for Testing Group Differences on Ordered Categorical\n",
    "# Variables: An Empirical Investigation of Type I Error Control\n",
    "# Statistical Power.\"\n",
    "# Multiple Linear Regression Viewpoints 25 (1): 70 - 82.\n",
    "likert_control   = [1, 1, 2, 2, 2, 3, 3, 3, 4, 5]\n",
    "likert_treatment = [1, 2, 3, 4, 4, 5]\n",
    "\n",
    "\n",
    "\n",
    "# Data from Cliff (1993)\n",
    "# Cliff, Norman. 1993. \"Dominance Statistics: Ordinal Analyses to Answer\n",
    "# Ordinal Questions.\"\n",
    "# Psychological Bulletin 114 (3): 494-509.\n",
    "a_scores = [6, 7, 9, 10]\n",
    "b_scores = [1, 3, 4, 7, 8]\n",
    "\n",
    "\n",
    "\n",
    "# kwargs for Dabest class init.\n",
    "dabest_default_kwargs = dict(x=None, y=None, ci=95, \n",
    "                            resamples=5000, random_seed=12345,\n",
    "                            proportional=False, delta2=False, experiment=None, \n",
    "                            experiment_label=None, x1_level=None, mini_meta=False\n",
    "                            )"
   ]
  },
  {
   "cell_type": "markdown",
   "id": "8443abc1",
   "metadata": {},
   "source": [
    "test_mean_diff_unpaired"
   ]
  },
  {
   "cell_type": "code",
   "execution_count": null,
   "id": "0f61f756",
   "metadata": {},
   "outputs": [],
   "source": [
    "mean_diff = effsize.func_difference(wellbeing.control, wellbeing.expt,\n",
    "                                    np.mean, is_paired=False)\n",
    "assert mean_diff == pytest.approx(5.4)"
   ]
  },
  {
   "cell_type": "markdown",
   "id": "ed34f114",
   "metadata": {},
   "source": [
    "test_median_diff_unpaired"
   ]
  },
  {
   "cell_type": "code",
   "execution_count": null,
   "id": "767dd8cf",
   "metadata": {},
   "outputs": [],
   "source": [
    "median_diff = effsize.func_difference(wellbeing.control, wellbeing.expt,\n",
    "                                    npmedian, is_paired=False)\n",
    "assert median_diff == pytest.approx(3.5)"
   ]
  },
  {
   "cell_type": "markdown",
   "id": "3b5a8f2f",
   "metadata": {},
   "source": [
    "test_mean_diff_paired"
   ]
  },
  {
   "cell_type": "code",
   "execution_count": null,
   "id": "0392c89c",
   "metadata": {},
   "outputs": [],
   "source": [
    "mean_diff = effsize.func_difference(paired_wellbeing.pre,\n",
    "                                    paired_wellbeing.post,\n",
    "                                    npmean, is_paired=\"baseline\")\n",
    "assert mean_diff == pytest.approx(4.10)"
   ]
  },
  {
   "cell_type": "markdown",
   "id": "2e8c9402",
   "metadata": {},
   "source": [
    "test_median_diff_paired"
   ]
  },
  {
   "cell_type": "code",
   "execution_count": null,
   "id": "0dff5a08",
   "metadata": {},
   "outputs": [],
   "source": [
    "median_diff = effsize.func_difference(paired_wellbeing.pre,\n",
    "                                      paired_wellbeing.post,\n",
    "                                      npmedian, is_paired=\"baseline\")\n",
    "assert median_diff == pytest.approx(4.5)"
   ]
  },
  {
   "cell_type": "markdown",
   "id": "246036ea",
   "metadata": {},
   "source": [
    "test_cohens_d_unpaired"
   ]
  },
  {
   "cell_type": "code",
   "execution_count": null,
   "id": "8c4f2889",
   "metadata": {},
   "outputs": [],
   "source": [
    "cohens_d = effsize.cohens_d(wellbeing.control, wellbeing.expt,\n",
    "                            is_paired=False)\n",
    "assert np.round(cohens_d, 2) == pytest.approx(0.47)"
   ]
  },
  {
   "cell_type": "markdown",
   "id": "dfc37dbc",
   "metadata": {},
   "source": [
    "test_hedges_g_unpaired"
   ]
  },
  {
   "cell_type": "code",
   "execution_count": null,
   "id": "47d33c67",
   "metadata": {},
   "outputs": [],
   "source": [
    "hedges_g = effsize.hedges_g(wellbeing.control, wellbeing.expt,\n",
    "                                is_paired=False)\n",
    "assert np.round(hedges_g, 2) == pytest.approx(0.45)"
   ]
  },
  {
   "cell_type": "markdown",
   "id": "4fd38d44",
   "metadata": {},
   "source": [
    "test_cohens_d_paired"
   ]
  },
  {
   "cell_type": "code",
   "execution_count": null,
   "id": "ec76bc0f",
   "metadata": {},
   "outputs": [],
   "source": [
    "cohens_d = effsize.cohens_d(paired_wellbeing.pre, paired_wellbeing.post,\n",
    "                                is_paired=\"baseline\")\n",
    "assert np.round(cohens_d, 2) == pytest.approx(0.34)\n"
   ]
  },
  {
   "cell_type": "markdown",
   "id": "2a772b30",
   "metadata": {},
   "source": [
    "test_hedges_g_paired"
   ]
  },
  {
   "cell_type": "code",
   "execution_count": null,
   "id": "fe28bdc1",
   "metadata": {},
   "outputs": [],
   "source": [
    "hedges_g = effsize.hedges_g(paired_wellbeing.pre, paired_wellbeing.post,\n",
    "                            is_paired=\"baseline\")\n",
    "assert np.round(hedges_g, 2) == pytest.approx(0.33)"
   ]
  },
  {
   "cell_type": "markdown",
   "id": "c70d5415",
   "metadata": {},
   "source": [
    "test_cohens_h"
   ]
  },
  {
   "cell_type": "code",
   "execution_count": null,
   "id": "36ddc28c",
   "metadata": {},
   "outputs": [],
   "source": [
    "cohens_h = effsize.cohens_h(smoke.low, smoke.high)\n",
    "assert np.round(cohens_h, 2) == pytest.approx(0.17)"
   ]
  },
  {
   "cell_type": "markdown",
   "id": "85935481",
   "metadata": {},
   "source": [
    "test_cliffs_delta"
   ]
  },
  {
   "cell_type": "code",
   "execution_count": null,
   "id": "33bd09cc",
   "metadata": {},
   "outputs": [],
   "source": [
    "likert_delta = effsize.cliffs_delta(likert_treatment, likert_control)\n",
    "assert likert_delta == pytest.approx(-0.25)\n",
    "\n",
    "scores_delta = effsize.cliffs_delta(b_scores, a_scores)\n",
    "assert scores_delta == pytest.approx(0.65)"
   ]
  },
  {
   "cell_type": "markdown",
   "id": "ca1a50c5",
   "metadata": {},
   "source": [
    "test_unpaired_stats"
   ]
  },
  {
   "cell_type": "code",
   "execution_count": null,
   "id": "16884a64",
   "metadata": {},
   "outputs": [],
   "source": [
    "c = wellbeing.control\n",
    "t = wellbeing.expt\n",
    "\n",
    "unpaired_es = TwoGroupsEffectSize(c, t, \"mean_diff\", is_paired=False, proportional=False)\n",
    "\n",
    "p1 = sp.stats.mannwhitneyu(c, t, alternative=\"two-sided\").pvalue\n",
    "assert unpaired_es.pvalue_mann_whitney == pytest.approx(p1)\n",
    "\n",
    "p2 = sp.stats.ttest_ind(c, t, nan_policy='omit').pvalue\n",
    "assert unpaired_es.pvalue_students_t == pytest.approx(p2)\n",
    "\n",
    "p3 = sp.stats.ttest_ind(c, t, equal_var=False, nan_policy='omit').pvalue\n",
    "assert unpaired_es.pvalue_welch == pytest.approx(p3)"
   ]
  },
  {
   "cell_type": "markdown",
   "id": "0ced5798",
   "metadata": {},
   "source": [
    "test_paired_stats"
   ]
  },
  {
   "cell_type": "code",
   "execution_count": null,
   "id": "5be74408",
   "metadata": {},
   "outputs": [],
   "source": [
    "before = paired_wellbeing.pre\n",
    "after = paired_wellbeing.post\n",
    "\n",
    "paired_es = TwoGroupsEffectSize(before, after, \"mean_diff\", is_paired=\"baseline\", proportional=False)\n",
    "\n",
    "p1 = sp.stats.ttest_rel(before, after, nan_policy='omit').pvalue\n",
    "assert paired_es.pvalue_paired_students_t == pytest.approx(p1)\n",
    "\n",
    "p2 = sp.stats.wilcoxon(before, after).pvalue\n",
    "assert paired_es.pvalue_wilcoxon == pytest.approx(p2)"
   ]
  },
  {
   "cell_type": "markdown",
   "id": "10b9fb80",
   "metadata": {},
   "source": [
    "test_median_diff_stats"
   ]
  },
  {
   "cell_type": "code",
   "execution_count": null,
   "id": "371d7182",
   "metadata": {},
   "outputs": [
    {
     "name": "stderr",
     "output_type": "stream",
     "text": [
      "C:\\Users\\zhang\\Desktop\\vnbdev-dabest\\DABEST-python\\dabest\\effsize.py:77: UserWarning: Using median as the statistic in bootstrapping may result in a biased estimate and cause problems with BCa confidence intervals. Consider using a different statistic, such as the mean.\n",
      "When plotting, please consider using percetile confidence intervals by specifying `ci_type='percentile'`. For detailed information, refer to https://github.com/ACCLAB/DABEST-python/issues/129 \n",
      "\n",
      "  warnings.warn(message=mes1+mes2, category=UserWarning)\n"
     ]
    }
   ],
   "source": [
    "c = wellbeing.control\n",
    "t = wellbeing.expt\n",
    "\n",
    "es = TwoGroupsEffectSize(c, t, \"median_diff\", is_paired=False, proportional=False)\n",
    "\n",
    "p1 = sp.stats.kruskal(c, t, nan_policy='omit').pvalue\n",
    "assert es.pvalue_kruskal == pytest.approx(p1)"
   ]
  },
  {
   "cell_type": "markdown",
   "id": "fbf5962b",
   "metadata": {},
   "source": [
    "test_ordinal_dominance"
   ]
  },
  {
   "cell_type": "code",
   "execution_count": null,
   "id": "65a0d9c6",
   "metadata": {},
   "outputs": [],
   "source": [
    "es = TwoGroupsEffectSize(likert_control, likert_treatment, \n",
    "                             \"cliffs_delta\", is_paired=False, proportional=False)\n",
    "                             \n",
    "p1 = sp.stats.brunnermunzel(likert_control, likert_treatment).pvalue\n",
    "assert es.pvalue_brunner_munzel == pytest.approx(p1)"
   ]
  },
  {
   "cell_type": "markdown",
   "id": "34885930",
   "metadata": {},
   "source": [
    "test_unpaired_permutation_test"
   ]
  },
  {
   "cell_type": "code",
   "execution_count": null,
   "id": "44d1b0d3",
   "metadata": {},
   "outputs": [],
   "source": [
    "perm_test = PermutationTest(wellbeing.control, wellbeing.expt, \n",
    "                                effect_size=\"mean_diff\", \n",
    "                                is_paired=False)\n",
    "assert perm_test.pvalue == pytest.approx(0.2976)    "
   ]
  },
  {
   "cell_type": "markdown",
   "id": "c36603ed",
   "metadata": {},
   "source": [
    "test_paired_permutation_test"
   ]
  },
  {
   "cell_type": "code",
   "execution_count": null,
   "id": "45477ae1",
   "metadata": {},
   "outputs": [],
   "source": [
    "perm_test = PermutationTest(paired_wellbeing.pre, \n",
    "                                paired_wellbeing.post, \n",
    "                                effect_size=\"mean_diff\", \n",
    "                                is_paired=\"baseline\")\n",
    "assert perm_test.pvalue == pytest.approx(0.0124)"
   ]
  },
  {
   "cell_type": "markdown",
   "id": "3279e7c7",
   "metadata": {},
   "source": [
    "test_lqrt_unpaired"
   ]
  },
  {
   "cell_type": "code",
   "execution_count": null,
   "id": "78a98593",
   "metadata": {},
   "outputs": [],
   "source": [
    "unpaired_dabest = Dabest(wellbeing, idx=(\"control\", \"expt\"), \n",
    "                             paired=None, id_col=None, \n",
    "                             **dabest_default_kwargs)\n",
    "lqrt_result = unpaired_dabest.mean_diff.lqrt\n",
    "\n",
    "p1 = lqrt.lqrtest_ind(wellbeing.control, wellbeing.expt,\n",
    "                      equal_var=True,\n",
    "                      random_state=12345)\n",
    "\n",
    "p2 = lqrt.lqrtest_ind(wellbeing.control, wellbeing.expt,\n",
    "                      equal_var=False,\n",
    "                      random_state=12345)\n",
    "\n",
    "assert lqrt_result.pvalue_lqrt_equal_var[0] == pytest.approx(p1.pvalue)\n",
    "assert lqrt_result.pvalue_lqrt_unequal_var[0] == pytest.approx(p2.pvalue)"
   ]
  },
  {
   "cell_type": "markdown",
   "id": "fd63ddff",
   "metadata": {},
   "source": [
    "test_lqrt_paired"
   ]
  },
  {
   "cell_type": "code",
   "execution_count": null,
   "id": "680aa3f0",
   "metadata": {},
   "outputs": [],
   "source": [
    "paired_dabest = Dabest(paired_wellbeing, idx=(\"pre\", \"post\"),\n",
    "                           paired=\"baseline\", id_col=\"ID\",\n",
    "                           **dabest_default_kwargs)\n",
    "lqrt_result = paired_dabest.mean_diff.lqrt\n",
    "\n",
    "p1 = lqrt.lqrtest_rel(paired_wellbeing.pre, paired_wellbeing.post, \n",
    "             random_state=12345)\n",
    "\n",
    "assert lqrt_result.pvalue_paired_lqrt[0] == pytest.approx(p1.pvalue)"
   ]
  }
 ],
 "metadata": {
  "kernelspec": {
   "display_name": "python3",
   "language": "python",
   "name": "python3"
  }
 },
 "nbformat": 4,
 "nbformat_minor": 5
}
