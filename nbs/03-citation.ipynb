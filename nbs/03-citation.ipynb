{
 "cells": [
  {
   "cell_type": "markdown",
   "id": "95d72bf3",
   "metadata": {},
   "source": [
    "# Citing DABEST"
   ]
  },
  {
   "cell_type": "markdown",
   "id": "b0833edd",
   "metadata": {},
   "source": [
    "\n",
    "\n",
    "If your publication features a graphic generated with this software library, please cite the following publication.\n",
    "\n",
    "**Moving beyond P values: Everyday data analysis with estimation plots**\n",
    "Joses Ho, Tayfun Tumkaya, Sameer Aryal, Hyungwon Choi, Adam Claridge-Chang\n",
    "\n",
    "`Nature Methods` 2019, 1548-7105. [doi:10.1038/s41592-019-0470-3](https://doi.org/10.1038/s41592-019-0470-3)\n",
    "\n",
    "[Free-to-view PDF](https://rdcu.be/bHhJ4)\n",
    "\n",
    "[Paywalled publisher site](https://www.nature.com/articles/s41592-019-0470-3)\n"
   ]
  },
  {
   "cell_type": "code",
   "execution_count": null,
   "id": "808f8708",
   "metadata": {},
   "outputs": [],
   "source": []
  }
 ],
 "metadata": {
  "kernelspec": {
   "display_name": "python3",
   "language": "python",
   "name": "python3"
  }
 },
 "nbformat": 4,
 "nbformat_minor": 5
}
