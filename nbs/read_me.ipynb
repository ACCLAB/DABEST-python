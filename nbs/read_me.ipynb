{
 "cells": [
  {
   "cell_type": "markdown",
   "id": "205a828a",
   "metadata": {},
   "source": [
    "# DABEST-Python\n",
    "\n",
    "[![minimal Python version](https://img.shields.io/badge/Python%3E%3D-3.6-6666ff.svg)](https://www.anaconda.com/distribution/)\n",
    "[![PyPI version](https://badge.fury.io/py/dabest.svg)](https://badge.fury.io/py/dabest)\n",
    "[![Downloads](https://pepy.tech/badge/dabest/month)](https://pepy.tech/project/dabest/month)\n",
    "[![Free-to-view citation](https://zenodo.org/badge/DOI/10.1038/s41592-019-0470-3.svg)](https://rdcu.be/bHhJ4)\n",
    "[![License](https://img.shields.io/badge/License-BSD%203--Clause--Clear-orange.svg)](https://spdx.org/licenses/BSD-3-Clause-Clear.html)"
   ]
  },
  {
   "attachments": {},
   "cell_type": "markdown",
   "id": "8fcb9b6e",
   "metadata": {},
   "source": [
    "## Recent Version Update\n",
    "\n",
    "On 20 March 2023, we officially released **DABEST v2023.02.14 for Python**. This new version provided the following new features:\n",
    "\n",
    "1. **Repeated measures.** Augments the prior function for plotting (independent) multiple test groups versus a shared control; it can now do the same for repeated-measures experimental designs. Thus, together, these two methods can be used to replace both flavors of the 1-way ANOVA with an estimation analysis.\n",
    "\n",
    "2. **Proportional data.** Generates proportional bar plots, proportional differences, and calculates Cohen's h. Also enables plotting Sankey diagrams for paired binary data. This is the estimation equivalent to a bar chart with Fisher's exact test.\n",
    "\n",
    "3. **The $\\Delta\\Delta$ plot.** Calculates the delta-delta ($\\Delta\\Delta$) for 2 × 2 experimental designs and plots the four groups with their relevant effect sizes. This design can be used as a replacement for the 2 × 2 ANOVA.\n",
    "\n",
    "4. **Mini-meta.** Calculates and plots a weighted delta ($\\Delta$) for meta-analysis of experimental replicates. Useful for summarizing data from multiple replicated experiments, for example by different scientists in the same lab, or the same scientist at different times. When the observed values are known (and share a common metric), this makes meta-analysis available as a routinely accessible tool."
   ]
  },
  {
   "cell_type": "markdown",
   "id": "ac5ef3e3",
   "metadata": {},
   "source": [
    "## Contents\n",
    "<!-- TOC depthFrom:1 depthTo:2 withLinks:1 updateOnSave:1 orderedList:0 -->\n",
    "- [About](#about)\n",
    "- [Installation](#installation)\n",
    "- [Usage](#usage)\n",
    "- [How to cite](#how-to-cite)\n",
    "- [Bugs](#bugs)\n",
    "- [Contributing](#contributing)\n",
    "- [Acknowledgements](#acknowledgements)\n",
    "- [Testing](#testing)\n",
    "- [DABEST in other languages](#dabest-in-other-languages)\n",
    "\n",
    "<!-- /TOC -->\n"
   ]
  },
  {
   "cell_type": "markdown",
   "id": "be09ee89",
   "metadata": {},
   "source": [
    "## About\n",
    "\n",
    "DABEST is a package for **D**ata **A**nalysis using **B**ootstrap-Coupled **EST**imation.\n",
    "\n",
    "[Estimation statistics](https://en.wikipedia.org/wiki/Estimation_statistics) is a [simple framework](https://thenewstatistics.com/itns/) that avoids the [pitfalls](https://www.nature.com/articles/nmeth.3288) of significance testing. It uses familiar statistical concepts: means, mean differences, and error bars. More importantly, it focuses on the effect size of one's experiment/intervention, as opposed to a false dichotomy engendered by *P* values.\n",
    "\n",
    "An estimation plot has two key features.\n",
    "\n",
    "1. It presents all datapoints as a swarmplot, which orders each point to display the underlying distribution.\n",
    "\n",
    "2. It presents the effect size as a **bootstrap 95% confidence interval** on a **separate but aligned axes**.\n",
    "\n",
    "![The five kinds of estimation plots](showpiece.png \"The five kinds of estimation plots.\")\n",
    "\n",
    "DABEST powers [estimationstats.com](https://www.estimationstats.com/), allowing everyone access to high-quality estimation plots.\n"
   ]
  },
  {
   "cell_type": "markdown",
   "id": "1044e2c0",
   "metadata": {},
   "source": [
    "## Installation\n",
    "\n",
    "This package is tested on Python 3.6, 3.7, and 3.8.\n",
    "It is highly recommended to download the [Anaconda distribution](https://www.continuum.io/downloads) of Python in order to obtain the dependencies easily.\n",
    "\n",
    "You can install this package via `pip`.\n",
    "\n",
    "To install, at the command line run\n",
    "<!-- ```shell\n",
    "conda config --add channels conda-forge\n",
    "conda install dabest\n",
    "```\n",
    "or -->\n",
    "```shell\n",
    "pip install --upgrade dabest\n",
    "```\n",
    "You can also [clone](https://help.github.com/articles/cloning-a-repository) this repo locally.\n",
    "\n",
    "Then, navigate to the cloned repo in the command line and run\n",
    "\n",
    "```shell\n",
    "pip install .\n",
    "```"
   ]
  },
  {
   "cell_type": "markdown",
   "id": "bf4d69d6",
   "metadata": {},
   "source": [
    "## Usage\n",
    "\n",
    "```python3\n",
    "import pandas as pd\n",
    "import dabest\n",
    "\n",
    "# Load the iris dataset. Requires internet access.\n",
    "iris = pd.read_csv(\"https://github.com/mwaskom/seaborn-data/raw/master/iris.csv\")\n",
    "\n",
    "# Load the above data into `dabest`.\n",
    "iris_dabest = dabest.load(data=iris, x=\"species\", y=\"petal_width\",\n",
    "                          idx=(\"setosa\", \"versicolor\", \"virginica\"))\n",
    "\n",
    "# Produce a Cumming estimation plot.\n",
    "iris_dabest.mean_diff.plot();\n",
    "```\n",
    "![A Cumming estimation plot of petal width from the iris dataset](iris.png)\n",
    "\n",
    "Please refer to the official [tutorial](https://acclab.github.io/DABEST-python-docs/tutorial.html) for more useful code snippets.\n",
    "\n"
   ]
  },
  {
   "cell_type": "markdown",
   "id": "af18a2c0",
   "metadata": {},
   "source": [
    "## How to cite\n",
    "\n",
    "**Moving beyond P values: Everyday data analysis with estimation plots**\n",
    "\n",
    "*Joses Ho, Tayfun Tumkaya, Sameer Aryal, Hyungwon Choi, Adam Claridge-Chang*\n",
    "\n",
    "Nature Methods 2019, 1548-7105. [10.1038/s41592-019-0470-3](http://dx.doi.org/10.1038/s41592-019-0470-3)\n",
    "\n",
    "[Paywalled publisher site](https://www.nature.com/articles/s41592-019-0470-3); [Free-to-view PDF](https://rdcu.be/bHhJ4)\n",
    "\n",
    "\n",
    "## Bugs\n",
    "\n",
    "Please report any bugs on the [Github issue tracker](https://github.com/ACCLAB/DABEST-python/issues/new).\n",
    "\n"
   ]
  },
  {
   "cell_type": "markdown",
   "id": "24b19856",
   "metadata": {},
   "source": [
    "## Contributing\n",
    "\n",
    "All contributions are welcome; please read the [Guidelines for contributing](https://github.com/ACCLAB/DABEST-python/blob/master/CONTRIBUTING.md) first.\n",
    "\n",
    "We also have a [Code of Conduct](https://github.com/ACCLAB/DABEST-python/blob/master/CODE_OF_CONDUCT.md) to foster an inclusive and productive space.\n"
   ]
  },
  {
   "cell_type": "markdown",
   "id": "b1e2578a",
   "metadata": {},
   "source": [
    "### A wish list for new features\n",
    "Currently, DABEST offers functions to handle data traditionally analyzed with Student's paired and unpaired t-tests. It also offers plots for multiplexed versions of these, and the estimation counterpart to a 1-way analysis of variance (ANOVA), the shared-control design. While these five functions execute a large fraction of common biomedical data analyses, there remain three others: 2-way data, time-series group data, and proportional data. We aim to add these new functions to both the R and Python libraries.\n",
    "\n",
    "- In many experiments, four groups are investigate to isolate an interaction, for example: a genotype × drug effect. Here, wild-type and mutant animals are each subjected to drug or sham treatments; the data are traditionally analysed with a 2×2 ANOVA. We have received requests by email, Twitter, and GitHub to implement an estimation counterpart to the 2-way ANOVA. To do this, we will implement $\\Delta\\Delta$ plots, in which the difference of means ($\\Delta$) of two groups is subtracted from a second two-group $\\Delta$. **Implemented in v2023.02.14.**\n",
    "\n",
    "- Currently, DABEST can analyse multiple paired data in a single plot, and multiple groups with a common, shared control. However, a common design in biomedical science is to follow the same group of subjects over multiple, successive time points. An estimation plot for this would combine elements of the two other designs, and could be used in place of a repeated-measures ANOVA. **Implemented in v2023.02.14**\n",
    "\n",
    "- We have observed that proportional data are often analyzed in neuroscience and other areas of biomedical research. However, compared to other data types, the charts are frequently impoverished: often, they omit error bars, sample sizes, and even P values—let alone effect sizes. We would like DABEST to feature proportion charts, with error bars and a curve for the distribution of the proportional differences. **Implemented in v2023.02.14**\n",
    "\n",
    "We encourage contributions for the above features. "
   ]
  },
  {
   "cell_type": "markdown",
   "id": "a528d95d",
   "metadata": {},
   "source": [
    "## Acknowledgements\n",
    "\n",
    "We would like to thank alpha testers from the [Claridge-Chang lab](https://www.claridgechang.net/): [Sangyu Xu](https://github.com/sangyu), [Xianyuan Zhang](https://github.com/XYZfar), [Farhan Mohammad](https://github.com/farhan8igib), Jurga Mituzaitė, and Stanislav Ott.\n",
    "\n",
    "\n",
    "## Testing\n",
    "\n",
    "To test DABEST, you will need to install [pytest](https://docs.pytest.org/en/latest).\n",
    "\n",
    "Run `pytest` in the root directory of the source distribution. This runs the test suite in the folder `dabest/tests`. The test suite will ensure that the bootstrapping functions and the plotting functions perform as expected.\n",
    "\n",
    "\n",
    "## DABEST in other languages\n",
    "\n",
    "DABEST is also available in R ([dabestr](https://github.com/ACCLAB/dabestr)) and Matlab ([DABEST-Matlab](https://github.com/ACCLAB/DABEST-Matlab)).\n"
   ]
  },
  {
   "cell_type": "code",
   "execution_count": null,
   "id": "d2b56748",
   "metadata": {},
   "outputs": [],
   "source": []
  }
 ],
 "metadata": {
  "kernelspec": {
   "display_name": "python3",
   "language": "python",
   "name": "python3"
  }
 },
 "nbformat": 4,
 "nbformat_minor": 5
}
