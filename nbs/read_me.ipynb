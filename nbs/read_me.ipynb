{
 "cells": [
  {
   "cell_type": "markdown",
   "id": "205a828a",
   "metadata": {},
   "source": [
    "# DABEST-Python"
   ]
  },
  {
   "cell_type": "markdown",
   "id": "5164f940",
   "metadata": {},
   "source": [
    "[![minimal Python version](https://img.shields.io/badge/Python%3E%3D-3.10-6666ff.svg)](https://www.anaconda.com/distribution/)\n",
    "[![PyPI version](https://badge.fury.io/py/dabest.svg)](https://badge.fury.io/py/dabest)\n",
    "[![Downloads](https://img.shields.io/pepy/dt/dabest.svg\n",
    ")](https://pepy.tech/project/dabest)\n",
    "[![Free-to-view citation](https://zenodo.org/badge/DOI/10.1038/s41592-019-0470-3.svg)](https://rdcu.be/bHhJ4)\n",
    "[![License](https://img.shields.io/badge/License-BSD%203--Clause--Clear-orange.svg)](https://spdx.org/licenses/BSD-3-Clause-Clear.html)"
   ]
  },
  {
   "attachments": {},
   "cell_type": "markdown",
   "id": "8fcb9b6e",
   "metadata": {},
   "source": [
    "## Recent Version Update\n",
    "\n",
    "We are proud to announce **DABEST Version Dadar (v2025.03.27)** This new version of the DABEST Python library includes several new features and performance improvements. It’s a big one!\n",
    "\n",
    "1. **Python 3.13 Support**: DABEST now supports Python 3.10—3.13.\n",
    "\n",
    "2. **Horizontal Plots**: Users can now create horizontal layout plots, providing compact data visualization. This can be achieved by setting `horizontal=True` in the `.plot()` method. See the [Horizontal Plots tutorial](../nbs/tutorials/08-horizontal_plot.ipynb) for more details.\n",
    "\n",
    "3. **Forest Plots**: Forest plots provide a simple and intuitive way to visualize many delta-delta (or delta *g*), mini-meta, or regular delta effect sizes at once from multiple different dabest objects without presenting the raw data. See the [Forest Plots tutorial](../nbs/tutorials/07-forest_plot.ipynb) for more details.\n",
    "\n",
    "4. **Gridkey**: Users can now represent experimental labels in a ‘gridkey’ table. This can be accessed with the `gridkey` parameter in the `.plot()` method. See the gridkey section in the [Plot Aesthetics tutorial](../nbs/tutorials/09-plot_aesthetics.ipynb) for more details.\n",
    "\n",
    "5. **Other Visualization Improvements**:\n",
    "   - **Comparing means and effect sizes**: The estimation plots now include three types of customizable visual features to enhance contextualization and comparison of means and effect sizes:\n",
    "     - **Bars for the mean of the observed values (`raw_bars`)**: Colored rectangles that extend from the zero line to the mean of each group's raw data. These bars visually highlight the central tendency of the raw data.\n",
    "     - **Bars for effect size/s (`contrast_bars`)**: Similar to raw bars, these highlight the effect-size difference between two groups (typically test and control) in the contrast axis. They provide a visual representation of the differences between groups.\n",
    "     - **Summary bands (`reference_band`)**: An optional band or ribbon that can be added to emphasize a specific effect size’s confidence interval that is used as a reference range across the entire contrast axis. Unlike raw and contrast bars, these span horizontally (or vertically if `horizontal=True`) and are not displayed by default.\n",
    "\n",
    "          Raw and contrast bars are shown by default. Users can customize these bars and add summary bands as needed. For detailed customization instructions, please refer to the [Plot Aesthetics tutorial](../nbs/tutorials/09-plot_aesthetics.ipynb).\n",
    "\n",
    "   - **Tighter spacing in delta-delta and mini-meta plots**: We have adjusted the spacing of delta-delta and mini-meta plots to reduce whitespace. The new format brings the overall effect size closer to the two-groups effect sizes. In addition, delta-delta plots now have a gap in the zero line to separate the delta-delta from the ∆ effect sizes.\n",
    "\n",
    "   - **Delta-delta effect sizes for proportion plots**: In addition to continuous data, delta-delta plots now support binary data (proportions). This means that 2-way designs for binary outcomes can be analyzed with DABEST.\n",
    "\n",
    "   - **Proportion plots sample sizes**: The sample size of each binary option for each group can now be displayed. These can be toggled on/off via the `prop_sample_counts` parameter.\n",
    "\n",
    "   - **Effect size lines for paired plots**: Along with lines connecting paired observed values, the paired plots now also display lines linking the effect sizes within a group in the contrast axes. These lines can be toggled on/off via the `contrast_paired_lines` parameter.\n",
    "\n",
    "   - **Baseline error curves**: To represent the baseline/control group in the contrast axes, it is now possible to plot the baseline dot and the baseline error curve. The dot is shown by default, while the curve can be toggled on/off via the `show_baseline_ec` parameter. This dot helps make it clear where the baseline comes from i.e. the control minus itself. The baseline error curve can be used to show that the baseline itself is an estimate inferred from the observed values of the control data. \n",
    "\n",
    "   - **Delta text**: Effect-size deltas (e.g. mean differences) are now displayed as numerals next to their respective effect size. This can be toggled on/off via the `delta_text` parameter.\n",
    "\n",
    "   - **Empty circle color palette**: A new swarmplot color palette modification is available for unpaired plots via the `empty_circle` parameter in the `.plot()` method. This option modifies the two-group swarmplots to have empty circles for the control group and filled circles for the experimental group.\n",
    "\n",
    "6. **Miscellaneous Improvements & Adjustments**\n",
    "    - **Numba for speed improvements**: We have added [Numba](https://numba.pydata.org/) to speed up the various calculations in DABEST. Precalculations will be performed during import, which will help speed up the subsequent loading and plotting of data.\n",
    "  \n",
    "    - **Terminology/naming updates**: During the refactoring of the code, we have made several updates to the documentation and terminology to improve clarity and consistency. For example:\n",
    "      - Plot arguments have been adjusted to bring more clarity and consistency in naming. Arguments relating to the rawdata plot axis will now be typically referred to with `raw` while arguments relating to the contrast axis will be referred to with `contrast`. For example, `raw_label` replaces `swarm_label` and `bar_label`. The various kwargs relating to each different type of plot (e.g., `swarmplot_kwargs`) remain unchanged.\n",
    "  \n",
    "      - The method to utilise the Delta *g* effect size is now via the .hedges_g.plot() method rather than creating a whole new Delta_g object as before. The functionality remains the same, it plots hedges_g effect sizes and then the Delta *g* effect size alongside these (if a delta-delta experiment was loaded correctly).\n",
    "\n",
    "    - **Updated tutorial pages**: We have updated the tutorial pages to reflect the new features and changes. The tutorial pages are now more comprehensive and (hopefully!) more intuitive!\n",
    "\n",
    "    - **Results dataframe for delta-delta and mini-meta plots**: A results dataframe can now be extracted for both the delta-delta and mini-meta effect size data (similar to the results dataframe for the regular effect sizes). These can be found via the `.results` attribute of the `.delta_delta` or `.mini_meta` object."
   ]
  },
  {
   "cell_type": "markdown",
   "id": "ac5ef3e3",
   "metadata": {},
   "source": [
    "## Contents\n",
    "<!-- TOC depthFrom:1 depthTo:2 withLinks:1 updateOnSave:1 orderedList:0 -->\n",
    "- [About](#about)\n",
    "- [Installation](#installation)\n",
    "- [Usage](#usage)\n",
    "- [How to cite](#how-to-cite)\n",
    "- [Bugs](#bugs)\n",
    "- [Contributing](#contributing)\n",
    "- [Acknowledgements](#acknowledgements)\n",
    "- [Testing](#testing)\n",
    "- [DABEST in other languages](#dabest-in-other-languages)\n",
    "\n",
    "<!-- /TOC -->\n"
   ]
  },
  {
   "cell_type": "markdown",
   "id": "be09ee89",
   "metadata": {},
   "source": [
    "## About\n",
    "\n",
    "DABEST is a package for **D**ata **A**nalysis using **B**ootstrap-Coupled **EST**imation.\n",
    "\n",
    "[Estimation statistics](https://en.wikipedia.org/wiki/Estimation_statistics) are a [simple framework](https://thenewstatistics.com/itns/) that avoids the [pitfalls](https://www.nature.com/articles/nmeth.3288) of significance testing. It employs familiar statistical concepts such as means, mean differences, and error bars. More importantly, it focuses on the effect size of one's experiment or intervention, rather than succumbing to a false dichotomy engendered by *P* values.\n",
    "\n",
    "An estimation plot comprises two key features.\n",
    "\n",
    "1. It presents all data points as a swarm plot, ordering each point to display the underlying distribution.\n",
    "\n",
    "2. It illustrates the effect size as a **bootstrap 95% confidence interval** on a **separate but aligned axis**.\n",
    "\n",
    "![The five kinds of estimation plots](showpiece.png \"The five kinds of estimation plots.\")\n",
    "\n",
    "DABEST powers [estimationstats.com](https://www.estimationstats.com/), allowing everyone access to high-quality estimation plots.\n"
   ]
  },
  {
   "cell_type": "markdown",
   "id": "1044e2c0",
   "metadata": {},
   "source": [
    "## Installation\n",
    "\n",
    "This package is tested on Python 3.11 and onwards.\n",
    "It is highly recommended to download the [Anaconda distribution](https://www.continuum.io/downloads) of Python in order to obtain the dependencies easily.\n",
    "\n",
    "You can install this package via `pip`.\n",
    "\n",
    "To install, at the command line run\n",
    "\n",
    "```shell\n",
    "pip install dabest\n",
    "```\n",
    "You can also [clone](https://help.github.com/articles/cloning-a-repository) this repo locally.\n",
    "\n",
    "Then, navigate to the cloned repo in the command line and run\n",
    "\n",
    "```shell\n",
    "pip install .\n",
    "```"
   ]
  },
  {
   "cell_type": "markdown",
   "id": "bf4d69d6",
   "metadata": {},
   "source": [
    "## Usage\n",
    "\n",
    "```python3\n",
    "import pandas as pd\n",
    "import dabest\n",
    "\n",
    "# Load the iris dataset. This step requires internet access.\n",
    "iris = pd.read_csv(\"https://github.com/mwaskom/seaborn-data/raw/master/iris.csv\")\n",
    "\n",
    "# Load the above data into `dabest`.\n",
    "iris_dabest = dabest.load(data=iris, x=\"species\", y=\"petal_width\",\n",
    "                          idx=(\"setosa\", \"versicolor\", \"virginica\"))\n",
    "\n",
    "# Produce a Cumming estimation plot.\n",
    "iris_dabest.mean_diff.plot();\n",
    "```\n",
    "![A Cumming estimation plot of petal width from the iris dataset](iris.png)\n",
    "\n",
    "Please refer to the official [tutorial](https://acclab.github.io/DABEST-python/) for more useful code snippets.\n",
    "\n"
   ]
  },
  {
   "cell_type": "markdown",
   "id": "af18a2c0",
   "metadata": {},
   "source": [
    "## How to cite\n",
    "\n",
    "**Moving beyond P values: Everyday data analysis with estimation plots**\n",
    "\n",
    "*Joses Ho, Tayfun Tumkaya, Sameer Aryal, Hyungwon Choi, Adam Claridge-Chang*\n",
    "\n",
    "Nature Methods 2019, 1548-7105. [10.1038/s41592-019-0470-3](http://dx.doi.org/10.1038/s41592-019-0470-3)\n",
    "\n",
    "[Paywalled publisher site](https://www.nature.com/articles/s41592-019-0470-3); [Free-to-view PDF](https://rdcu.be/bHhJ4)\n",
    "\n",
    "\n",
    "## Bugs\n",
    "\n",
    "Please report any bugs on the [issue page](https://github.com/ACCLAB/DABEST-python/issues/new).\n",
    "\n"
   ]
  },
  {
   "cell_type": "markdown",
   "id": "24b19856",
   "metadata": {},
   "source": [
    "## Contributing\n",
    "\n",
    "All contributions are welcome; please read the [Guidelines for contributing](../CONTRIBUTING.md) first.\n",
    "\n",
    "We also have a [Code of Conduct](../CODE_OF_CONDUCT.md) to foster an inclusive and productive space.\n"
   ]
  },
  {
   "cell_type": "markdown",
   "id": "b1e2578a",
   "metadata": {},
   "source": [
    "### A wish list for new features\n",
    "If you have any specific comments and ideas for new features that you would like to share with us, please read the [Guidelines for contributing](../CONTRIBUTING.md), create a new issue using Feature request template or create a new post in [our Google Group](https://groups.google.com/g/estimationstats)."
   ]
  },
  {
   "cell_type": "markdown",
   "id": "a528d95d",
   "metadata": {},
   "source": [
    "## Acknowledgements\n",
    "\n",
    "We would like to thank alpha testers from the [Claridge-Chang lab](https://www.claridgechang.net/): [Sangyu Xu](https://github.com/sangyu), [Xianyuan Zhang](https://github.com/XYZfar), [Farhan Mohammad](https://github.com/farhan8igib), Jurga Mituzaitė, and Stanislav Ott.\n",
    "\n",
    "\n",
    "## Testing\n",
    "\n",
    "To test DABEST, you need to install [pytest](https://docs.pytest.org/en/latest) and [nbdev](https://nbdev.fast.ai/).\n",
    "\n",
    "- Run `pytest` in the root directory of the source distribution. This runs the test suite in the folder `dabest/tests/mpl_image_tests`. \n",
    "- Run `nbdev_test` in the root directory of the source distribution. This runs the value assertion tests in the folder `dabest/tests`\n",
    "\n",
    "The test suite ensures that the bootstrapping functions and the plotting functions perform as expected.\n",
    "\n",
    "For detailed information, please refer to the [test folder](../nbs/tests/README.md)\n",
    "\n",
    "## DABEST in other languages\n",
    "\n",
    "DABEST is also available in R ([dabestr](https://github.com/ACCLAB/dabestr)) and Matlab ([DABEST-Matlab](https://github.com/ACCLAB/DABEST-Matlab)).\n"
   ]
  }
 ],
 "metadata": {
  "kernelspec": {
   "display_name": "python3",
   "language": "python",
   "name": "python3"
  }
 },
 "nbformat": 4,
 "nbformat_minor": 5
}
