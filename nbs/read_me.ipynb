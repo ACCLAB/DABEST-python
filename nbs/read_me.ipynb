{
 "cells": [
  {
   "cell_type": "markdown",
   "id": "205a828a",
   "metadata": {},
   "source": [
    "# DABEST-Python"
   ]
  },
  {
   "cell_type": "markdown",
   "id": "5164f940",
   "metadata": {},
   "source": [
    "[![minimal Python version](https://img.shields.io/badge/Python%3E%3D-3.8-6666ff.svg)](https://www.anaconda.com/distribution/)\n",
    "[![PyPI version](https://badge.fury.io/py/dabest.svg)](https://badge.fury.io/py/dabest)\n",
    "[![Downloads](https://img.shields.io/pepy/dt/dabest.svg\n",
    ")](https://pepy.tech/project/dabest)\n",
    "[![Free-to-view citation](https://zenodo.org/badge/DOI/10.1038/s41592-019-0470-3.svg)](https://rdcu.be/bHhJ4)\n",
    "[![License](https://img.shields.io/badge/License-BSD%203--Clause--Clear-orange.svg)](https://spdx.org/licenses/BSD-3-Clause-Clear.html)"
   ]
  },
  {
   "attachments": {},
   "cell_type": "markdown",
   "id": "8fcb9b6e",
   "metadata": {},
   "source": [
    "## Recent Version Update\n",
    "\n",
    "We are proud to announce **DABEST Version Ondeh (v2024.03.29)**. This new version of the DABEST Python library provides several new features and includes performance improvements.\n",
    "\n",
    "1. **New Paired Proportion Plot**: This feature builds upon the existing proportional analysis capabilities by introducing advanced aesthetics and clearer visualization of changes in proportions between different groups, inspired by the informative nature of Sankey Diagrams. It's particularly useful for studies that require detailed examination of how proportions shift in paired observations.\n",
    "\n",
    "2. **Customizable Swarm Plot**: Enhancements allow for tailored swarm plot aesthetics, notably the adjustment of swarm sides to produce asymmetric swarm plots. This customization enhances data representation, making visual distinctions more pronounced and interpretations clearer.\n",
    "\n",
    "3. **Standardized Delta-delta Effect Size**: We added a new metric akin to a Hedges’ g for delta-delta effect size, which allows comparisons between delta-delta effects generated from metrics with different units. \n",
    "\n",
    "4. **Miscellaneous Improvements**: This version also encompasses a broad range of miscellaneous enhancements, including bug fixes, Bootstrapping speed improvements, new templates for raising issues, and updated unit tests. These improvements are designed to streamline the user experience, increase the software's stability, and expand its versatility. By addressing user feedback and identified issues, DABEST continues to refine its functionality and reliability.\n"
   ]
  },
  {
   "cell_type": "markdown",
   "id": "ac5ef3e3",
   "metadata": {},
   "source": [
    "## Contents\n",
    "<!-- TOC depthFrom:1 depthTo:2 withLinks:1 updateOnSave:1 orderedList:0 -->\n",
    "- [About](#about)\n",
    "- [Installation](#installation)\n",
    "- [Usage](#usage)\n",
    "- [How to cite](#how-to-cite)\n",
    "- [Bugs](#bugs)\n",
    "- [Contributing](#contributing)\n",
    "- [Acknowledgements](#acknowledgements)\n",
    "- [Testing](#testing)\n",
    "- [DABEST in other languages](#dabest-in-other-languages)\n",
    "\n",
    "<!-- /TOC -->\n"
   ]
  },
  {
   "cell_type": "markdown",
   "id": "be09ee89",
   "metadata": {},
   "source": [
    "## About\n",
    "\n",
    "DABEST is a package for **D**ata **A**nalysis using **B**ootstrap-Coupled **EST**imation.\n",
    "\n",
    "[Estimation statistics](https://en.wikipedia.org/wiki/Estimation_statistics) are a [simple framework](https://thenewstatistics.com/itns/) that avoids the [pitfalls](https://www.nature.com/articles/nmeth.3288) of significance testing. It employs familiar statistical concepts such as means, mean differences, and error bars. More importantly, it focuses on the effect size of one's experiment or intervention, rather than succumbing to a false dichotomy engendered by *P* values.\n",
    "\n",
    "An estimation plot comprises two key features.\n",
    "\n",
    "1. It presents all data points as a swarm plot, ordering each point to display the underlying distribution.\n",
    "\n",
    "2. It illustrates the effect size as a **bootstrap 95% confidence interval** on a **separate but aligned axis**.\n",
    "\n",
    "![The five kinds of estimation plots](showpiece.png \"The five kinds of estimation plots.\")\n",
    "\n",
    "DABEST powers [estimationstats.com](https://www.estimationstats.com/), allowing everyone access to high-quality estimation plots.\n"
   ]
  },
  {
   "cell_type": "markdown",
   "id": "1044e2c0",
   "metadata": {},
   "source": [
    "## Installation\n",
    "\n",
    "This package is tested on Python 3.8 and onwards.\n",
    "It is highly recommended to download the [Anaconda distribution](https://www.continuum.io/downloads) of Python in order to obtain the dependencies easily.\n",
    "\n",
    "You can install this package via `pip`.\n",
    "\n",
    "To install, at the command line run\n",
    "\n",
    "```shell\n",
    "pip install dabest\n",
    "```\n",
    "You can also [clone](https://help.github.com/articles/cloning-a-repository) this repo locally.\n",
    "\n",
    "Then, navigate to the cloned repo in the command line and run\n",
    "\n",
    "```shell\n",
    "pip install .\n",
    "```"
   ]
  },
  {
   "cell_type": "markdown",
   "id": "bf4d69d6",
   "metadata": {},
   "source": [
    "## Usage\n",
    "\n",
    "```python3\n",
    "import pandas as pd\n",
    "import dabest\n",
    "\n",
    "# Load the iris dataset. This step requires internet access.\n",
    "iris = pd.read_csv(\"https://github.com/mwaskom/seaborn-data/raw/master/iris.csv\")\n",
    "\n",
    "# Load the above data into `dabest`.\n",
    "iris_dabest = dabest.load(data=iris, x=\"species\", y=\"petal_width\",\n",
    "                          idx=(\"setosa\", \"versicolor\", \"virginica\"))\n",
    "\n",
    "# Produce a Cumming estimation plot.\n",
    "iris_dabest.mean_diff.plot();\n",
    "```\n",
    "![A Cumming estimation plot of petal width from the iris dataset](iris.png)\n",
    "\n",
    "Please refer to the official [tutorial](https://acclab.github.io/DABEST-python/) for more useful code snippets.\n",
    "\n"
   ]
  },
  {
   "cell_type": "markdown",
   "id": "af18a2c0",
   "metadata": {},
   "source": [
    "## How to cite\n",
    "\n",
    "**Moving beyond P values: Everyday data analysis with estimation plots**\n",
    "\n",
    "*Joses Ho, Tayfun Tumkaya, Sameer Aryal, Hyungwon Choi, Adam Claridge-Chang*\n",
    "\n",
    "Nature Methods 2019, 1548-7105. [10.1038/s41592-019-0470-3](http://dx.doi.org/10.1038/s41592-019-0470-3)\n",
    "\n",
    "[Paywalled publisher site](https://www.nature.com/articles/s41592-019-0470-3); [Free-to-view PDF](https://rdcu.be/bHhJ4)\n",
    "\n",
    "\n",
    "## Bugs\n",
    "\n",
    "Please report any bugs on the [issue page](https://github.com/ACCLAB/DABEST-python/issues/new).\n",
    "\n"
   ]
  },
  {
   "cell_type": "markdown",
   "id": "24b19856",
   "metadata": {},
   "source": [
    "## Contributing\n",
    "\n",
    "All contributions are welcome; please read the [Guidelines for contributing](CONTRIBUTING.md) first.\n",
    "\n",
    "We also have a [Code of Conduct](CODE_OF_CONDUCT.md) to foster an inclusive and productive space.\n"
   ]
  },
  {
   "cell_type": "markdown",
   "id": "b1e2578a",
   "metadata": {},
   "source": [
    "### A wish list for new features\n",
    "If you have any specific comments and ideas for new features that you would like to share with us, please read the [Guidelines for contributing](CONTRIBUTING.md), create a new issue using Feature request template or create a new post in [our Google Group](https://groups.google.com/g/estimationstats)."
   ]
  },
  {
   "cell_type": "markdown",
   "id": "a528d95d",
   "metadata": {},
   "source": [
    "## Acknowledgements\n",
    "\n",
    "We would like to thank alpha testers from the [Claridge-Chang lab](https://www.claridgechang.net/): [Sangyu Xu](https://github.com/sangyu), [Xianyuan Zhang](https://github.com/XYZfar), [Farhan Mohammad](https://github.com/farhan8igib), Jurga Mituzaitė, and Stanislav Ott.\n",
    "\n",
    "\n",
    "## Testing\n",
    "\n",
    "To test DABEST, you need to install [pytest](https://docs.pytest.org/en/latest) and [nbdev](https://nbdev.fast.ai/).\n",
    "\n",
    "- Run `pytest` in the root directory of the source distribution. This runs the test suite in the folder `dabest/tests/mpl_image_tests`. \n",
    "- Run `nbdev_test` in the root directory of the source distribution. This runs the value assertion tests in the folder `dabest/tests`\n",
    "\n",
    "The test suite ensures that the bootstrapping functions and the plotting functions perform as expected.\n",
    "\n",
    "For detailed information, please refer to the [test folder](nbs/tests/README.md)\n",
    "\n",
    "## DABEST in other languages\n",
    "\n",
    "DABEST is also available in R ([dabestr](https://github.com/ACCLAB/dabestr)) and Matlab ([DABEST-Matlab](https://github.com/ACCLAB/DABEST-Matlab)).\n"
   ]
  },
  {
   "cell_type": "markdown",
   "id": "7106313a",
   "metadata": {},
   "source": []
  }
 ],
 "metadata": {
  "kernelspec": {
   "display_name": "python3",
   "language": "python",
   "name": "python3"
  }
 },
 "nbformat": 4,
 "nbformat_minor": 5
}
