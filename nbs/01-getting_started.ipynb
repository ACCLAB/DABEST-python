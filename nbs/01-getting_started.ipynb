{
 "cells": [
  {
   "cell_type": "markdown",
   "id": "68f51e09",
   "metadata": {},
   "source": [
    "# Getting Started\n",
    "\n",
    "> Requirements and installation of dabest.\n",
    "\n",
    "- order: 1"
   ]
  },
  {
   "cell_type": "markdown",
   "id": "d1d5cb1a",
   "metadata": {},
   "source": [
    "## Requirements"
   ]
  },
  {
   "cell_type": "markdown",
   "id": "d2aca73b",
   "metadata": {},
   "source": [
    "\n",
    "\n",
    "Python 3.8 is strongly recommended. DABEST has also been tested with Python 3.6 and 3.7.\n",
    "\n",
    "In addition, the following packages are also required (listed with their minimal versions):\n",
    "\n",
    "* [numpy 1.22.3](https://www.numpy.org)\n",
    "* [scipy 1.9.3](https://www.scipy.org)\n",
    "* [matplotlib 3.5.1](https://www.matplotlib.org)\n",
    "* [pandas 1.5.0](https://pandas.pydata.org)\n",
    "* [seaborn 0.12.2](https://seaborn.pydata.org)\n",
    "* [lqrt 0.3](https://github.com/alyakin314/lqrt)\n",
    "\n",
    "To obtain these package dependencies easily, it is highly recommended to download the [Anaconda](https://www.continuum.io/downloads) distribution of Python.\n"
   ]
  },
  {
   "cell_type": "markdown",
   "id": "c0de00b2",
   "metadata": {},
   "source": [
    "## Installation"
   ]
  },
  {
   "cell_type": "markdown",
   "id": "304a3639",
   "metadata": {},
   "source": [
    "1. Using ``pip``\n",
    "\n",
    "At the command line, run\n",
    "\n",
    "\n",
    "**$ pip install dabest**\n",
    "\n"
   ]
  },
  {
   "cell_type": "markdown",
   "id": "89d3cfb0",
   "metadata": {},
   "source": [
    "2. Using Github\n",
    "\n",
    "Clone the [DABEST-python repo](https://github.com/ACCLAB/DABEST-python) locally (see instructions [here] (https://help.github.com/articles/cloning-a-repository/).\n",
    "\n",
    "Then, navigate to the cloned repo in the command line and run\n",
    "\n",
    "**$ pip install**"
   ]
  },
  {
   "cell_type": "markdown",
   "id": "2e7dc4c0",
   "metadata": {},
   "source": [
    "## Testing"
   ]
  },
  {
   "cell_type": "markdown",
   "id": "a9f8cb3e",
   "metadata": {},
   "source": [
    "To test DABEST, you will need to install [pytest](https://docs.pytest.org/en/latest/).\n",
    "\n",
    "Run ``pytest`` in the root directory of the source distribution. This runs the test suite in ``dabest/tests`` folder. The test suite will ensure that the bootstrapping functions and the plotting functions perform as expected.\n",
    "\n"
   ]
  },
  {
   "cell_type": "markdown",
   "id": "31d110fe",
   "metadata": {},
   "source": [
    "## Bugs"
   ]
  },
  {
   "cell_type": "markdown",
   "id": "c4d6be79",
   "metadata": {},
   "source": [
    "Please report any bugs on the [Github issue tracker](https://github.com/ACCLAB/DABEST-python/issues/new) for DABEST-python.\n"
   ]
  },
  {
   "cell_type": "markdown",
   "id": "ced1616b",
   "metadata": {},
   "source": [
    "## Contributing"
   ]
  },
  {
   "cell_type": "markdown",
   "id": "99c17867",
   "metadata": {},
   "source": [
    "All contributions are welcome. Please fork the [Github repo](https://github.com/ACCLAB/DABEST-python/) and open a pull request.\n"
   ]
  },
  {
   "cell_type": "code",
   "execution_count": null,
   "id": "23a7b823",
   "metadata": {},
   "outputs": [],
   "source": []
  }
 ],
 "metadata": {
  "kernelspec": {
   "display_name": "python3",
   "language": "python",
   "name": "python3"
  }
 },
 "nbformat": 4,
 "nbformat_minor": 5
}
