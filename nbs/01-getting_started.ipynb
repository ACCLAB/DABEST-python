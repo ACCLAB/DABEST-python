{
 "cells": [
  {
   "cell_type": "markdown",
   "id": "68f51e09",
   "metadata": {},
   "source": [
    "# Getting Started\n",
    "\n",
    "> Requirements and installation of dabest.\n",
    "\n",
    "- order: 1"
   ]
  },
  {
   "cell_type": "markdown",
   "id": "5b3dcdd6",
   "metadata": {},
   "source": [
    "## Introduction"
   ]
  },
  {
   "cell_type": "markdown",
   "id": "2aebebc2",
   "metadata": {},
   "source": [
    "DABEST is a package for **D**ata **A**nalysis with **B**ootstrapped **EST**imation\n",
    "\n",
    "[Estimation statistics](https://en.wikipedia.org/wiki/Estimation_statistics) is a simple framework that avoids the [pitfalls](https://www.nature.com/articles/nmeth.3288) of significance testing. It uses familiar statistical concepts: means, mean differences, and error bars. More importantly, it focuses on the effect size of one’s experiment/intervention, as opposed to a false dichotomy engendered by *P* values."
   ]
  },
  {
   "cell_type": "markdown",
   "id": "0fc075f5",
   "metadata": {},
   "source": [
    "An estimation plot has two key features.\n",
    "\n",
    "1. It **presents all datapoints** as a swarmplot, which orders each point to display the underlying distribution.\n",
    "2. It presents the **effect size** as a **bootstrap 95% confidence interval** on a **separate but aligned axes**."
   ]
  },
  {
   "cell_type": "markdown",
   "id": "e4c2e459",
   "metadata": {},
   "source": [
    "DABEST powers [estimationstats.com](estimationstats.com), allowing everyone access to high-quality estimation plots."
   ]
  },
  {
   "cell_type": "markdown",
   "id": "d1d5cb1a",
   "metadata": {},
   "source": [
    "## Requirements"
   ]
  },
  {
   "cell_type": "markdown",
   "id": "d2aca73b",
   "metadata": {},
   "source": [
    "\n",
    "\n",
    "Python 3.10 is strongly recommended. DABEST has also been tested with Python 3.8 and onwards.\n",
    "\n",
    "In addition, the following packages are also required (listed with their minimal versions):\n",
    "\n",
    "* [numpy 1.23.5](https://www.numpy.org)\n",
    "* [scipy 1.9.3](https://www.scipy.org)\n",
    "* [matplotlib 3.6.3](https://www.matplotlib.org)\n",
    "* [pandas 1.5.0](https://pandas.pydata.org)\n",
    "* [seaborn 0.12.2](https://seaborn.pydata.org)\n",
    "* [lqrt 0.3.3](https://github.com/alyakin314/lqrt)\n",
    "\n",
    "To obtain these package dependencies easily, it is highly recommended to download the [Anaconda](https://www.continuum.io/downloads) distribution of Python.\n"
   ]
  },
  {
   "cell_type": "markdown",
   "id": "c0de00b2",
   "metadata": {},
   "source": [
    "## Installation"
   ]
  },
  {
   "cell_type": "markdown",
   "id": "304a3639",
   "metadata": {},
   "source": [
    "1. Using ``pip``\n",
    "\n",
    "At the command line, run\n",
    "\n",
    "``` shell\n",
    "$ pip install dabest\n",
    "```\n",
    "\n",
    "\n"
   ]
  },
  {
   "cell_type": "markdown",
   "id": "89d3cfb0",
   "metadata": {},
   "source": [
    "2. Using Github\n",
    "\n",
    "Clone the [DABEST-python repo](https://github.com/ACCLAB/DABEST-python) locally (see instructions [here](https://help.github.com/articles/cloning-a-repository/)).\n",
    "\n",
    "Then, navigate to the cloned repo in the command line and run\n",
    "``` shell\n",
    "$ pip install .\n",
    "```"
   ]
  },
  {
   "cell_type": "markdown",
   "id": "2e7dc4c0",
   "metadata": {},
   "source": [
    "## Testing"
   ]
  },
  {
   "cell_type": "markdown",
   "id": "a9f8cb3e",
   "metadata": {},
   "source": [
    "To test DABEST, you will need to install [pytest](https://docs.pytest.org/en/latest/) and [nbdev](https://nbdev.fast.ai/). \n",
    "\n",
    "Run ``nbdev_export && nbdev_test`` in the root directory of the source distribution. This runs the value assertion tests in ``dabest/tests`` folder\n",
    "\n",
    "Run ``pytest`` in the root directory of the source distribution. This runs the image-based tests in ``dabest/tests/mpl_image_tests`` sub folder.\n",
    "\n",
    "The test suite will ensure that the bootstrapping functions and the plotting functions perform as expected.\n",
    "\n"
   ]
  },
  {
   "cell_type": "markdown",
   "id": "31d110fe",
   "metadata": {},
   "source": [
    "## Bugs"
   ]
  },
  {
   "cell_type": "markdown",
   "id": "c4d6be79",
   "metadata": {},
   "source": [
    "Please report any bugs on the [Github issue tracker](https://github.com/ACCLAB/DABEST-python/issues/new) for DABEST-python.\n"
   ]
  },
  {
   "cell_type": "markdown",
   "id": "ced1616b",
   "metadata": {},
   "source": [
    "## Contributing"
   ]
  },
  {
   "cell_type": "markdown",
   "id": "99c17867",
   "metadata": {},
   "source": [
    "All contributions are welcome. Please fork the [Github repo](https://github.com/ACCLAB/DABEST-python/) and open a pull request.\n"
   ]
  }
 ],
 "metadata": {
  "kernelspec": {
   "display_name": "python3",
   "language": "python",
   "name": "python3"
  }
 },
 "nbformat": 4,
 "nbformat_minor": 5
}
