{
 "cells": [
  {
   "cell_type": "markdown",
   "metadata": {},
   "source": [
    "# Forest Plots\n",
    "\n",
    "> Explanation of how to use forest_plot for contrast objects e.g delta-delta and mini-meta or regular deltas.\n",
    "\n",
    "- order: 7"
   ]
  },
  {
   "cell_type": "markdown",
   "metadata": {},
   "source": [
    "In DABEST **v2025.03.27**, we introduce a new function to plot separately calculated effect sizes in the same axes to allow direct visual comparisons. \n",
    "\n",
    "Currently you can make a forest plot for delta-delta, mini-meta, or standard delta effect sizes. In addition, for delta-delta and mini-meta experiments, you can also plot the effect sizes of the original comparisons alongside the delta-delta/mini-meta measurement."
   ]
  },
  {
   "cell_type": "markdown",
   "metadata": {},
   "source": [
    "## Load libraries"
   ]
  },
  {
   "cell_type": "code",
   "execution_count": null,
   "metadata": {},
   "outputs": [],
   "source": [
    "import pandas as pd\n",
    "import numpy as np\n",
    "import matplotlib.pyplot as plt\n",
    "from scipy.stats import norm\n",
    "import dabest\n",
    "from dabest.multi import combine, vortexmap"
   ]
  },
  {
   "cell_type": "code",
   "execution_count": null,
   "metadata": {},
   "outputs": [],
   "source": [
    "def create_delta_dataset(N=20, \n",
    "                        seed=9999, \n",
    "                        second_quarter_adjustment=3, \n",
    "                        third_quarter_adjustment=-0.1,\n",
    "                        scale2=1):\n",
    "    \"\"\"Create a sample dataset for delta-delta analysis.\"\"\"\n",
    "    np.random.seed(seed)\n",
    "\n",
    "    # Create samples\n",
    "    y = norm.rvs(loc=3, scale=0.4, size=N*4)\n",
    "    y[N:2*N] = norm.rvs(loc=3 + second_quarter_adjustment, scale=scale2, size=N) \n",
    "    y[2*N:3*N] = norm.rvs(loc=3 + third_quarter_adjustment, scale=0.4, size=N)\n",
    "    y[3*N:4*N] = norm.rvs(loc=3, scale=0.4, size=N)\n",
    "\n",
    "    # Treatment, Rep, Genotype, and ID columns\n",
    "    treatment = np.repeat(['Placebo', 'Drug'], N*2).tolist()\n",
    "    genotype = np.repeat(['W', 'M', 'W', 'M'], N).tolist()\n",
    "    id_col = list(range(0, N*2)) * 2\n",
    "\n",
    "    # Combine all columns into a DataFrame\n",
    "    df = pd.DataFrame({\n",
    "        'ID': id_col,\n",
    "        'Genotype': genotype,\n",
    "        'Treatment': treatment,\n",
    "        'Tumor Size': y\n",
    "    })\n",
    "\n",
    "    return df"
   ]
  },
  {
   "cell_type": "code",
   "execution_count": null,
   "metadata": {},
   "outputs": [],
   "source": [
    "df_drug1 = create_delta_dataset(seed=9999, second_quarter_adjustment=1, third_quarter_adjustment=-0.5)\n",
    "df_drug2 = create_delta_dataset(seed=9999, second_quarter_adjustment=0.1, third_quarter_adjustment=-1)\n",
    "df_drug3 = create_delta_dataset(seed=9999, second_quarter_adjustment=2, third_quarter_adjustment=-0.5)\n",
    "df_drug4 = create_delta_dataset(seed=9999, second_quarter_adjustment=1, third_quarter_adjustment=-0.1, scale2=7)\n",
    "df_drug5 = create_delta_dataset(seed=9999, second_quarter_adjustment=0.1, third_quarter_adjustment=-0.3, scale2=7)"
   ]
  },
  {
   "cell_type": "code",
   "execution_count": null,
   "metadata": {},
   "outputs": [],
   "source": [
    "contrast1 = dabest.load(data=df_drug1, \n",
    "                       x=[\"Genotype\", \"Genotype\"], \n",
    "                       y=\"Tumor Size\", \n",
    "                       delta2=True, \n",
    "                       experiment=\"Treatment\").hedges_g\n",
    "\n",
    "contrast2 = dabest.load(data=df_drug2, \n",
    "                       x=[\"Genotype\", \"Genotype\"], \n",
    "                       y=\"Tumor Size\", \n",
    "                       delta2=True, \n",
    "                       experiment=\"Treatment\").hedges_g\n",
    "\n",
    "contrast3 = dabest.load(data=df_drug3, \n",
    "                       x=[\"Genotype\", \"Genotype\"], \n",
    "                       y=\"Tumor Size\", \n",
    "                       delta2=True, \n",
    "                       experiment=\"Treatment\").hedges_g\n",
    "\n",
    "contrast4 = dabest.load(data=df_drug4, \n",
    "                       x=[\"Genotype\", \"Genotype\"], \n",
    "                       y=\"Tumor Size\", \n",
    "                       delta2=True, \n",
    "                       experiment=\"Treatment\").hedges_g\n",
    "\n",
    "contrast5 = dabest.load(data=df_drug5, \n",
    "                       x=[\"Genotype\", \"Genotype\"], \n",
    "                       y=\"Tumor Size\", \n",
    "                       delta2=True, \n",
    "                       experiment=\"Treatment\").hedges_g\n",
    "\n",
    "contrasts = [contrast1, contrast2, contrast3, contrast4, contrast5]"
   ]
  },
  {
   "cell_type": "code",
   "execution_count": null,
   "metadata": {},
   "outputs": [
    {
     "name": "stdout",
     "output_type": "stream",
     "text": [
      "MultiContrast with 5 contrasts: ['Drug1', 'Drug2', 'Drug3', 'Drug4', 'Drug5']\n"
     ]
    },
    {
     "data": {
      "image/png": "[encoded data removed]",
      "text/plain": [
       "<Figure size 166.667x33.3333 with 2 Axes>"
      ]
     },
     "metadata": {},
     "output_type": "display_data"
    }
   ],
   "source": [
    "multi = combine(contrasts, labels=[\"Drug1\", \"Drug2\", \"Drug3\", \"Drug4\", \"Drug5\"])\n",
    "print(multi)\n",
    "fig, ax, mean_delta = vortexmap(\n",
    "    multi,\n",
    "    n=30,  # Larger spiral size\n",
    "    vmax=4, vmin=-4,  # Extended color range\n",
    "    reverse_neg=True,\n",
    "    abs_rank=False,\n",
    "    chop_tail=5  # Remove 5% extreme values\n",
    ")\n",
    "plt.title(\"Customized Vortexmap\")\n",
    "plt.show()"
   ]
  },
  {
   "cell_type": "code",
   "execution_count": null,
   "metadata": {},
   "outputs": [
    {
     "data": {
      "image/png": "[encoded data removed]",
      "text/plain": [
       "<Figure size 166.667x33.3333 with 2 Axes>"
      ]
     },
     "metadata": {},
     "output_type": "display_data"
    }
   ],
   "source": []
  },
  {
   "cell_type": "code",
   "execution_count": null,
   "metadata": {},
   "outputs": [],
   "source": []
  }
 ],
 "metadata": {
  "kernelspec": {
   "display_name": "python3",
   "language": "python",
   "name": "python3"
  }
 },
 "nbformat": 4,
 "nbformat_minor": 4
}
