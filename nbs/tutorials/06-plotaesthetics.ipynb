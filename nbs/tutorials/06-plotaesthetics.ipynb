{
 "cells": [
  {
   "cell_type": "markdown",
   "id": "2f833a32",
   "metadata": {},
   "source": [
    "# Controlling Plot Aesthetics\n",
    "\n",
    "- order: 5"
   ]
  },
  {
   "cell_type": "markdown",
   "id": "7879a287",
   "metadata": {},
   "source": [
    "Changing the y-axes labels."
   ]
  },
  {
   "cell_type": "code",
   "execution_count": null,
   "id": "54a3445d",
   "metadata": {},
   "outputs": [],
   "source": [
    "# two_groups_unpaired.mean_diff.plot(swarm_label=\"This is my\\nrawdata\",\n",
    "#                                        contrast_label=\"The bootstrap\\ndistribtions!\");"
   ]
  }
 ],
 "metadata": {
  "kernelspec": {
   "display_name": "python3",
   "language": "python",
   "name": "python3"
  }
 },
 "nbformat": 4,
 "nbformat_minor": 5
}
