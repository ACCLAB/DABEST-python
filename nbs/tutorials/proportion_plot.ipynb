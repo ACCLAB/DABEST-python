{
 "cells": [
  {
   "cell_type": "markdown",
   "id": "29d885e4",
   "metadata": {},
   "source": [
    "# Proportion Plots\n",
    "\n",
    "> A guide to plot proportion plot with binary data\n",
    "\n",
    "- order: 3"
   ]
  },
  {
   "cell_type": "code",
   "execution_count": null,
   "id": "04166b0a",
   "metadata": {},
   "outputs": [],
   "source": [
    "import dabest\n",
    "import numpy as np\n",
    "import pandas as pd\n",
    "import matplotlib.pyplot as plt"
   ]
  },
  {
   "cell_type": "markdown",
   "id": "7942a214",
   "metadata": {},
   "source": [
    "## Create dataset for demo"
   ]
  },
  {
   "cell_type": "code",
   "execution_count": null,
   "id": "fca1a99f",
   "metadata": {},
   "outputs": [],
   "source": [
    "def create_demo_prop_dataset(seed=9999, N=40):\n",
    "    import numpy as np\n",
    "    import pandas as pd\n",
    "\n",
    "    np.random.seed(9999)  # Fix the seed so the results are replicable.\n",
    "    # Create samples\n",
    "    n = 1\n",
    "    c1 = np.random.binomial(n, 0.2, size=N)\n",
    "    c2 = np.random.binomial(n, 0.2, size=N)\n",
    "    c3 = np.random.binomial(n, 0.8, size=N)\n",
    "\n",
    "    t1 = np.random.binomial(n, 0.5, size=N)\n",
    "    t2 = np.random.binomial(n, 0.2, size=N)\n",
    "    t3 = np.random.binomial(n, 0.3, size=N)\n",
    "    t4 = np.random.binomial(n, 0.4, size=N)\n",
    "    t5 = np.random.binomial(n, 0.5, size=N)\n",
    "    t6 = np.random.binomial(n, 0.6, size=N)\n",
    "\n",
    "    # Add a `gender` column for coloring the data.\n",
    "    females = np.repeat('Female', N / 2).tolist()\n",
    "    males = np.repeat('Male', N / 2).tolist()\n",
    "    gender = females + males\n",
    "\n",
    "    # Add an `id` column for paired data plotting.\n",
    "    id_col = pd.Series(range(1, N + 1))\n",
    "\n",
    "    # Combine samples and gender into a DataFrame.\n",
    "    df = pd.DataFrame({'Control 1': c1, 'Test 1': t1,\n",
    "                       'Control 2': c2, 'Test 2': t2,\n",
    "                       'Control 3': c3, 'Test 3': t3,\n",
    "                       'Test 4': t4, 'Test 5': t5, 'Test 6': t6,\n",
    "                       'Gender': gender, 'ID': id_col\n",
    "                       })\n",
    "\n",
    "    return df\n",
    "df = create_demo_prop_dataset()"
   ]
  },
  {
   "cell_type": "markdown",
   "id": "503b64e4",
   "metadata": {},
   "source": [
    "Only accept binary data consisting of 0 and 1."
   ]
  },
  {
   "cell_type": "code",
   "execution_count": null,
   "id": "7a558be2",
   "metadata": {},
   "outputs": [
    {
     "data": {
      "text/html": [
       "<div>\n",
       "<style scoped>\n",
       "    .dataframe tbody tr th:only-of-type {\n",
       "        vertical-align: middle;\n",
       "    }\n",
       "\n",
       "    .dataframe tbody tr th {\n",
       "        vertical-align: top;\n",
       "    }\n",
       "\n",
       "    .dataframe thead th {\n",
       "        text-align: right;\n",
       "    }\n",
       "</style>\n",
       "<table border=\"1\" class=\"dataframe\">\n",
       "  <thead>\n",
       "    <tr style=\"text-align: right;\">\n",
       "      <th></th>\n",
       "      <th>Control 1</th>\n",
       "      <th>Test 1</th>\n",
       "      <th>Control 2</th>\n",
       "      <th>Test 2</th>\n",
       "      <th>Control 3</th>\n",
       "      <th>Test 3</th>\n",
       "      <th>Test 4</th>\n",
       "      <th>Test 5</th>\n",
       "      <th>Test 6</th>\n",
       "      <th>Gender</th>\n",
       "      <th>ID</th>\n",
       "    </tr>\n",
       "  </thead>\n",
       "  <tbody>\n",
       "    <tr>\n",
       "      <th>0</th>\n",
       "      <td>1</td>\n",
       "      <td>1</td>\n",
       "      <td>0</td>\n",
       "      <td>0</td>\n",
       "      <td>1</td>\n",
       "      <td>0</td>\n",
       "      <td>0</td>\n",
       "      <td>1</td>\n",
       "      <td>0</td>\n",
       "      <td>Female</td>\n",
       "      <td>1</td>\n",
       "    </tr>\n",
       "    <tr>\n",
       "      <th>1</th>\n",
       "      <td>0</td>\n",
       "      <td>0</td>\n",
       "      <td>0</td>\n",
       "      <td>1</td>\n",
       "      <td>1</td>\n",
       "      <td>1</td>\n",
       "      <td>0</td>\n",
       "      <td>0</td>\n",
       "      <td>0</td>\n",
       "      <td>Female</td>\n",
       "      <td>2</td>\n",
       "    </tr>\n",
       "    <tr>\n",
       "      <th>2</th>\n",
       "      <td>0</td>\n",
       "      <td>0</td>\n",
       "      <td>0</td>\n",
       "      <td>0</td>\n",
       "      <td>1</td>\n",
       "      <td>0</td>\n",
       "      <td>1</td>\n",
       "      <td>1</td>\n",
       "      <td>0</td>\n",
       "      <td>Female</td>\n",
       "      <td>3</td>\n",
       "    </tr>\n",
       "    <tr>\n",
       "      <th>3</th>\n",
       "      <td>0</td>\n",
       "      <td>0</td>\n",
       "      <td>0</td>\n",
       "      <td>0</td>\n",
       "      <td>1</td>\n",
       "      <td>0</td>\n",
       "      <td>0</td>\n",
       "      <td>1</td>\n",
       "      <td>0</td>\n",
       "      <td>Female</td>\n",
       "      <td>4</td>\n",
       "    </tr>\n",
       "    <tr>\n",
       "      <th>4</th>\n",
       "      <td>0</td>\n",
       "      <td>1</td>\n",
       "      <td>0</td>\n",
       "      <td>0</td>\n",
       "      <td>1</td>\n",
       "      <td>0</td>\n",
       "      <td>0</td>\n",
       "      <td>0</td>\n",
       "      <td>1</td>\n",
       "      <td>Female</td>\n",
       "      <td>5</td>\n",
       "    </tr>\n",
       "  </tbody>\n",
       "</table>\n",
       "</div>"
      ],
      "text/plain": [
       "   Control 1  Test 1  Control 2  Test 2  Control 3  Test 3  Test 4  Test 5  \\\n",
       "0          1       1          0       0          1       0       0       1   \n",
       "1          0       0          0       1          1       1       0       0   \n",
       "2          0       0          0       0          1       0       1       1   \n",
       "3          0       0          0       0          1       0       0       1   \n",
       "4          0       1          0       0          1       0       0       0   \n",
       "\n",
       "   Test 6  Gender  ID  \n",
       "0       0  Female   1  \n",
       "1       0  Female   2  \n",
       "2       0  Female   3  \n",
       "3       0  Female   4  \n",
       "4       1  Female   5  "
      ]
     },
     "execution_count": null,
     "metadata": {},
     "output_type": "execute_result"
    }
   ],
   "source": [
    "df.head()"
   ]
  },
  {
   "cell_type": "markdown",
   "id": "a10dd2b3",
   "metadata": {},
   "source": [
    "You need to specify `proportional=True` for binary data."
   ]
  },
  {
   "cell_type": "code",
   "execution_count": null,
   "id": "85d38228",
   "metadata": {},
   "outputs": [
    {
     "data": {
      "text/plain": [
       "DABEST v0.0.1\n",
       "=============\n",
       "             \n",
       "Good morning!\n",
       "The current time is Wed Jan 25 11:20:15 2023.\n",
       "\n",
       "DABEST v0.0.1\n",
       "=============\n",
       "             \n",
       "Good morning!\n",
       "The current time is Wed Jan 25 11:20:15 2023.\n",
       "\n",
       "The unpaired mean difference between Control 1 and Test 1 is 0.375 [95%CI 0.15, 0.525].\n",
       "The p-value of the two-sided permutation t-test is 0.0, calculated for legacy purposes only. \n",
       "\n",
       "5000 bootstrap samples were taken; the confidence interval is bias-corrected and accelerated.\n",
       "Any p-value reported is the probability of observing theeffect size (or greater),\n",
       "assuming the null hypothesis ofzero difference is true.\n",
       "For each p-value, 5000 reshuffles of the control and test labels were performed.\n",
       "\n",
       "To get the results of all valid statistical tests, use `.mean_diff.statistical_tests`\n",
       "\n",
       "To get the results of all valid statistical tests, use `.mean_diff.statistical_tests`"
      ]
     },
     "execution_count": null,
     "metadata": {},
     "output_type": "execute_result"
    }
   ],
   "source": [
    "two_groups_unpaired = dabest.load(df, idx=(\"Control 1\", \"Test 1\"), proportional=True)\n",
    "two_groups_unpaired.mean_diff"
   ]
  },
  {
   "cell_type": "markdown",
   "id": "217bf60d",
   "metadata": {},
   "source": [
    "## Effect sizes"
   ]
  },
  {
   "cell_type": "markdown",
   "id": "32a8ce9b",
   "metadata": {},
   "source": [
    "Only two effect sizes are supported for binary data:\n",
    "\n",
    " - the mean difference (mean_diff)\n",
    " \n",
    " - [cohen's h(cohens_h)](https://en.wikipedia.org/wiki/Cohen%27s_h)"
   ]
  },
  {
   "cell_type": "code",
   "execution_count": null,
   "id": "f9405f04",
   "metadata": {},
   "outputs": [
    {
     "data": {
      "text/html": [
       "<div>\n",
       "<style scoped>\n",
       "    .dataframe tbody tr th:only-of-type {\n",
       "        vertical-align: middle;\n",
       "    }\n",
       "\n",
       "    .dataframe tbody tr th {\n",
       "        vertical-align: top;\n",
       "    }\n",
       "\n",
       "    .dataframe thead th {\n",
       "        text-align: right;\n",
       "    }\n",
       "</style>\n",
       "<table border=\"1\" class=\"dataframe\">\n",
       "  <thead>\n",
       "    <tr style=\"text-align: right;\">\n",
       "      <th></th>\n",
       "      <th>control</th>\n",
       "      <th>test</th>\n",
       "      <th>control_N</th>\n",
       "      <th>test_N</th>\n",
       "      <th>effect_size</th>\n",
       "      <th>difference</th>\n",
       "      <th>ci</th>\n",
       "      <th>bca_low</th>\n",
       "      <th>bca_high</th>\n",
       "      <th>bca_interval_idx</th>\n",
       "      <th>...</th>\n",
       "      <th>pvalue_permutation</th>\n",
       "      <th>permutation_count</th>\n",
       "      <th>permutations_var</th>\n",
       "      <th>pvalue_welch</th>\n",
       "      <th>statistic_welch</th>\n",
       "      <th>pvalue_students_t</th>\n",
       "      <th>statistic_students_t</th>\n",
       "      <th>pvalue_mann_whitney</th>\n",
       "      <th>statistic_mann_whitney</th>\n",
       "      <th>proportional_difference</th>\n",
       "    </tr>\n",
       "  </thead>\n",
       "  <tbody>\n",
       "    <tr>\n",
       "      <th>0</th>\n",
       "      <td>Control 1</td>\n",
       "      <td>Test 1</td>\n",
       "      <td>40</td>\n",
       "      <td>40</td>\n",
       "      <td>mean difference</td>\n",
       "      <td>0.375</td>\n",
       "      <td>95</td>\n",
       "      <td>0.15</td>\n",
       "      <td>0.525</td>\n",
       "      <td>(55, 4750)</td>\n",
       "      <td>...</td>\n",
       "      <td>0.0</td>\n",
       "      <td>5000</td>\n",
       "      <td>[0.011266025641025641, 0.011266025641025641, 0...</td>\n",
       "      <td>0.000289</td>\n",
       "      <td>-3.81474</td>\n",
       "      <td>0.000271</td>\n",
       "      <td>-3.81474</td>\n",
       "      <td>0.000434</td>\n",
       "      <td>500.0</td>\n",
       "      <td>0.825418</td>\n",
       "    </tr>\n",
       "  </tbody>\n",
       "</table>\n",
       "<p>1 rows × 27 columns</p>\n",
       "</div>"
      ],
      "text/plain": [
       "     control    test  control_N  test_N      effect_size  difference  ci  \\\n",
       "0  Control 1  Test 1         40      40  mean difference       0.375  95   \n",
       "\n",
       "   bca_low  bca_high bca_interval_idx  ...  pvalue_permutation  \\\n",
       "0     0.15     0.525       (55, 4750)  ...                 0.0   \n",
       "\n",
       "   permutation_count                                   permutations_var  \\\n",
       "0               5000  [0.011266025641025641, 0.011266025641025641, 0...   \n",
       "\n",
       "  pvalue_welch  statistic_welch  pvalue_students_t statistic_students_t  \\\n",
       "0     0.000289         -3.81474           0.000271             -3.81474   \n",
       "\n",
       "   pvalue_mann_whitney  statistic_mann_whitney proportional_difference  \n",
       "0             0.000434                   500.0                0.825418  \n",
       "\n",
       "[1 rows x 27 columns]"
      ]
     },
     "execution_count": null,
     "metadata": {},
     "output_type": "execute_result"
    }
   ],
   "source": [
    "two_groups_unpaired.mean_diff.results"
   ]
  },
  {
   "cell_type": "code",
   "execution_count": null,
   "id": "37e94f00",
   "metadata": {},
   "outputs": [
    {
     "data": {
      "text/html": [
       "<div>\n",
       "<style scoped>\n",
       "    .dataframe tbody tr th:only-of-type {\n",
       "        vertical-align: middle;\n",
       "    }\n",
       "\n",
       "    .dataframe tbody tr th {\n",
       "        vertical-align: top;\n",
       "    }\n",
       "\n",
       "    .dataframe thead th {\n",
       "        text-align: right;\n",
       "    }\n",
       "</style>\n",
       "<table border=\"1\" class=\"dataframe\">\n",
       "  <thead>\n",
       "    <tr style=\"text-align: right;\">\n",
       "      <th></th>\n",
       "      <th>control</th>\n",
       "      <th>test</th>\n",
       "      <th>control_N</th>\n",
       "      <th>test_N</th>\n",
       "      <th>effect_size</th>\n",
       "      <th>difference</th>\n",
       "      <th>ci</th>\n",
       "      <th>bca_low</th>\n",
       "      <th>bca_high</th>\n",
       "      <th>bca_interval_idx</th>\n",
       "      <th>...</th>\n",
       "      <th>pvalue_permutation</th>\n",
       "      <th>permutation_count</th>\n",
       "      <th>permutations_var</th>\n",
       "      <th>pvalue_welch</th>\n",
       "      <th>statistic_welch</th>\n",
       "      <th>pvalue_students_t</th>\n",
       "      <th>statistic_students_t</th>\n",
       "      <th>pvalue_mann_whitney</th>\n",
       "      <th>statistic_mann_whitney</th>\n",
       "      <th>proportional_difference</th>\n",
       "    </tr>\n",
       "  </thead>\n",
       "  <tbody>\n",
       "    <tr>\n",
       "      <th>0</th>\n",
       "      <td>Control 1</td>\n",
       "      <td>Test 1</td>\n",
       "      <td>40</td>\n",
       "      <td>40</td>\n",
       "      <td>Cohen's h</td>\n",
       "      <td>0.825418</td>\n",
       "      <td>95</td>\n",
       "      <td>0.329684</td>\n",
       "      <td>1.219937</td>\n",
       "      <td>(57, 4763)</td>\n",
       "      <td>...</td>\n",
       "      <td>0.0</td>\n",
       "      <td>5000</td>\n",
       "      <td>[0.011266025641025641, 0.011266025641025641, 0...</td>\n",
       "      <td>0.000289</td>\n",
       "      <td>-3.81474</td>\n",
       "      <td>0.000271</td>\n",
       "      <td>-3.81474</td>\n",
       "      <td>0.000434</td>\n",
       "      <td>500.0</td>\n",
       "      <td>0.825418</td>\n",
       "    </tr>\n",
       "  </tbody>\n",
       "</table>\n",
       "<p>1 rows × 27 columns</p>\n",
       "</div>"
      ],
      "text/plain": [
       "     control    test  control_N  test_N effect_size  difference  ci   bca_low  \\\n",
       "0  Control 1  Test 1         40      40   Cohen's h    0.825418  95  0.329684   \n",
       "\n",
       "   bca_high bca_interval_idx  ...  pvalue_permutation  permutation_count  \\\n",
       "0  1.219937       (57, 4763)  ...                 0.0               5000   \n",
       "\n",
       "                                    permutations_var pvalue_welch  \\\n",
       "0  [0.011266025641025641, 0.011266025641025641, 0...     0.000289   \n",
       "\n",
       "   statistic_welch  pvalue_students_t statistic_students_t  \\\n",
       "0         -3.81474           0.000271             -3.81474   \n",
       "\n",
       "   pvalue_mann_whitney  statistic_mann_whitney proportional_difference  \n",
       "0             0.000434                   500.0                0.825418  \n",
       "\n",
       "[1 rows x 27 columns]"
      ]
     },
     "execution_count": null,
     "metadata": {},
     "output_type": "execute_result"
    }
   ],
   "source": [
    "two_groups_unpaired.cohens_h.results"
   ]
  },
  {
   "cell_type": "markdown",
   "id": "845b7224",
   "metadata": {},
   "source": [
    "## Producing estimation plots"
   ]
  },
  {
   "cell_type": "code",
   "execution_count": null,
   "id": "1d0e1042",
   "metadata": {},
   "outputs": [
    {
     "data": {
      "image/png": "[encoded data removed]",
      "text/plain": [
       "<Figure size 500x400 with 2 Axes>"
      ]
     },
     "metadata": {},
     "output_type": "display_data"
    }
   ],
   "source": [
    "two_groups_unpaired.mean_diff.plot();"
   ]
  },
  {
   "cell_type": "code",
   "execution_count": null,
   "id": "c012a174",
   "metadata": {},
   "outputs": [
    {
     "data": {
      "image/png": "[encoded data removed]",
      "text/plain": [
       "<Figure size 500x400 with 2 Axes>"
      ]
     },
     "metadata": {},
     "output_type": "display_data"
    }
   ],
   "source": [
    "two_groups_unpaired.cohens_h.plot();"
   ]
  },
  {
   "cell_type": "markdown",
   "id": "5f33004b",
   "metadata": {},
   "source": [
    "The white part in the bar represents the proportion of observations in the dataset that do not belong to the category, which is \n",
    "equivalent to the proportion of 0 in the data. The colored part, on the other hand, represents the proportion of observations \n",
    "that belong to the category, which is equivalent to the proportion of 1 in the data. By default, the value of \"group_summaries\"\n",
    "is set to \"mean_sd\". This means that the error bars in the plot display the mean and ± standard deviation of each group as \n",
    "gapped lines. The gap represents the mean, while the vertical ends represent the standard deviation. Alternatively, if the \n",
    "value of \"group_summaries\" is set to \"median_quartiles\", the median and 25th and 75th percentiles of each group are plotted instead. \n",
    "By default, the bootstrap effect sizes is plotted on the right axis."
   ]
  },
  {
   "cell_type": "markdown",
   "id": "f3865a7a",
   "metadata": {},
   "source": [
    "Instead of a Gardner-Altman plot, you can produce a **Cumming estimation\n",
    "plot** by setting ``float_contrast=False`` in the ``plot()`` method.\n",
    "This will plot the bootstrap effect sizes below the raw data."
   ]
  },
  {
   "cell_type": "code",
   "execution_count": null,
   "id": "1e8639a1",
   "metadata": {},
   "outputs": [],
   "source": [
    "two_groups_unpaired.mean_diff.plot(float_contrast=False);"
   ]
  },
  {
   "cell_type": "code",
   "execution_count": null,
   "id": "5e34a853",
   "metadata": {},
   "outputs": [],
   "source": []
  }
 ],
 "metadata": {
  "kernelspec": {
   "display_name": "python3",
   "language": "python",
   "name": "python3"
  }
 },
 "nbformat": 4,
 "nbformat_minor": 5
}
