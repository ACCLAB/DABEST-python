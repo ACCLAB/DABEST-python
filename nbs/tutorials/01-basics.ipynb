{
 "cells": [
  {
   "cell_type": "markdown",
   "metadata": {},
   "source": [
    "# Basics\n",
    "\n",
    "> An end-to-end tutorial on how to use the dabest library.\n",
    "\n",
    "- order: 1"
   ]
  },
  {
   "cell_type": "markdown",
   "metadata": {},
   "source": [
    "## Load libraries"
   ]
  },
  {
   "cell_type": "code",
   "execution_count": null,
   "metadata": {},
   "outputs": [
    {
     "name": "stdout",
     "output_type": "stream",
     "text": [
      "Pre-compiling numba functions for DABEST...\n"
     ]
    },
    {
     "name": "stderr",
     "output_type": "stream",
     "text": [
      "Compiling numba functions: 100%|██████████| 11/11 [00:00<00:00, 44.16it/s]"
     ]
    },
    {
     "name": "stdout",
     "output_type": "stream",
     "text": [
      "Numba compilation complete!\n",
      "We're using DABEST v2025.03.27\n"
     ]
    },
    {
     "name": "stderr",
     "output_type": "stream",
     "text": [
      "\n"
     ]
    }
   ],
   "source": [
    "import numpy as np\n",
    "import pandas as pd\n",
    "import dabest\n",
    "\n",
    "print(\"We're using DABEST v{}\".format(dabest.__version__))"
   ]
  },
  {
   "cell_type": "code",
   "execution_count": null,
   "metadata": {},
   "outputs": [],
   "source": [
    "#| hide\n",
    "import warnings\n",
    "warnings.filterwarnings(\"ignore\", category=UserWarning)"
   ]
  },
  {
   "cell_type": "markdown",
   "metadata": {},
   "source": [
    "## Create dataset for demo"
   ]
  },
  {
   "cell_type": "markdown",
   "metadata": {},
   "source": [
    "Here, we create a dataset to illustrate how ``dabest`` works. In\n",
    "this dataset, each column corresponds to a group of observations."
   ]
  },
  {
   "cell_type": "code",
   "execution_count": null,
   "metadata": {},
   "outputs": [
    {
     "data": {
      "text/html": [
       "<div>\n",
       "<style scoped>\n",
       "    .dataframe tbody tr th:only-of-type {\n",
       "        vertical-align: middle;\n",
       "    }\n",
       "\n",
       "    .dataframe tbody tr th {\n",
       "        vertical-align: top;\n",
       "    }\n",
       "\n",
       "    .dataframe thead th {\n",
       "        text-align: right;\n",
       "    }\n",
       "</style>\n",
       "<table border=\"1\" class=\"dataframe\">\n",
       "  <thead>\n",
       "    <tr style=\"text-align: right;\">\n",
       "      <th></th>\n",
       "      <th>Control 1</th>\n",
       "      <th>Test 1</th>\n",
       "      <th>Control 2</th>\n",
       "      <th>Test 2</th>\n",
       "      <th>Control 3</th>\n",
       "      <th>Test 3</th>\n",
       "      <th>Test 4</th>\n",
       "      <th>Test 5</th>\n",
       "      <th>Test 6</th>\n",
       "      <th>Gender</th>\n",
       "      <th>ID</th>\n",
       "    </tr>\n",
       "  </thead>\n",
       "  <tbody>\n",
       "    <tr>\n",
       "      <th>0</th>\n",
       "      <td>2.793984</td>\n",
       "      <td>3.420875</td>\n",
       "      <td>3.324661</td>\n",
       "      <td>1.707467</td>\n",
       "      <td>3.816940</td>\n",
       "      <td>1.796581</td>\n",
       "      <td>4.440050</td>\n",
       "      <td>2.937284</td>\n",
       "      <td>3.486127</td>\n",
       "      <td>Female</td>\n",
       "      <td>1</td>\n",
       "    </tr>\n",
       "    <tr>\n",
       "      <th>1</th>\n",
       "      <td>3.236759</td>\n",
       "      <td>3.467972</td>\n",
       "      <td>3.685186</td>\n",
       "      <td>1.121846</td>\n",
       "      <td>3.750358</td>\n",
       "      <td>3.944566</td>\n",
       "      <td>3.723494</td>\n",
       "      <td>2.837062</td>\n",
       "      <td>2.338094</td>\n",
       "      <td>Female</td>\n",
       "      <td>2</td>\n",
       "    </tr>\n",
       "    <tr>\n",
       "      <th>2</th>\n",
       "      <td>3.019149</td>\n",
       "      <td>4.377179</td>\n",
       "      <td>5.616891</td>\n",
       "      <td>3.301381</td>\n",
       "      <td>2.945397</td>\n",
       "      <td>2.832188</td>\n",
       "      <td>3.214014</td>\n",
       "      <td>3.111950</td>\n",
       "      <td>3.270897</td>\n",
       "      <td>Female</td>\n",
       "      <td>3</td>\n",
       "    </tr>\n",
       "    <tr>\n",
       "      <th>3</th>\n",
       "      <td>2.804638</td>\n",
       "      <td>4.564780</td>\n",
       "      <td>2.773152</td>\n",
       "      <td>2.534018</td>\n",
       "      <td>3.575179</td>\n",
       "      <td>3.048267</td>\n",
       "      <td>4.968278</td>\n",
       "      <td>3.743378</td>\n",
       "      <td>3.151188</td>\n",
       "      <td>Female</td>\n",
       "      <td>4</td>\n",
       "    </tr>\n",
       "    <tr>\n",
       "      <th>4</th>\n",
       "      <td>2.858019</td>\n",
       "      <td>3.220058</td>\n",
       "      <td>2.550361</td>\n",
       "      <td>2.796365</td>\n",
       "      <td>3.692138</td>\n",
       "      <td>3.276575</td>\n",
       "      <td>2.662104</td>\n",
       "      <td>2.977341</td>\n",
       "      <td>2.328601</td>\n",
       "      <td>Female</td>\n",
       "      <td>5</td>\n",
       "    </tr>\n",
       "  </tbody>\n",
       "</table>\n",
       "</div>"
      ],
      "text/plain": [
       "   Control 1    Test 1  Control 2    Test 2  Control 3    Test 3    Test 4  \\\n",
       "0   2.793984  3.420875   3.324661  1.707467   3.816940  1.796581  4.440050   \n",
       "1   3.236759  3.467972   3.685186  1.121846   3.750358  3.944566  3.723494   \n",
       "2   3.019149  4.377179   5.616891  3.301381   2.945397  2.832188  3.214014   \n",
       "3   2.804638  4.564780   2.773152  2.534018   3.575179  3.048267  4.968278   \n",
       "4   2.858019  3.220058   2.550361  2.796365   3.692138  3.276575  2.662104   \n",
       "\n",
       "     Test 5    Test 6  Gender  ID  \n",
       "0  2.937284  3.486127  Female   1  \n",
       "1  2.837062  2.338094  Female   2  \n",
       "2  3.111950  3.270897  Female   3  \n",
       "3  3.743378  3.151188  Female   4  \n",
       "4  2.977341  2.328601  Female   5  "
      ]
     },
     "execution_count": null,
     "metadata": {},
     "output_type": "execute_result"
    }
   ],
   "source": [
    "from scipy.stats import norm # Used in generation of populations.\n",
    "\n",
    "np.random.seed(9999) # Fix the seed to ensure reproducibility of results.\n",
    "\n",
    "Ns = 20 # The number of samples taken from each population\n",
    "\n",
    "# Create samples\n",
    "c1 = norm.rvs(loc=3, scale=0.4, size=Ns)\n",
    "c2 = norm.rvs(loc=3.5, scale=0.75, size=Ns)\n",
    "c3 = norm.rvs(loc=3.25, scale=0.4, size=Ns)\n",
    "\n",
    "t1 = norm.rvs(loc=3.5, scale=0.5, size=Ns)\n",
    "t2 = norm.rvs(loc=2.5, scale=0.6, size=Ns)\n",
    "t3 = norm.rvs(loc=3, scale=0.75, size=Ns)\n",
    "t4 = norm.rvs(loc=3.5, scale=0.75, size=Ns)\n",
    "t5 = norm.rvs(loc=3.25, scale=0.4, size=Ns)\n",
    "t6 = norm.rvs(loc=3.25, scale=0.4, size=Ns)\n",
    "\n",
    "# Add a `gender` column for coloring the data.\n",
    "females = np.repeat('Female', Ns/2).tolist()\n",
    "males = np.repeat('Male', Ns/2).tolist()\n",
    "gender = females + males\n",
    "\n",
    "# Add an `id` column for paired data plotting.\n",
    "id_col = pd.Series(range(1, Ns+1))\n",
    "\n",
    "# Combine samples and gender into a DataFrame.\n",
    "df = pd.DataFrame({'Control 1' : c1,     'Test 1' : t1,\n",
    "                 'Control 2' : c2,     'Test 2' : t2,\n",
    "                 'Control 3' : c3,     'Test 3' : t3,\n",
    "                 'Test 4'    : t4,     'Test 5' : t5, 'Test 6' : t6,\n",
    "                 'Gender'    : gender, 'ID'  : id_col\n",
    "                })\n",
    "df.head()"
   ]
  },
  {
   "cell_type": "markdown",
   "metadata": {},
   "source": [
    "Note that we have 9 groups (3 Control samples and 6 Test samples). Our\n",
    "dataset has also a non\\-numerical column indicating gender, and another\n",
    "column indicating the identity of each observation."
   ]
  },
  {
   "cell_type": "markdown",
   "metadata": {},
   "source": [
    "This is known as a *wide* dataset. See this \n",
    "[writeup](https://sejdemyr.github.io/r-tutorials/basics/wide-and-long/) \n",
    "for more details."
   ]
  },
  {
   "cell_type": "markdown",
   "metadata": {},
   "source": [
    "## Loading data"
   ]
  },
  {
   "cell_type": "markdown",
   "metadata": {},
   "source": [
    "Before creating estimation plots and obtaining confidence intervals for our effect sizes, we need to load the data and specify the relevant groups.\n",
    "\n",
    "We can achieve this by supplying the dataframe to ``dabest.load()``. Additionally, we must provide the two groups to be compared in the ``idx`` argument as a tuple or list."
   ]
  },
  {
   "cell_type": "code",
   "execution_count": null,
   "metadata": {},
   "outputs": [],
   "source": [
    "two_groups_unpaired = dabest.load(df, idx=(\"Control 1\", \"Test 1\"), resamples=5000)"
   ]
  },
  {
   "cell_type": "markdown",
   "metadata": {},
   "source": [
    "Calling this ``Dabest`` object gives you a gentle greeting, as well as\n",
    "the comparisons that can be computed."
   ]
  },
  {
   "cell_type": "code",
   "execution_count": null,
   "metadata": {},
   "outputs": [
    {
     "data": {
      "text/plain": [
       "DABEST v2025.03.27\n",
       "==================\n",
       "                  \n",
       "Good afternoon!\n",
       "The current time is Tue Mar 25 16:02:11 2025.\n",
       "\n",
       "Effect size(s) with 95% confidence intervals will be computed for:\n",
       "1. Test 1 minus Control 1\n",
       "\n",
       "5000 resamples will be used to generate the effect size bootstraps."
      ]
     },
     "execution_count": null,
     "metadata": {},
     "output_type": "execute_result"
    }
   ],
   "source": [
    "two_groups_unpaired"
   ]
  },
  {
   "cell_type": "markdown",
   "metadata": {},
   "source": [
    "### Changing statistical parameters"
   ]
  },
  {
   "cell_type": "markdown",
   "metadata": {},
   "source": [
    "You can change the width of the confidence interval by manipulating the ``ci`` argument."
   ]
  },
  {
   "cell_type": "code",
   "execution_count": null,
   "metadata": {},
   "outputs": [
    {
     "data": {
      "text/plain": [
       "DABEST v2025.03.27\n",
       "==================\n",
       "                  \n",
       "Good afternoon!\n",
       "The current time is Tue Mar 25 16:02:11 2025.\n",
       "\n",
       "Effect size(s) with 90% confidence intervals will be computed for:\n",
       "1. Test 1 minus Control 1\n",
       "\n",
       "5000 resamples will be used to generate the effect size bootstraps."
      ]
     },
     "execution_count": null,
     "metadata": {},
     "output_type": "execute_result"
    }
   ],
   "source": [
    "two_groups_unpaired_ci90 = dabest.load(df, idx=(\"Control 1\", \"Test 1\"), ci=90)\n",
    "two_groups_unpaired_ci90"
   ]
  },
  {
   "cell_type": "markdown",
   "metadata": {},
   "source": [
    "## Effect sizes"
   ]
  },
  {
   "cell_type": "markdown",
   "metadata": {},
   "source": [
    "The **dabest** library now features a range of effect sizes:\n",
    "\n",
    "  - the mean difference (`mean＿diff`)\n",
    "  - the median difference (`median＿diff`)\n",
    "  - [Cohen's d](https://en.wikipedia.org/wiki/Effect_size#Cohen's_d) (`cohens＿d`)\n",
    "  - [Hedges' g](https://en.wikipedia.org/wiki/Effect_size#Hedges'_g) (`hedges＿g`)\n",
    "  - [Cohen's h](https://en.wikipedia.org/wiki/Cohen's_h) (`cohens＿h`)\n",
    "  - [Cliff's delta](https://en.wikipedia.org/wiki/Effect_size#Effect_size_for_ordinal_data) (`cliffs＿delta`)\n",
    "  \n",
    "[comment]: <> (Please copy this underline for the above ＿)\n",
    " \n",
    "Each of these are attributes of the ``Dabest`` object."
   ]
  },
  {
   "cell_type": "code",
   "execution_count": null,
   "metadata": {},
   "outputs": [
    {
     "data": {
      "text/plain": [
       "DABEST v2025.03.27\n",
       "==================\n",
       "                  \n",
       "Good afternoon!\n",
       "The current time is Tue Mar 25 16:02:11 2025.\n",
       "\n",
       "The unpaired mean difference between Control 1 and Test 1 is 0.48 [95%CI 0.205, 0.774].\n",
       "The p-value of the two-sided permutation t-test is 0.001, calculated for legacy purposes only. \n",
       "\n",
       "5000 bootstrap samples were taken; the confidence interval is bias-corrected and accelerated.\n",
       "Any p-value reported is the probability of observing theeffect size (or greater),\n",
       "assuming the null hypothesis of zero difference is true.\n",
       "For each p-value, 5000 reshuffles of the control and test labels were performed.\n",
       "\n",
       "To get the results of all valid statistical tests, use `.mean_diff.statistical_tests`"
      ]
     },
     "execution_count": null,
     "metadata": {},
     "output_type": "execute_result"
    }
   ],
   "source": [
    "two_groups_unpaired.mean_diff"
   ]
  },
  {
   "cell_type": "markdown",
   "metadata": {},
   "source": [
    "For each comparison, the type of effect size is reported (here, it's the\n",
    "\"unpaired mean difference\"). The confidence interval is reported as:\n",
    "[*confidenceIntervalWidth* *LowerBound*, *UpperBound*]\n",
    "\n",
    "This confidence interval is generated through bootstrap resampling. See [`bootstraps`](/blog/posts/bootstraps/bootstraps.ipynb) for more details.\n",
    "\n",
    "Since v0.3.0, DABEST will report the p-value of the [non-parametric two-sided approximate permutation t-test](https://en.wikipedia.org/wiki/Resampling_(statistics)#Permutation_tests). This is also known as *the Monte Carlo permutation test*.\n",
    "\n",
    "For unpaired comparisons, the p-values and test statistics of [Welch's t test](https://en.wikipedia.org/wiki/Welch%27s_t-test), \n",
    "[Student's t test](https://en.wikipedia.org/wiki/Student%27s_t-test), \n",
    "and [Mann-Whitney U test](https://en.wikipedia.org/wiki/Mann%E2%80%93Whitney_U_test) can be found. For paired comparisons, the p-values and test statistics of the \n",
    "[paired Student's t](https://en.wikipedia.org/wiki/Student%27s_t-test#Paired_samples)\n",
    "and [Wilcoxon](https://en.wikipedia.org/wiki/Wilcoxon_signed-rank_test) tests are presented.\n"
   ]
  },
  {
   "cell_type": "code",
   "execution_count": null,
   "metadata": {},
   "outputs": [
    {
     "data": {
      "text/html": [
       "<div>\n",
       "<style scoped>\n",
       "    .dataframe tbody tr th:only-of-type {\n",
       "        vertical-align: middle;\n",
       "    }\n",
       "\n",
       "    .dataframe tbody tr th {\n",
       "        vertical-align: top;\n",
       "    }\n",
       "\n",
       "    .dataframe thead th {\n",
       "        text-align: right;\n",
       "    }\n",
       "</style>\n",
       "<table border=\"1\" class=\"dataframe\">\n",
       "  <thead>\n",
       "    <tr style=\"text-align: right;\">\n",
       "      <th></th>\n",
       "      <th>control</th>\n",
       "      <th>test</th>\n",
       "      <th>control_N</th>\n",
       "      <th>test_N</th>\n",
       "      <th>effect_size</th>\n",
       "      <th>is_paired</th>\n",
       "      <th>difference</th>\n",
       "      <th>ci</th>\n",
       "      <th>bca_low</th>\n",
       "      <th>bca_high</th>\n",
       "      <th>bca_interval_idx</th>\n",
       "      <th>pct_low</th>\n",
       "      <th>pct_high</th>\n",
       "      <th>pct_interval_idx</th>\n",
       "      <th>bootstraps</th>\n",
       "      <th>resamples</th>\n",
       "      <th>random_seed</th>\n",
       "      <th>permutations</th>\n",
       "      <th>pvalue_permutation</th>\n",
       "      <th>permutation_count</th>\n",
       "      <th>permutations_var</th>\n",
       "      <th>pvalue_welch</th>\n",
       "      <th>statistic_welch</th>\n",
       "      <th>pvalue_students_t</th>\n",
       "      <th>statistic_students_t</th>\n",
       "      <th>pvalue_mann_whitney</th>\n",
       "      <th>statistic_mann_whitney</th>\n",
       "      <th>bec_difference</th>\n",
       "      <th>bec_bootstraps</th>\n",
       "      <th>bec_bca_interval_idx</th>\n",
       "      <th>bec_bca_low</th>\n",
       "      <th>bec_bca_high</th>\n",
       "      <th>bec_pct_interval_idx</th>\n",
       "      <th>bec_pct_low</th>\n",
       "      <th>bec_pct_high</th>\n",
       "    </tr>\n",
       "  </thead>\n",
       "  <tbody>\n",
       "    <tr>\n",
       "      <th>0</th>\n",
       "      <td>Control 1</td>\n",
       "      <td>Test 1</td>\n",
       "      <td>20</td>\n",
       "      <td>20</td>\n",
       "      <td>mean difference</td>\n",
       "      <td>None</td>\n",
       "      <td>0.48029</td>\n",
       "      <td>95</td>\n",
       "      <td>0.205161</td>\n",
       "      <td>0.773647</td>\n",
       "      <td>(145, 4893)</td>\n",
       "      <td>0.197427</td>\n",
       "      <td>0.758752</td>\n",
       "      <td>(125, 4875)</td>\n",
       "      <td>[0.6148498102262239, 0.6752095203445543, 0.300...</td>\n",
       "      <td>5000</td>\n",
       "      <td>12345</td>\n",
       "      <td>[-0.17259843762502491, 0.03802293852634886, -0...</td>\n",
       "      <td>0.001</td>\n",
       "      <td>5000</td>\n",
       "      <td>[0.26356588154404337, 0.2710249543904699, 0.26...</td>\n",
       "      <td>0.002094</td>\n",
       "      <td>-3.308806</td>\n",
       "      <td>0.002057</td>\n",
       "      <td>-3.308806</td>\n",
       "      <td>0.001625</td>\n",
       "      <td>83.0</td>\n",
       "      <td>0.0</td>\n",
       "      <td>[-0.09732932551566487, 0.08087009665445155, -0...</td>\n",
       "      <td>(127, 4877)</td>\n",
       "      <td>-0.256862</td>\n",
       "      <td>0.259558</td>\n",
       "      <td>(125, 4875)</td>\n",
       "      <td>-0.25826</td>\n",
       "      <td>0.25759</td>\n",
       "    </tr>\n",
       "  </tbody>\n",
       "</table>\n",
       "</div>"
      ],
      "text/plain": [
       "     control    test  control_N  test_N      effect_size is_paired  \\\n",
       "0  Control 1  Test 1         20      20  mean difference      None   \n",
       "\n",
       "   difference  ci   bca_low  bca_high bca_interval_idx   pct_low  pct_high  \\\n",
       "0     0.48029  95  0.205161  0.773647      (145, 4893)  0.197427  0.758752   \n",
       "\n",
       "  pct_interval_idx                                         bootstraps  \\\n",
       "0      (125, 4875)  [0.6148498102262239, 0.6752095203445543, 0.300...   \n",
       "\n",
       "   resamples  random_seed                                       permutations  \\\n",
       "0       5000        12345  [-0.17259843762502491, 0.03802293852634886, -0...   \n",
       "\n",
       "   pvalue_permutation  permutation_count  \\\n",
       "0               0.001               5000   \n",
       "\n",
       "                                    permutations_var  pvalue_welch  \\\n",
       "0  [0.26356588154404337, 0.2710249543904699, 0.26...      0.002094   \n",
       "\n",
       "   statistic_welch  pvalue_students_t  statistic_students_t  \\\n",
       "0        -3.308806           0.002057             -3.308806   \n",
       "\n",
       "   pvalue_mann_whitney  statistic_mann_whitney  bec_difference  \\\n",
       "0             0.001625                    83.0             0.0   \n",
       "\n",
       "                                      bec_bootstraps bec_bca_interval_idx  \\\n",
       "0  [-0.09732932551566487, 0.08087009665445155, -0...          (127, 4877)   \n",
       "\n",
       "   bec_bca_low  bec_bca_high bec_pct_interval_idx  bec_pct_low  bec_pct_high  \n",
       "0    -0.256862      0.259558          (125, 4875)     -0.25826       0.25759  "
      ]
     },
     "execution_count": null,
     "metadata": {},
     "output_type": "execute_result"
    }
   ],
   "source": [
    "pd.options.display.max_columns = 50\n",
    "two_groups_unpaired.mean_diff.results"
   ]
  },
  {
   "cell_type": "code",
   "execution_count": null,
   "metadata": {},
   "outputs": [
    {
     "data": {
      "text/html": [
       "<div>\n",
       "<style scoped>\n",
       "    .dataframe tbody tr th:only-of-type {\n",
       "        vertical-align: middle;\n",
       "    }\n",
       "\n",
       "    .dataframe tbody tr th {\n",
       "        vertical-align: top;\n",
       "    }\n",
       "\n",
       "    .dataframe thead th {\n",
       "        text-align: right;\n",
       "    }\n",
       "</style>\n",
       "<table border=\"1\" class=\"dataframe\">\n",
       "  <thead>\n",
       "    <tr style=\"text-align: right;\">\n",
       "      <th></th>\n",
       "      <th>control</th>\n",
       "      <th>test</th>\n",
       "      <th>control_N</th>\n",
       "      <th>test_N</th>\n",
       "      <th>effect_size</th>\n",
       "      <th>is_paired</th>\n",
       "      <th>difference</th>\n",
       "      <th>ci</th>\n",
       "      <th>bca_low</th>\n",
       "      <th>bca_high</th>\n",
       "      <th>pvalue_permutation</th>\n",
       "      <th>pvalue_welch</th>\n",
       "      <th>statistic_welch</th>\n",
       "      <th>pvalue_students_t</th>\n",
       "      <th>statistic_students_t</th>\n",
       "      <th>pvalue_mann_whitney</th>\n",
       "      <th>statistic_mann_whitney</th>\n",
       "    </tr>\n",
       "  </thead>\n",
       "  <tbody>\n",
       "    <tr>\n",
       "      <th>0</th>\n",
       "      <td>Control 1</td>\n",
       "      <td>Test 1</td>\n",
       "      <td>20</td>\n",
       "      <td>20</td>\n",
       "      <td>mean difference</td>\n",
       "      <td>None</td>\n",
       "      <td>0.48029</td>\n",
       "      <td>95</td>\n",
       "      <td>0.205161</td>\n",
       "      <td>0.773647</td>\n",
       "      <td>0.001</td>\n",
       "      <td>0.002094</td>\n",
       "      <td>-3.308806</td>\n",
       "      <td>0.002057</td>\n",
       "      <td>-3.308806</td>\n",
       "      <td>0.001625</td>\n",
       "      <td>83.0</td>\n",
       "    </tr>\n",
       "  </tbody>\n",
       "</table>\n",
       "</div>"
      ],
      "text/plain": [
       "     control    test  control_N  test_N      effect_size is_paired  \\\n",
       "0  Control 1  Test 1         20      20  mean difference      None   \n",
       "\n",
       "   difference  ci   bca_low  bca_high  pvalue_permutation  pvalue_welch  \\\n",
       "0     0.48029  95  0.205161  0.773647               0.001      0.002094   \n",
       "\n",
       "   statistic_welch  pvalue_students_t  statistic_students_t  \\\n",
       "0        -3.308806           0.002057             -3.308806   \n",
       "\n",
       "   pvalue_mann_whitney  statistic_mann_whitney  \n",
       "0             0.001625                    83.0  "
      ]
     },
     "execution_count": null,
     "metadata": {},
     "output_type": "execute_result"
    }
   ],
   "source": [
    "two_groups_unpaired.mean_diff.statistical_tests"
   ]
  },
  {
   "cell_type": "markdown",
   "metadata": {},
   "source": [
    "**Note:**\n",
    "A research paper [Phipson & Smyth (2010)](https://doi.org/10.2202/1544-6115.1585) suggested that permutation p-values should never be zero, and provided a slightly adjusted formula to compute permutation p-values. \n",
    "\n",
    "Since **v2025.03.27**, DABEST provides a `ps_adjust` parameter in the `.load()` function. This parameter allows you to adjust the permutation p-values using the formula suggested by Phipson & Smyth (2010). By default, DABEST uses the unadjusted p-values."
   ]
  },
  {
   "cell_type": "code",
   "execution_count": null,
   "metadata": {},
   "outputs": [
    {
     "data": {
      "text/html": [
       "<div>\n",
       "<style scoped>\n",
       "    .dataframe tbody tr th:only-of-type {\n",
       "        vertical-align: middle;\n",
       "    }\n",
       "\n",
       "    .dataframe tbody tr th {\n",
       "        vertical-align: top;\n",
       "    }\n",
       "\n",
       "    .dataframe thead th {\n",
       "        text-align: right;\n",
       "    }\n",
       "</style>\n",
       "<table border=\"1\" class=\"dataframe\">\n",
       "  <thead>\n",
       "    <tr style=\"text-align: right;\">\n",
       "      <th></th>\n",
       "      <th>control</th>\n",
       "      <th>test</th>\n",
       "      <th>control_N</th>\n",
       "      <th>test_N</th>\n",
       "      <th>effect_size</th>\n",
       "      <th>is_paired</th>\n",
       "      <th>difference</th>\n",
       "      <th>ci</th>\n",
       "      <th>bca_low</th>\n",
       "      <th>bca_high</th>\n",
       "      <th>pvalue_permutation</th>\n",
       "      <th>pvalue_welch</th>\n",
       "      <th>statistic_welch</th>\n",
       "      <th>pvalue_students_t</th>\n",
       "      <th>statistic_students_t</th>\n",
       "      <th>pvalue_mann_whitney</th>\n",
       "      <th>statistic_mann_whitney</th>\n",
       "    </tr>\n",
       "  </thead>\n",
       "  <tbody>\n",
       "    <tr>\n",
       "      <th>0</th>\n",
       "      <td>Control 1</td>\n",
       "      <td>Test 1</td>\n",
       "      <td>20</td>\n",
       "      <td>20</td>\n",
       "      <td>mean difference</td>\n",
       "      <td>None</td>\n",
       "      <td>0.48029</td>\n",
       "      <td>95</td>\n",
       "      <td>0.205161</td>\n",
       "      <td>0.773647</td>\n",
       "      <td>0.0012</td>\n",
       "      <td>0.002094</td>\n",
       "      <td>-3.308806</td>\n",
       "      <td>0.002057</td>\n",
       "      <td>-3.308806</td>\n",
       "      <td>0.001625</td>\n",
       "      <td>83.0</td>\n",
       "    </tr>\n",
       "  </tbody>\n",
       "</table>\n",
       "</div>"
      ],
      "text/plain": [
       "     control    test  control_N  test_N      effect_size is_paired  \\\n",
       "0  Control 1  Test 1         20      20  mean difference      None   \n",
       "\n",
       "   difference  ci   bca_low  bca_high  pvalue_permutation  pvalue_welch  \\\n",
       "0     0.48029  95  0.205161  0.773647              0.0012      0.002094   \n",
       "\n",
       "   statistic_welch  pvalue_students_t  statistic_students_t  \\\n",
       "0        -3.308806           0.002057             -3.308806   \n",
       "\n",
       "   pvalue_mann_whitney  statistic_mann_whitney  \n",
       "0             0.001625                    83.0  "
      ]
     },
     "execution_count": null,
     "metadata": {},
     "output_type": "execute_result"
    }
   ],
   "source": [
    "two_groups_unpaired_adjusted = dabest.load(df, idx=(\"Control 1\", \"Test 1\"), resamples=5000, ps_adjust=True)\n",
    "two_groups_unpaired_adjusted.mean_diff.statistical_tests"
   ]
  },
  {
   "cell_type": "markdown",
   "metadata": {},
   "source": [
    "Let's compute the *Hedges'g*   for our comparison."
   ]
  },
  {
   "cell_type": "code",
   "execution_count": null,
   "metadata": {},
   "outputs": [
    {
     "data": {
      "text/plain": [
       "DABEST v2025.03.27\n",
       "==================\n",
       "                  \n",
       "Good afternoon!\n",
       "The current time is Tue Mar 25 16:02:11 2025.\n",
       "\n",
       "The unpaired Hedges' g between Control 1 and Test 1 is 1.03 [95%CI 0.317, 1.62].\n",
       "The p-value of the two-sided permutation t-test is 0.001, calculated for legacy purposes only. \n",
       "\n",
       "5000 bootstrap samples were taken; the confidence interval is bias-corrected and accelerated.\n",
       "Any p-value reported is the probability of observing theeffect size (or greater),\n",
       "assuming the null hypothesis of zero difference is true.\n",
       "For each p-value, 5000 reshuffles of the control and test labels were performed.\n",
       "\n",
       "To get the results of all valid statistical tests, use `.hedges_g.statistical_tests`"
      ]
     },
     "execution_count": null,
     "metadata": {},
     "output_type": "execute_result"
    }
   ],
   "source": [
    "two_groups_unpaired.hedges_g"
   ]
  },
  {
   "cell_type": "code",
   "execution_count": null,
   "metadata": {},
   "outputs": [
    {
     "data": {
      "text/html": [
       "<div>\n",
       "<style scoped>\n",
       "    .dataframe tbody tr th:only-of-type {\n",
       "        vertical-align: middle;\n",
       "    }\n",
       "\n",
       "    .dataframe tbody tr th {\n",
       "        vertical-align: top;\n",
       "    }\n",
       "\n",
       "    .dataframe thead th {\n",
       "        text-align: right;\n",
       "    }\n",
       "</style>\n",
       "<table border=\"1\" class=\"dataframe\">\n",
       "  <thead>\n",
       "    <tr style=\"text-align: right;\">\n",
       "      <th></th>\n",
       "      <th>control</th>\n",
       "      <th>test</th>\n",
       "      <th>control_N</th>\n",
       "      <th>test_N</th>\n",
       "      <th>effect_size</th>\n",
       "      <th>is_paired</th>\n",
       "      <th>difference</th>\n",
       "      <th>ci</th>\n",
       "      <th>bca_low</th>\n",
       "      <th>bca_high</th>\n",
       "      <th>bca_interval_idx</th>\n",
       "      <th>pct_low</th>\n",
       "      <th>pct_high</th>\n",
       "      <th>pct_interval_idx</th>\n",
       "      <th>bootstraps</th>\n",
       "      <th>resamples</th>\n",
       "      <th>random_seed</th>\n",
       "      <th>permutations</th>\n",
       "      <th>pvalue_permutation</th>\n",
       "      <th>permutation_count</th>\n",
       "      <th>permutations_var</th>\n",
       "      <th>pvalue_welch</th>\n",
       "      <th>statistic_welch</th>\n",
       "      <th>pvalue_students_t</th>\n",
       "      <th>statistic_students_t</th>\n",
       "      <th>pvalue_mann_whitney</th>\n",
       "      <th>statistic_mann_whitney</th>\n",
       "      <th>bec_difference</th>\n",
       "      <th>bec_bootstraps</th>\n",
       "      <th>bec_bca_interval_idx</th>\n",
       "      <th>bec_bca_low</th>\n",
       "      <th>bec_bca_high</th>\n",
       "      <th>bec_pct_interval_idx</th>\n",
       "      <th>bec_pct_low</th>\n",
       "      <th>bec_pct_high</th>\n",
       "    </tr>\n",
       "  </thead>\n",
       "  <tbody>\n",
       "    <tr>\n",
       "      <th>0</th>\n",
       "      <td>Control 1</td>\n",
       "      <td>Test 1</td>\n",
       "      <td>20</td>\n",
       "      <td>20</td>\n",
       "      <td>Hedges' g</td>\n",
       "      <td>None</td>\n",
       "      <td>1.025525</td>\n",
       "      <td>95</td>\n",
       "      <td>0.316506</td>\n",
       "      <td>1.616235</td>\n",
       "      <td>(42, 4725)</td>\n",
       "      <td>0.44486</td>\n",
       "      <td>1.745146</td>\n",
       "      <td>(125, 4875)</td>\n",
       "      <td>[1.469217954462509, 1.5972518056777079, 0.6051...</td>\n",
       "      <td>5000</td>\n",
       "      <td>12345</td>\n",
       "      <td>[-0.329508986559053, 0.07158401210924781, -0.2...</td>\n",
       "      <td>0.001</td>\n",
       "      <td>5000</td>\n",
       "      <td>[0.26356588154404337, 0.2710249543904699, 0.26...</td>\n",
       "      <td>0.002094</td>\n",
       "      <td>-3.308806</td>\n",
       "      <td>0.002057</td>\n",
       "      <td>-3.308806</td>\n",
       "      <td>0.001625</td>\n",
       "      <td>83.0</td>\n",
       "      <td>0.0</td>\n",
       "      <td>[-0.2669450878059954, 0.21187593591106418, -0....</td>\n",
       "      <td>(127, 4877)</td>\n",
       "      <td>-0.642387</td>\n",
       "      <td>0.629464</td>\n",
       "      <td>(125, 4875)</td>\n",
       "      <td>-0.643604</td>\n",
       "      <td>0.627968</td>\n",
       "    </tr>\n",
       "  </tbody>\n",
       "</table>\n",
       "</div>"
      ],
      "text/plain": [
       "     control    test  control_N  test_N effect_size is_paired  difference  ci  \\\n",
       "0  Control 1  Test 1         20      20   Hedges' g      None    1.025525  95   \n",
       "\n",
       "    bca_low  bca_high bca_interval_idx  pct_low  pct_high pct_interval_idx  \\\n",
       "0  0.316506  1.616235       (42, 4725)  0.44486  1.745146      (125, 4875)   \n",
       "\n",
       "                                          bootstraps  resamples  random_seed  \\\n",
       "0  [1.469217954462509, 1.5972518056777079, 0.6051...       5000        12345   \n",
       "\n",
       "                                        permutations  pvalue_permutation  \\\n",
       "0  [-0.329508986559053, 0.07158401210924781, -0.2...               0.001   \n",
       "\n",
       "   permutation_count                                   permutations_var  \\\n",
       "0               5000  [0.26356588154404337, 0.2710249543904699, 0.26...   \n",
       "\n",
       "   pvalue_welch  statistic_welch  pvalue_students_t  statistic_students_t  \\\n",
       "0      0.002094        -3.308806           0.002057             -3.308806   \n",
       "\n",
       "   pvalue_mann_whitney  statistic_mann_whitney  bec_difference  \\\n",
       "0             0.001625                    83.0             0.0   \n",
       "\n",
       "                                      bec_bootstraps bec_bca_interval_idx  \\\n",
       "0  [-0.2669450878059954, 0.21187593591106418, -0....          (127, 4877)   \n",
       "\n",
       "   bec_bca_low  bec_bca_high bec_pct_interval_idx  bec_pct_low  bec_pct_high  \n",
       "0    -0.642387      0.629464          (125, 4875)    -0.643604      0.627968  "
      ]
     },
     "execution_count": null,
     "metadata": {},
     "output_type": "execute_result"
    }
   ],
   "source": [
    "two_groups_unpaired.hedges_g.results"
   ]
  },
  {
   "cell_type": "markdown",
   "metadata": {},
   "source": [
    "## Producing estimation plots"
   ]
  },
  {
   "cell_type": "markdown",
   "metadata": {},
   "source": [
    "To generate a **Gardner-Altman estimation plot**, simply use the\n",
    "``.plot()`` method. You can learn more about its genesis and design\n",
    "inspiration at [`robust-beautiful`](/blog/posts/robust-beautiful/robust-beautiful.ipynb).\n",
    "\n",
    "Each instance of an effect size has access to the ``.plot()`` method. This allows you to quickly create plots for different effect sizes with ease."
   ]
  },
  {
   "cell_type": "code",
   "execution_count": null,
   "metadata": {},
   "outputs": [
    {
     "data": {
      "image/png": "[encoded data removed]",
      "text/plain": [
       "<Figure size 500x400 with 2 Axes>"
      ]
     },
     "metadata": {},
     "output_type": "display_data"
    }
   ],
   "source": [
    "two_groups_unpaired.mean_diff.plot();"
   ]
  },
  {
   "cell_type": "code",
   "execution_count": null,
   "metadata": {},
   "outputs": [
    {
     "data": {
      "image/png": "[encoded data removed]",
      "text/plain": [
       "<Figure size 500x400 with 2 Axes>"
      ]
     },
     "metadata": {},
     "output_type": "display_data"
    }
   ],
   "source": [
    "two_groups_unpaired.hedges_g.plot();"
   ]
  },
  {
   "cell_type": "markdown",
   "metadata": {},
   "source": [
    "Instead of a Gardner-Altman plot, you can generate a **Cumming estimation\n",
    "plot** by setting ``float_contrast=False`` in the ``plot()`` method.\n",
    "This will plot the bootstrap effect sizes below the raw data, and also\n",
    "displays the the mean (gap) and ± standard deviation of each group\n",
    "(vertical ends) as gapped lines. This design was inspired by Edward\n",
    "Tufte's dictum to maximise the data-ink ratio."
   ]
  },
  {
   "cell_type": "code",
   "execution_count": null,
   "metadata": {},
   "outputs": [
    {
     "data": {
      "image/png": "[encoded data removed]",
      "text/plain": [
       "<Figure size 300x600 with 2 Axes>"
      ]
     },
     "metadata": {},
     "output_type": "display_data"
    }
   ],
   "source": [
    "two_groups_unpaired.hedges_g.plot(float_contrast=False);"
   ]
  },
  {
   "cell_type": "markdown",
   "metadata": {},
   "source": [
    "The confidence interval shown on the contrast axis is a BCa confidence interval by default.\n",
    "This can be modified using the `ci_type` parameter in the `.plot` method, whereby you can \n",
    "select between `bca` and `pct` (percentile)."
   ]
  },
  {
   "cell_type": "code",
   "execution_count": null,
   "metadata": {},
   "outputs": [
    {
     "data": {
      "image/png": "[encoded data removed]",
      "text/plain": [
       "<Figure size 500x400 with 2 Axes>"
      ]
     },
     "metadata": {},
     "output_type": "display_data"
    }
   ],
   "source": [
    "two_groups_unpaired.mean_diff.plot(ci_type='pct');"
   ]
  },
  {
   "cell_type": "markdown",
   "metadata": {},
   "source": [
    "### Using long (aka 'melted') data frames"
   ]
  },
  {
   "cell_type": "markdown",
   "metadata": {},
   "source": [
    "``dabest`` can also handle 'melted' or 'long' data. This term is used because each row now corresponds to a single data point, with one column carrying the value and other columns containing 'metadata'\n",
    "describing that data point.\n",
    "\n",
    "For more details on wide vs long or 'melted' data, refer to this\n",
    "[Wikipedia article](https://en.wikipedia.org/wiki/Wide_and_narrow_data). The\n",
    "[pandas documentation](https://pandas.pydata.org/pandas-docs/stable/reference/api/pandas.melt.html)\n",
    "provides recipes for melting dataframes.\n"
   ]
  },
  {
   "cell_type": "code",
   "execution_count": null,
   "metadata": {},
   "outputs": [
    {
     "data": {
      "text/html": [
       "<div>\n",
       "<style scoped>\n",
       "    .dataframe tbody tr th:only-of-type {\n",
       "        vertical-align: middle;\n",
       "    }\n",
       "\n",
       "    .dataframe tbody tr th {\n",
       "        vertical-align: top;\n",
       "    }\n",
       "\n",
       "    .dataframe thead th {\n",
       "        text-align: right;\n",
       "    }\n",
       "</style>\n",
       "<table border=\"1\" class=\"dataframe\">\n",
       "  <thead>\n",
       "    <tr style=\"text-align: right;\">\n",
       "      <th></th>\n",
       "      <th>Gender</th>\n",
       "      <th>ID</th>\n",
       "      <th>group</th>\n",
       "      <th>metric</th>\n",
       "    </tr>\n",
       "  </thead>\n",
       "  <tbody>\n",
       "    <tr>\n",
       "      <th>0</th>\n",
       "      <td>Female</td>\n",
       "      <td>1</td>\n",
       "      <td>Control 1</td>\n",
       "      <td>2.793984</td>\n",
       "    </tr>\n",
       "    <tr>\n",
       "      <th>1</th>\n",
       "      <td>Female</td>\n",
       "      <td>2</td>\n",
       "      <td>Control 1</td>\n",
       "      <td>3.236759</td>\n",
       "    </tr>\n",
       "    <tr>\n",
       "      <th>2</th>\n",
       "      <td>Female</td>\n",
       "      <td>3</td>\n",
       "      <td>Control 1</td>\n",
       "      <td>3.019149</td>\n",
       "    </tr>\n",
       "    <tr>\n",
       "      <th>3</th>\n",
       "      <td>Female</td>\n",
       "      <td>4</td>\n",
       "      <td>Control 1</td>\n",
       "      <td>2.804638</td>\n",
       "    </tr>\n",
       "    <tr>\n",
       "      <th>4</th>\n",
       "      <td>Female</td>\n",
       "      <td>5</td>\n",
       "      <td>Control 1</td>\n",
       "      <td>2.858019</td>\n",
       "    </tr>\n",
       "  </tbody>\n",
       "</table>\n",
       "</div>"
      ],
      "text/plain": [
       "   Gender  ID      group    metric\n",
       "0  Female   1  Control 1  2.793984\n",
       "1  Female   2  Control 1  3.236759\n",
       "2  Female   3  Control 1  3.019149\n",
       "3  Female   4  Control 1  2.804638\n",
       "4  Female   5  Control 1  2.858019"
      ]
     },
     "execution_count": null,
     "metadata": {},
     "output_type": "execute_result"
    }
   ],
   "source": [
    "x='group'\n",
    "y='metric'\n",
    "\n",
    "value_cols = df.columns[:-2] # select all but the \"Gender\" and \"ID\" columns.\n",
    "\n",
    "df_melted = pd.melt(df.reset_index(),\n",
    "                    id_vars=[\"Gender\", \"ID\"],\n",
    "                    value_vars=value_cols,\n",
    "                    value_name=y,\n",
    "                    var_name=x)\n",
    "\n",
    "df_melted.head() # Gives the first five rows of `df_melted`."
   ]
  },
  {
   "cell_type": "markdown",
   "metadata": {},
   "source": [
    "When your data is in this format, you need to specify the ``x`` and\n",
    "``y`` columns in ``dabest.load()``.\n"
   ]
  },
  {
   "cell_type": "code",
   "execution_count": null,
   "metadata": {},
   "outputs": [
    {
     "data": {
      "text/plain": [
       "DABEST v2025.03.27\n",
       "==================\n",
       "                  \n",
       "Good afternoon!\n",
       "The current time is Tue Mar 25 16:02:12 2025.\n",
       "\n",
       "Effect size(s) with 95% confidence intervals will be computed for:\n",
       "1. Test 1 minus Control 1\n",
       "\n",
       "5000 resamples will be used to generate the effect size bootstraps."
      ]
     },
     "execution_count": null,
     "metadata": {},
     "output_type": "execute_result"
    }
   ],
   "source": [
    "analysis_of_long_df = dabest.load(df_melted, idx=(\"Control 1\", \"Test 1\"),\n",
    "                                     x=\"group\", y=\"metric\")\n",
    "\n",
    "analysis_of_long_df"
   ]
  },
  {
   "cell_type": "markdown",
   "metadata": {},
   "source": [
    "## Dabest estimation plot designs"
   ]
  },
  {
   "cell_type": "markdown",
   "metadata": {},
   "source": [
    "The ``dabest`` package implements a range of estimation plot\n",
    "designs aimed at depicting common experimental designs:\n",
    "\n",
    "1. [Two-Group](02-two_group.html)\n",
    "   \n",
    "2. [Shared Control (Unpaired) and Repeated Measures (Paired)](03-shared_control_and_repeated_measures.html)\n",
    "   \n",
    "3. [Proportion plots](04-proportion_plot.html)\n",
    "   \n",
    "4. [Mini-Meta](05-mini_meta.html)\n",
    "   \n",
    "5. [Delta-Delta](06-delta_delta.html)\n",
    "   \n",
    "6.  [Forest Plot](07-forest_plot.html)\n",
    "   \n",
    "In addition, as of Dabest **v2025.03.27**, we introduce a new plotting orientation: **[horizontal plots](08-horizontal_plot.html)**. \n",
    "\n",
    "Lastly, we have a whole tutorial page for making [aesthetic changes to dabest plots](09-plot_aesthetics.html).\n"
   ]
  }
 ],
 "metadata": {
  "kernelspec": {
   "display_name": "python3",
   "language": "python",
   "name": "python3"
  }
 },
 "nbformat": 4,
 "nbformat_minor": 2
}
