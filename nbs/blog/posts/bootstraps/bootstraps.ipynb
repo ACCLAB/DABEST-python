{
 "cells": [
  {
   "cell_type": "markdown",
   "id": "1a3ec507",
   "metadata": {},
   "source": [
    "# Bootstrap Confidence Intervals\n",
    "\n",
    "> Explanation of the bootstrap method and its application in hypothesis testing using **DABEST**.\n",
    "\n",
    "- order: 3"
   ]
  },
  {
   "cell_type": "markdown",
   "id": "6321ea6f",
   "metadata": {},
   "source": [
    "## Sampling from populations"
   ]
  },
  {
   "cell_type": "markdown",
   "id": "49954f18",
   "metadata": {},
   "source": [
    "In a typical scientific experiment, we are interested in two populations\n",
    "(Control and Test), and whether there is a difference between their means\n",
    "$(\\mu_{Test}-\\mu_{Control})$.\n"
   ]
  },
  {
   "cell_type": "markdown",
   "id": "e12b893f",
   "metadata": {},
   "source": [
    "![](bootstrap-1.png)"
   ]
  },
  {
   "cell_type": "markdown",
   "id": "5573045c",
   "metadata": {},
   "source": [
    "We go about this by collecting observations from the control population and from the test population."
   ]
  },
  {
   "cell_type": "markdown",
   "id": "359a36fb",
   "metadata": {},
   "source": [
    "![](bootstrap-2.png)"
   ]
  },
  {
   "cell_type": "markdown",
   "id": "786aa6c8",
   "metadata": {},
   "source": [
    "We can easily compute the mean difference in our observed samples. This is our\n",
    "estimate of the population effect size that we are interested in.\n",
    "\n",
    "**But how do we obtain a measure of the precision and confidence about our estimate?\n",
    "Can we get a sense of how it relates to the population mean difference?**\n"
   ]
  },
  {
   "cell_type": "markdown",
   "id": "bfadcada",
   "metadata": {},
   "source": [
    "## The bootstrap confidence interval"
   ]
  },
  {
   "cell_type": "markdown",
   "id": "fe977cc6",
   "metadata": {},
   "source": [
    "We want to obtain a 95% confidence interval (95% CI) around our estimate of the mean difference. The 95% indicates that any such confidence interval will capture the population mean difference 95% of the time.\n",
    "\n",
    "In other words, if we were to repeat our experiment 100 times, gathering 100 independent sets of observations and computing a 95% confidence interval for the mean difference each time, 95 of these intervals would capture the population mean difference. That is to say, we can be 95% confident the interval contains the true mean of the population.\n",
    "\n",
    "We can calculate the 95% CI of the mean difference with [bootstrap resampling](https://en.wikipedia.org/wiki/Bootstrapping_(statistics)).\n"
   ]
  },
  {
   "cell_type": "markdown",
   "id": "b9d76d7f",
   "metadata": {},
   "source": [
    "### The bootstrap in action"
   ]
  },
  {
   "cell_type": "markdown",
   "id": "0685adaf",
   "metadata": {},
   "source": [
    "The [`bootstrap`](#1)[1] is a simple but powerful technique. It was [first described](https://projecteuclid.org/euclid.aos/1176344552) by [Bradley Efron](https://statistics.stanford.edu/people/bradley-efron).\n",
    "\n",
    "It creates multiple *resamples* (with replacement) from a single set of\n",
    "observations, and computes the effect size of interest on each of these\n",
    "resamples. The bootstrap resamples of the effect size can then be used to\n",
    "determine the 95% CI.\n",
    "\n",
    "With computers, we can perform 5000 resamples very easily."
   ]
  },
  {
   "cell_type": "markdown",
   "id": "87e785c4",
   "metadata": {},
   "source": [
    "![](bootstrap-3.png)"
   ]
  },
  {
   "cell_type": "markdown",
   "id": "0b68ae9c",
   "metadata": {},
   "source": [
    "The resampling distribution of the difference in means approaches a normal\n",
    "distribution. This is due to the [Central Limit Theorem](https://en.wikipedia.org/wiki/Central_limit_theorem): a large number of\n",
    "independent random samples will approach a normal distribution even if the\n",
    "underlying population is not normally distributed.\n",
    "\n",
    "Bootstrap resampling gives us two important benefits:\n",
    "\n",
    "1. *Non-parametric statistical analysis.* There is no need to assume that our\n",
    "observations, or the underlying populations, are normally distributed. Thanks to\n",
    "the Central Limit Theorem, the resampling distribution of the effect size will\n",
    "approach a normality.\n",
    "\n",
    "2. *Easy construction of the 95% CI from the resampling distribution.* In the context of bootstrap resampling or other non-parametric methods, the 2.5th and 97.5th percentiles are often used to define the lower and upper limits, respectively. The use of these percentiles ensures that the resulting interval contains the central 95% of the resampled distribution. Such an interval construction is known as a *percentile interval*."
   ]
  },
  {
   "cell_type": "markdown",
   "id": "cc5b9fa3",
   "metadata": {},
   "source": [
    "## Adjusting for asymmetrical resampling distributions"
   ]
  },
  {
   "cell_type": "markdown",
   "id": "e83634e9",
   "metadata": {},
   "source": [
    "While resampling distributions of the difference in means often have a normal\n",
    "distribution, it is not uncommon to encounter a skewed distribution. Thus, Efron\n",
    "developed the [bias-corrected and accelerated bootstrap](https://en.wikipedia.org/wiki/Bootstrapping_(statistics)#History) (BCa bootstrap) to account for the skew, and still obtain the central 95% of the\n",
    "distribution.\n",
    "\n",
    "**DABEST** applies the BCa correction to the resampling bootstrap distributions of\n",
    "the effect size."
   ]
  },
  {
   "cell_type": "markdown",
   "id": "88ab2684",
   "metadata": {},
   "source": [
    "![](bootstrap-4.png)"
   ]
  },
  {
   "cell_type": "markdown",
   "id": "c1f02904",
   "metadata": {},
   "source": [
    "## Estimation plots incorporate bootstrap resampling"
   ]
  },
  {
   "cell_type": "markdown",
   "id": "fb1a8fa6",
   "metadata": {},
   "source": [
    "The estimation plot produced by DABEST presents the raw data and the bootstrap\n",
    "confidence interval of the effect size (the difference in means) side-by-side as\n",
    "a single integrated plot."
   ]
  },
  {
   "cell_type": "markdown",
   "id": "418f5fb4",
   "metadata": {},
   "source": [
    "![](bootstrap-5.png)"
   ]
  },
  {
   "cell_type": "markdown",
   "id": "eaad7dd5",
   "metadata": {},
   "source": [
    "Thus, it tightly couples a visual presentation of the raw data with an indication of the population mean difference plus its confidence interval."
   ]
  },
  {
   "cell_type": "markdown",
   "id": "c540cd14",
   "metadata": {},
   "source": [
    "<a id='1'></a>\n",
    "`[1]`: The name is derived from the saying \"[pull oneself by one's bootstraps](https://en.wiktionary.org/wiki/pull_oneself_up_by_one%27s_bootstraps)\", often used as an exhortation to achieve success without external help.\n"
   ]
  }
 ],
 "metadata": {
  "kernelspec": {
   "display_name": "python3",
   "language": "python",
   "name": "python3"
  }
 },
 "nbformat": 4,
 "nbformat_minor": 5
}
