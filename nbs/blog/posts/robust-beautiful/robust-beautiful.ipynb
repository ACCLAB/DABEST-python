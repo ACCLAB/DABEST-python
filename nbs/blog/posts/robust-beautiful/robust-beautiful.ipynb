{
 "cells": [
  {
   "cell_type": "markdown",
   "id": "5b2f1637",
   "metadata": {},
   "source": [
    "# Robust and Beautiful Statistical Visualization\n",
    "\n",
    "- order: 3"
   ]
  },
  {
   "cell_type": "markdown",
   "id": "f086f2b7",
   "metadata": {},
   "source": [
    "## Current plots do not work"
   ]
  },
  {
   "cell_type": "markdown",
   "id": "3146c6cf",
   "metadata": {},
   "source": [
    "What is data visualization? Battle-Baptiste and Rusert (2018) give a\n",
    "cogent and compelling definition:\n",
    "\n",
    "   [`Data visualization`](#1)[1] is the rendering of information in a visual\n",
    "    format to help communicate data while also generating new patterns\n",
    "    and knowledge through the act of visualization itself. \n",
    "\n",
    "Sadly, too many figures and visualizations in modern academic\n",
    "publications seemingly fail to \"generate new patterns and knowledge\n",
    "through the act of visualization itself\". Here, we propose a solution:\n",
    "*the estimation plot*."
   ]
  },
  {
   "cell_type": "markdown",
   "id": "d30acb26",
   "metadata": {},
   "source": [
    "### The barplot conceals the underlying shape"
   ]
  },
  {
   "cell_type": "markdown",
   "id": "c5fee24b",
   "metadata": {},
   "source": [
    "By only displaying the mean and standard deviation, barplots do not\n",
    "accurately represent the underlying distribution of the data.\n"
   ]
  },
  {
   "cell_type": "markdown",
   "id": "9e1ffa32",
   "metadata": {},
   "source": [
    "![](robust_5_1.png)"
   ]
  },
  {
   "cell_type": "markdown",
   "id": "21f7b0cf",
   "metadata": {},
   "source": [
    "In the above figure, four different samples with wildly different\n",
    "distributions--as seen in the swarmplot on the left panel--look exactly\n",
    "the same when visualized with a barplot on the right panel. (You can\n",
    "download the [dataset](four_samples.csv) to see for yourself.)\n",
    "\n",
    "We're not the first ones (see these articles:\n",
    "[article 1](https://www.nature.com/articles/nmeth.2837),\n",
    "[article 2](http://journals.plos.org/plosbiology/article?id=10.1371/journal.pbio.1002128),\n",
    "or\n",
    "[article 3](https://onlinelibrary.wiley.com/doi/full/10.1111/ejn.13400))\n",
    "to point out the barplot's fatal flaws. Indeed, it is both sobering and\n",
    "fascinating to realise that the barplot is a [17th century\n",
    "invention](https://en.wikipedia.org/wiki/Bar_chart#History) initially\n",
    "used to compare single values, not to compare summarized and aggregated\n",
    "data. "
   ]
  },
  {
   "cell_type": "markdown",
   "id": "a9be5a36",
   "metadata": {},
   "source": [
    "### The boxplot does not convey sample size"
   ]
  },
  {
   "cell_type": "markdown",
   "id": "0efd5b25",
   "metadata": {},
   "source": [
    "Boxplots are another widely used visualization tool. They arguably do\n",
    "include more information for each sample (medians, quartiles, maxima,\n",
    "minima, and outliers), but they do not convey to the viewer the size of\n",
    "each sample."
   ]
  },
  {
   "cell_type": "markdown",
   "id": "9bff917e",
   "metadata": {},
   "source": [
    "![](robust_7_1.png)"
   ]
  },
  {
   "cell_type": "markdown",
   "id": "7cd5dc07",
   "metadata": {},
   "source": [
    "The figure above visualizes the same four samples as a swarmplot (left\n",
    "panel) and as a boxplot. If we did not label the x-axis with the sample\n",
    "size, it would be impossible to definitively distinguish the sample with\n",
    "5 observations from the sample with 50.\n",
    "\n",
    "Even if the world gets rid of barplots and boxplots, the problems\n",
    "plaguing statistical practices will remain unsolved. Null-hypothesis\n",
    "significance testing--the dominant statistical paradigm in basic\n",
    "research--does not indicate the **effect size**, or its **confidence\n",
    "interval**."
   ]
  },
  {
   "cell_type": "markdown",
   "id": "3d2c600c",
   "metadata": {},
   "source": [
    "## Introducing the Estimation Plot"
   ]
  },
  {
   "cell_type": "markdown",
   "id": "41652f5d",
   "metadata": {},
   "source": [
    "![](robust_9_0.png)"
   ]
  },
  {
   "cell_type": "markdown",
   "id": "a7e3b1ad",
   "metadata": {},
   "source": [
    "This is a *Gardner-Altman* estimation plot. The plot draws its name from\n",
    "[Martin J. Gardner](https://www.independent.co.uk/news/people/obituary-professor-martin-gardner-1470261.html)\n",
    "and [Douglas Altman](https://www.bmj.com/content/361/bmj.k2588), who are\n",
    "credited with [creating the design](https://www.bmj.com/content/bmj/292/6522/746.full.pdf) in 1986.\n",
    "\n",
    "This plot has two key features:\n",
    "\n",
    "  1. It presents all data points as a swarmplot, ordering each point to display the underlying distribution.\n",
    "\n",
    "  2. It presents the effect size as a *bootstrap 95% confidence interval* (95% CI)\n",
    "  on a separate but aligned axis. The effect size is displayed to the right of the raw data, and the mean of the test group is aligned with the effect size.\"\n",
    "\n",
    "<div style=\"padding: 15px; border: 1px solid transparent; border-color: transparent; margin-bottom: 20px; border-radius: 4px; color: #31708f; background-color: #d9edf7; border-color: #bce8f1;\"> Thus, estimation plots are robust, beautiful, and convey important statistical\n",
    "information elegantly and efficiently. </div>\n",
    "\n",
    "\n",
    "An estimation plot obtains and displays the 95% CI through nonparametric\n",
    "bootstrap resampling. This enables visualization of the confidence interval as\n",
    "a graded sampling distribution.\n",
    "\n",
    "This is one important difference between estimation plots created by DABEST, and\n",
    "the original Gardner-Altman design. Here, the 95% CI is computed through\n",
    "parametric methods, and displayed as a vertical error bar.\n",
    "\n",
    "Read more about this technique at [bootstraps](03-bootstraps.ipynb). "
   ]
  },
  {
   "cell_type": "markdown",
   "id": "fe2e12b5",
   "metadata": {},
   "source": [
    "### Introducing Estimation Statistics"
   ]
  },
  {
   "cell_type": "markdown",
   "id": "e21d785b",
   "metadata": {},
   "source": [
    "Estimation plots emerge from *estimation statistics*, a simple\n",
    "[framework](https://thenewstatistics.com/itns/) that avoids the\n",
    "[pitfalls of significance\n",
    "testing](https://www.nature.com/articles/nmeth.3288). It focuses on\n",
    "the effect sizes of one's experiment/interventions, and uses familiar\n",
    "statistical concepts: means, mean differences, and error bars.\n",
    "\n",
    "Significance testing calculates the probability (the *P* value) that the\n",
    "experimental data would be observed, if the intervention did not produce\n",
    "a change in the metric measured (i.e. the null hypothesis). This leads\n",
    "analysts to apply a false dichotomy on the experimental intervention.\n",
    "\n",
    "Estimation statistics, on the other hand, focuses on the magnitude of\n",
    "the effect (the effect size) and its precision. This encourages analysts\n",
    "to gain a deeper understanding of the metrics used, and how they relate\n",
    "to the natural processes being studied."
   ]
  },
  {
   "cell_type": "markdown",
   "id": "36e0fe1e",
   "metadata": {},
   "source": [
    "## An Estimation Plot For Every Experimental Design"
   ]
  },
  {
   "cell_type": "markdown",
   "id": "d2668b9c",
   "metadata": {},
   "source": [
    "For each of the most routine significance tests, there is an estimation\n",
    "replacement:"
   ]
  },
  {
   "cell_type": "markdown",
   "id": "ab4458b8",
   "metadata": {},
   "source": [
    "### Unpaired Student's t-test --> Two-group estimation plot"
   ]
  },
  {
   "cell_type": "markdown",
   "id": "af5b3ccb",
   "metadata": {},
   "source": [
    "![](robust_12_0.png)"
   ]
  },
  {
   "cell_type": "markdown",
   "id": "e408503b",
   "metadata": {},
   "source": [
    "### Paired Student's t-test --> Paired estimation plot"
   ]
  },
  {
   "cell_type": "markdown",
   "id": "6998d765",
   "metadata": {},
   "source": [
    "\n",
    "The Gardner-Altman estimation plot can also display effect sizes for\n",
    "repeated measures (aka a paired experimental design) using a [Tufte\n",
    "slopegraph](http://charliepark.org/slopegraphs/) instead of a\n",
    "swarmplot."
   ]
  },
  {
   "cell_type": "markdown",
   "id": "fdb34170",
   "metadata": {},
   "source": [
    "![](robust_14_0.png)"
   ]
  },
  {
   "cell_type": "markdown",
   "id": "6e6fd77d",
   "metadata": {},
   "source": [
    "### One-way ANOVA + multiple comparisons --> Multi two-group estimation plot"
   ]
  },
  {
   "cell_type": "markdown",
   "id": "b7b643f8",
   "metadata": {},
   "source": [
    "For comparisons between three or more groups that typically employ analysis\n",
    "of variance (ANOVA) methods, one can use the [Cumming estimation\n",
    "plot](https://en.wikipedia.org/wiki/Estimation_statistics#Cumming_plot),\n",
    "named after [Geoff Cumming](https://www.youtube.com/watch?v=nDN-hcKR7j8), and draws its\n",
    "design heavily from his 2012 textbook [\"Understanding the New Statistics\"](https://www.routledge.com/Understanding-The-New-Statistics-Effect-Sizes-Confidence-Intervals-and/Cumming/p/book/9780415879682).\n",
    "This estimation plot design can be considered a variant of the\n",
    "Gardner-Altman plot.\n"
   ]
  },
  {
   "cell_type": "markdown",
   "id": "3f38c1fe",
   "metadata": {},
   "source": [
    "![](robust_16_0.png)"
   ]
  },
  {
   "cell_type": "markdown",
   "id": "b443b0a8",
   "metadata": {},
   "source": [
    "The effect size and 95% CIs are still plotted on a separate axis, but\n",
    "unlike the Gardner-Altman plot, this axis is positioned beneath the raw\n",
    "data.\n",
    "\n",
    "Such a design frees up visual space in the upper panel, allowing the\n",
    "display of summary measurements (mean ± standard deviation) for each\n",
    "group. These are shown as gapped lines to the right of each group. The\n",
    "mean of each group is indicated as a gap in the line, adhering to Edward\n",
    "Tufte's dictum to [keep the data-ink ratio\n",
    "low](https://medium.com/@plotlygraphs/maximizing-the-data-ink-ratio-in-dashboards-and-slide-deck-7887f7c1fab).\n"
   ]
  },
  {
   "cell_type": "markdown",
   "id": "da932b0e",
   "metadata": {},
   "source": [
    "### Repeated measures ANOVA --> Multi paired estimation plot"
   ]
  },
  {
   "cell_type": "markdown",
   "id": "f0442420",
   "metadata": {},
   "source": [
    "![](robust_19_0.png)"
   ]
  },
  {
   "cell_type": "markdown",
   "id": "2769a16c",
   "metadata": {},
   "source": [
    "### Ordered groups ANOVA --> Shared-control estimation plot"
   ]
  },
  {
   "cell_type": "markdown",
   "id": "6eb943a9",
   "metadata": {},
   "source": [
    "![](robust_21_0.png)"
   ]
  },
  {
   "cell_type": "markdown",
   "id": "7bde79f4",
   "metadata": {},
   "source": [
    "### Estimation Plots: The Way Forward"
   ]
  },
  {
   "cell_type": "markdown",
   "id": "2e221c93",
   "metadata": {},
   "source": [
    "In summary, estimation plots offer five key benefits relative to\n",
    "conventional plots:"
   ]
  },
  {
   "cell_type": "markdown",
   "id": "fddf7595",
   "metadata": {},
   "source": [
    "|                     | Barplot | Boxplot | Estimation Plot |\n",
    "|---------------------|---------|---------|----------------|\n",
    "| Displays all observed values      |  NO    |   NO    |          Yes      |\n",
    "| Avoids false dichotomy             |  NO    |   NO    |          Yes      |\n",
    "| Focusses on effect size            |  NO    |   NO    |          Yes      |\n",
    "| Visualizes effect size precision   |  NO    |   NO    |          Yes      |\n",
    "| Shows mean difference distribution |  NO    |   NO    |          Yes      |"
   ]
  },
  {
   "cell_type": "markdown",
   "id": "714f26b5",
   "metadata": {},
   "source": [
    "You can create estimation plots using the DABEST (Data Analysis with\n",
    "Bootstrap Estimation) packages, which are available in\n",
    "[Matlab](https://github.com/ACCLAB/DABEST-Matlab),\n",
    "[Python](https://github.com/ACCLAB/DABEST-python), and\n",
    "[R](https://github.com/ACCLAB/dabestr)."
   ]
  },
  {
   "cell_type": "markdown",
   "id": "c55bb639",
   "metadata": {},
   "source": [
    "<a id='1'></a>\n",
    "`[1]`:[W. E. B. Du Bois's Data Portraits: Visualizing Black America](https://www.papress.com/html/product.details.dna?isbn=9781616897062). Edited by Whitney Battle-Baptiste and Britt Rusert, Princeton Architectural Press, 2018\n"
   ]
  },
  {
   "cell_type": "code",
   "execution_count": null,
   "id": "a43239a3",
   "metadata": {},
   "outputs": [],
   "source": []
  }
 ],
 "metadata": {
  "kernelspec": {
   "display_name": "python3",
   "language": "python",
   "name": "python3"
  }
 },
 "nbformat": 4,
 "nbformat_minor": 5
}
